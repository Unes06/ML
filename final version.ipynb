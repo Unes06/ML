{
 "cells": [
  {
   "attachments": {},
   "cell_type": "markdown",
   "metadata": {},
   "source": [
    "*Importing the Essential Libraries*"
   ]
  },
  {
   "cell_type": "code",
   "execution_count": 990,
   "metadata": {},
   "outputs": [],
   "source": [
    "import pandas as pd\n",
    "import numpy as np\n",
    "import seaborn as sns \n",
    "import matplotlib.pyplot as plt\n"
   ]
  },
  {
   "attachments": {},
   "cell_type": "markdown",
   "metadata": {},
   "source": [
    "*Loading the Data:*"
   ]
  },
  {
   "cell_type": "code",
   "execution_count": 991,
   "metadata": {},
   "outputs": [],
   "source": [
    "df=pd.read_csv(\"C:/Users/Unes/Desktop/ra9's project/new_cars_data_2.csv\")\n"
   ]
  },
  {
   "attachments": {},
   "cell_type": "markdown",
   "metadata": {},
   "source": [
    "*Exploratory Data Analysis:*\n"
   ]
  },
  {
   "cell_type": "code",
   "execution_count": 992,
   "metadata": {},
   "outputs": [
    {
     "data": {
      "text/plain": [
       "(879, 83)"
      ]
     },
     "execution_count": 992,
     "metadata": {},
     "output_type": "execute_result"
    }
   ],
   "source": [
    "df.shape #check shape of the dataset\n"
   ]
  },
  {
   "attachments": {},
   "cell_type": "markdown",
   "metadata": {},
   "source": [
    "*Show the dtypes of columns and how many non-null values are there in those columns:*\n",
    "\n"
   ]
  },
  {
   "cell_type": "code",
   "execution_count": 993,
   "metadata": {},
   "outputs": [
    {
     "name": "stdout",
     "output_type": "stream",
     "text": [
      "<class 'pandas.core.frame.DataFrame'>\n",
      "RangeIndex: 879 entries, 0 to 878\n",
      "Data columns (total 83 columns):\n",
      " #   Column                                       Non-Null Count  Dtype  \n",
      "---  ------                                       --------------  -----  \n",
      " 0   Unnamed: 0                                   879 non-null    int64  \n",
      " 1   Brand                                        879 non-null    object \n",
      " 2   Model                                        879 non-null    object \n",
      " 3   Price                                        879 non-null    object \n",
      " 4   Moteur                                       848 non-null    object \n",
      " 5   Energie                                      848 non-null    object \n",
      " 6   Architecture                                 847 non-null    object \n",
      " 7   Cylindrée                                    819 non-null    object \n",
      " 8   Puissance fiscale                            850 non-null    object \n",
      " 9   Puissance maxi.                              850 non-null    object \n",
      " 10  Couple maxi.                                 850 non-null    object \n",
      " 11  Boîte à vitesse                              848 non-null    object \n",
      " 12  Palettes au volant                           455 non-null    object \n",
      " 13  Conso. ville                                 819 non-null    object \n",
      " 14  Conso. route                                 819 non-null    object \n",
      " 15  Conso. mixte                                 850 non-null    object \n",
      " 16  Emission CO2                                 819 non-null    object \n",
      " 17  Vitesse maxi.                                850 non-null    object \n",
      " 18  Accélération 0-100 km/h                      850 non-null    object \n",
      " 19  Catégorie                                    849 non-null    object \n",
      " 20  Carrosserie                                  849 non-null    object \n",
      " 21  Nombre de places                             849 non-null    object \n",
      " 22  Poids à vide                                 849 non-null    object \n",
      " 23  Longueur                                     849 non-null    object \n",
      " 24  Largeur                                      849 non-null    object \n",
      " 25  Hauteur                                      849 non-null    object \n",
      " 26  Empattement                                  849 non-null    object \n",
      " 27  Volume du réservoir                          818 non-null    object \n",
      " 28  Volume de coffre                             849 non-null    object \n",
      " 29  Airbags                                      850 non-null    float64\n",
      " 30  ABS                                          850 non-null    object \n",
      " 31  ESP                                          850 non-null    object \n",
      " 32  Antipatinage                                 850 non-null    object \n",
      " 33  Aide au freinage d'urgence                   850 non-null    object \n",
      " 34  Antidémarrage électronique                   850 non-null    object \n",
      " 35  Aide au démarrage en côte                    850 non-null    object \n",
      " 36  Sélecteur de mode de conduite                850 non-null    object \n",
      " 37  Détection de fatigue                         850 non-null    object \n",
      " 38  Système d'alerte de franchissement de ligne  850 non-null    object \n",
      " 39  Détecteur d'angle mort                       850 non-null    object \n",
      " 40  Détecteur de sous-gonflage                   850 non-null    object \n",
      " 41  Fermeture de portes en roulant               850 non-null    object \n",
      " 42  Système d'alarme                             850 non-null    object \n",
      " 43  Phares antibrouillard                        850 non-null    object \n",
      " 44  Préparation ISOFIX                           850 non-null    object \n",
      " 45  Climatisation                                850 non-null    object \n",
      " 46  Système audio                                850 non-null    object \n",
      " 47  Ordinateur de bord                           850 non-null    object \n",
      " 48  Start & Stop                                 850 non-null    object \n",
      " 49  Régulateur de vitesse                        850 non-null    object \n",
      " 50  Régulateur de vitesse adaptatif              850 non-null    object \n",
      " 51  Détecteur de pluie                           850 non-null    object \n",
      " 52  Allumage auto. des feux                      850 non-null    object \n",
      " 53  Frein à main électrique                      850 non-null    object \n",
      " 54  Ecran tactile                                850 non-null    object \n",
      " 55  Instrumentation de bord digitale             850 non-null    object \n",
      " 56  Reconnaissance de panneaux                   850 non-null    object \n",
      " 57  Affichage Tête-Haute                         850 non-null    object \n",
      " 58  Aide au stationnement                        850 non-null    object \n",
      " 59  Caméra de recul                              850 non-null    object \n",
      " 60  Park Assist Auto.                            850 non-null    object \n",
      " 61  Commandes au volant                          850 non-null    object \n",
      " 62  Volant réglable                              850 non-null    object \n",
      " 63  Vitres électriques                           850 non-null    object \n",
      " 64  Rétroviseurs électriques                     850 non-null    object \n",
      " 65  Rétroviseurs rabattables électriquement      850 non-null    object \n",
      " 66  Coffre électrique                            850 non-null    object \n",
      " 67  Démarrage mains libres                       850 non-null    object \n",
      " 68  Sièges électriques                           850 non-null    object \n",
      " 69  Sièges électriques avec fonction mémoire     850 non-null    object \n",
      " 70  Banquette arrière rabattable 1/3-2/3         850 non-null    object \n",
      " 71  Système de navigation GPS                    850 non-null    object \n",
      " 72  Connexion Internet                           850 non-null    object \n",
      " 73  Bluetooth                                    850 non-null    object \n",
      " 74  Follow-me home                               850 non-null    object \n",
      " 75  Jantes aluminium                             850 non-null    object \n",
      " 76  Volant cuir                                  850 non-null    object \n",
      " 77  Feux de jour                                 850 non-null    object \n",
      " 78  Phares à LED                                 850 non-null    object \n",
      " 79  Vitres sur-teintées                          850 non-null    object \n",
      " 80  Sellerie                                     846 non-null    object \n",
      " 81  Toit                                         850 non-null    object \n",
      " 82  Barres de toit                               850 non-null    object \n",
      "dtypes: float64(1), int64(1), object(81)\n",
      "memory usage: 570.1+ KB\n"
     ]
    }
   ],
   "source": [
    "df.info() \n"
   ]
  },
  {
   "cell_type": "code",
   "execution_count": 994,
   "metadata": {},
   "outputs": [
    {
     "data": {
      "text/plain": [
       "Index(['Unnamed: 0', 'Brand', 'Model', 'Price', 'Moteur', 'Energie',\n",
       "       'Architecture', 'Cylindrée', 'Puissance fiscale', 'Puissance maxi.',\n",
       "       'Couple maxi.', 'Boîte à vitesse', 'Palettes au volant', 'Conso. ville',\n",
       "       'Conso. route', 'Conso. mixte', 'Emission CO2', 'Vitesse maxi.',\n",
       "       'Accélération 0-100 km/h', 'Catégorie', 'Carrosserie',\n",
       "       'Nombre de places', 'Poids à vide', 'Longueur', 'Largeur', 'Hauteur',\n",
       "       'Empattement', 'Volume du réservoir', 'Volume de coffre', 'Airbags',\n",
       "       'ABS', 'ESP', 'Antipatinage', 'Aide au freinage d'urgence',\n",
       "       'Antidémarrage électronique', 'Aide au démarrage en côte',\n",
       "       'Sélecteur de mode de conduite', 'Détection de fatigue',\n",
       "       'Système d'alerte de franchissement de ligne', 'Détecteur d'angle mort',\n",
       "       'Détecteur de sous-gonflage', 'Fermeture de portes en roulant',\n",
       "       'Système d'alarme', 'Phares antibrouillard', 'Préparation ISOFIX',\n",
       "       'Climatisation', 'Système audio', 'Ordinateur de bord', 'Start & Stop',\n",
       "       'Régulateur de vitesse', 'Régulateur de vitesse adaptatif',\n",
       "       'Détecteur de pluie', 'Allumage auto. des feux',\n",
       "       'Frein à main électrique', 'Ecran tactile',\n",
       "       'Instrumentation de bord digitale', 'Reconnaissance de panneaux',\n",
       "       'Affichage Tête-Haute', 'Aide au stationnement', 'Caméra de recul',\n",
       "       'Park Assist Auto.', 'Commandes au volant', 'Volant réglable',\n",
       "       'Vitres électriques', 'Rétroviseurs électriques',\n",
       "       'Rétroviseurs rabattables électriquement', 'Coffre électrique',\n",
       "       'Démarrage mains libres', 'Sièges électriques',\n",
       "       'Sièges électriques avec fonction mémoire',\n",
       "       'Banquette arrière rabattable 1/3-2/3', 'Système de navigation GPS',\n",
       "       'Connexion Internet', 'Bluetooth', 'Follow-me home', 'Jantes aluminium',\n",
       "       'Volant cuir', 'Feux de jour', 'Phares à LED', 'Vitres sur-teintées',\n",
       "       'Sellerie', 'Toit', 'Barres de toit'],\n",
       "      dtype='object')"
      ]
     },
     "execution_count": 994,
     "metadata": {},
     "output_type": "execute_result"
    }
   ],
   "source": [
    "df.columns #shows columns\n"
   ]
  },
  {
   "attachments": {},
   "cell_type": "markdown",
   "metadata": {},
   "source": [
    "**Preprocessing:**"
   ]
  },
  {
   "cell_type": "code",
   "execution_count": 995,
   "metadata": {},
   "outputs": [],
   "source": [
    "new_cols =['Brand','Model','Price', 'Moteur', 'Energie', 'Puissance maxi.', 'Boîte à vitesse', 'Conso. mixte', 'Vitesse maxi.','Nombre de places', 'Longueur', 'Largeur', 'Hauteur',\n",
    "'Volume du réservoir', 'Volume de coffre', 'Airbags', 'ABS', 'ESP','Antipatinage','Climatisation','Système de navigation GPS','Bluetooth']"
   ]
  },
  {
   "cell_type": "code",
   "execution_count": 996,
   "metadata": {},
   "outputs": [],
   "source": [
    "new_df= df.loc[:, new_cols]"
   ]
  },
  {
   "cell_type": "code",
   "execution_count": 997,
   "metadata": {},
   "outputs": [
    {
     "data": {
      "text/plain": [
       "0"
      ]
     },
     "execution_count": 997,
     "metadata": {},
     "output_type": "execute_result"
    }
   ],
   "source": [
    "new_df['Price'].isna().sum()"
   ]
  },
  {
   "cell_type": "code",
   "execution_count": 998,
   "metadata": {},
   "outputs": [
    {
     "data": {
      "text/plain": [
       "Brand                         0\n",
       "Model                         0\n",
       "Price                         0\n",
       "Moteur                       31\n",
       "Energie                      31\n",
       "Puissance maxi.              29\n",
       "Boîte à vitesse              31\n",
       "Conso. mixte                 29\n",
       "Vitesse maxi.                29\n",
       "Nombre de places             30\n",
       "Longueur                     30\n",
       "Largeur                      30\n",
       "Hauteur                      30\n",
       "Volume du réservoir          61\n",
       "Volume de coffre             30\n",
       "Airbags                      29\n",
       "ABS                          29\n",
       "ESP                          29\n",
       "Antipatinage                 29\n",
       "Climatisation                29\n",
       "Système de navigation GPS    29\n",
       "Bluetooth                    29\n",
       "dtype: int64"
      ]
     },
     "execution_count": 998,
     "metadata": {},
     "output_type": "execute_result"
    }
   ],
   "source": [
    "new_df.isna().sum()"
   ]
  },
  {
   "attachments": {},
   "cell_type": "markdown",
   "metadata": {},
   "source": [
    "*Tidy up our data:*"
   ]
  },
  {
   "cell_type": "code",
   "execution_count": 999,
   "metadata": {},
   "outputs": [
    {
     "data": {
      "text/html": [
       "<div>\n",
       "<style scoped>\n",
       "    .dataframe tbody tr th:only-of-type {\n",
       "        vertical-align: middle;\n",
       "    }\n",
       "\n",
       "    .dataframe tbody tr th {\n",
       "        vertical-align: top;\n",
       "    }\n",
       "\n",
       "    .dataframe thead th {\n",
       "        text-align: right;\n",
       "    }\n",
       "</style>\n",
       "<table border=\"1\" class=\"dataframe\">\n",
       "  <thead>\n",
       "    <tr style=\"text-align: right;\">\n",
       "      <th></th>\n",
       "      <th>Brand</th>\n",
       "      <th>Model</th>\n",
       "      <th>Price</th>\n",
       "      <th>Moteur</th>\n",
       "      <th>Energie</th>\n",
       "      <th>Puissance maxi.</th>\n",
       "      <th>Boîte à vitesse</th>\n",
       "      <th>Conso. mixte</th>\n",
       "      <th>Vitesse maxi.</th>\n",
       "      <th>Nombre de places</th>\n",
       "      <th>...</th>\n",
       "      <th>Hauteur</th>\n",
       "      <th>Volume du réservoir</th>\n",
       "      <th>Volume de coffre</th>\n",
       "      <th>Airbags</th>\n",
       "      <th>ABS</th>\n",
       "      <th>ESP</th>\n",
       "      <th>Antipatinage</th>\n",
       "      <th>Climatisation</th>\n",
       "      <th>Système de navigation GPS</th>\n",
       "      <th>Bluetooth</th>\n",
       "    </tr>\n",
       "  </thead>\n",
       "  <tbody>\n",
       "    <tr>\n",
       "      <th>75</th>\n",
       "      <td>AUDI</td>\n",
       "      <td>e-Tron</td>\n",
       "      <td>1.050.000 DH *   * Prix public</td>\n",
       "      <td>Electrique à 360 kW</td>\n",
       "      <td>Electrique</td>\n",
       "      <td>408 ch</td>\n",
       "      <td>Automatique -</td>\n",
       "      <td>21,4 Kw/100 km</td>\n",
       "      <td>200 km/h</td>\n",
       "      <td>5</td>\n",
       "      <td>...</td>\n",
       "      <td>163 cm</td>\n",
       "      <td>NaN</td>\n",
       "      <td>600 litre</td>\n",
       "      <td>8.0</td>\n",
       "      <td>oui</td>\n",
       "      <td>oui</td>\n",
       "      <td>oui</td>\n",
       "      <td>auto. Quadri-zone</td>\n",
       "      <td>oui</td>\n",
       "      <td>oui</td>\n",
       "    </tr>\n",
       "    <tr>\n",
       "      <th>76</th>\n",
       "      <td>AUDI</td>\n",
       "      <td>e-Tron</td>\n",
       "      <td>1.110.000 DH *   * Prix public</td>\n",
       "      <td>Electrique à 360 kW</td>\n",
       "      <td>Electrique</td>\n",
       "      <td>408 ch</td>\n",
       "      <td>Automatique -</td>\n",
       "      <td>21,4 Kw/100 km</td>\n",
       "      <td>200 km/h</td>\n",
       "      <td>5</td>\n",
       "      <td>...</td>\n",
       "      <td>163 cm</td>\n",
       "      <td>NaN</td>\n",
       "      <td>600 litre</td>\n",
       "      <td>8.0</td>\n",
       "      <td>oui</td>\n",
       "      <td>oui</td>\n",
       "      <td>oui</td>\n",
       "      <td>auto. Quadri-zone</td>\n",
       "      <td>oui</td>\n",
       "      <td>oui</td>\n",
       "    </tr>\n",
       "    <tr>\n",
       "      <th>77</th>\n",
       "      <td>AUDI</td>\n",
       "      <td>e-Tron Sportback</td>\n",
       "      <td>1.110.000 DH *   * Prix public</td>\n",
       "      <td>Electrique à 360 kW</td>\n",
       "      <td>Electrique</td>\n",
       "      <td>408 ch</td>\n",
       "      <td>Automatique -</td>\n",
       "      <td>21,4 Kw/100 km</td>\n",
       "      <td>200 km/h</td>\n",
       "      <td>5</td>\n",
       "      <td>...</td>\n",
       "      <td>163 cm</td>\n",
       "      <td>NaN</td>\n",
       "      <td>600 litre</td>\n",
       "      <td>8.0</td>\n",
       "      <td>oui</td>\n",
       "      <td>oui</td>\n",
       "      <td>oui</td>\n",
       "      <td>auto. Quadri-zone</td>\n",
       "      <td>oui</td>\n",
       "      <td>oui</td>\n",
       "    </tr>\n",
       "    <tr>\n",
       "      <th>78</th>\n",
       "      <td>AUDI</td>\n",
       "      <td>e-Tron Sportback</td>\n",
       "      <td>1.170.000 DH *   * Prix public</td>\n",
       "      <td>Electrique à 360 kW</td>\n",
       "      <td>Electrique</td>\n",
       "      <td>408 ch</td>\n",
       "      <td>Automatique -</td>\n",
       "      <td>21,4 Kw/100 km</td>\n",
       "      <td>200 km/h</td>\n",
       "      <td>5</td>\n",
       "      <td>...</td>\n",
       "      <td>163 cm</td>\n",
       "      <td>NaN</td>\n",
       "      <td>600 litre</td>\n",
       "      <td>8.0</td>\n",
       "      <td>oui</td>\n",
       "      <td>oui</td>\n",
       "      <td>oui</td>\n",
       "      <td>auto. Quadri-zone</td>\n",
       "      <td>oui</td>\n",
       "      <td>oui</td>\n",
       "    </tr>\n",
       "    <tr>\n",
       "      <th>201</th>\n",
       "      <td>BMW</td>\n",
       "      <td>X6</td>\n",
       "      <td>959.000 DH *   * Prix public</td>\n",
       "      <td>NaN</td>\n",
       "      <td>NaN</td>\n",
       "      <td>NaN</td>\n",
       "      <td>NaN</td>\n",
       "      <td>NaN</td>\n",
       "      <td>NaN</td>\n",
       "      <td>NaN</td>\n",
       "      <td>...</td>\n",
       "      <td>NaN</td>\n",
       "      <td>NaN</td>\n",
       "      <td>NaN</td>\n",
       "      <td>NaN</td>\n",
       "      <td>NaN</td>\n",
       "      <td>NaN</td>\n",
       "      <td>NaN</td>\n",
       "      <td>NaN</td>\n",
       "      <td>NaN</td>\n",
       "      <td>NaN</td>\n",
       "    </tr>\n",
       "    <tr>\n",
       "      <th>...</th>\n",
       "      <td>...</td>\n",
       "      <td>...</td>\n",
       "      <td>...</td>\n",
       "      <td>...</td>\n",
       "      <td>...</td>\n",
       "      <td>...</td>\n",
       "      <td>...</td>\n",
       "      <td>...</td>\n",
       "      <td>...</td>\n",
       "      <td>...</td>\n",
       "      <td>...</td>\n",
       "      <td>...</td>\n",
       "      <td>...</td>\n",
       "      <td>...</td>\n",
       "      <td>...</td>\n",
       "      <td>...</td>\n",
       "      <td>...</td>\n",
       "      <td>...</td>\n",
       "      <td>...</td>\n",
       "      <td>...</td>\n",
       "      <td>...</td>\n",
       "    </tr>\n",
       "    <tr>\n",
       "      <th>809</th>\n",
       "      <td>SUZUKI</td>\n",
       "      <td>Ignis</td>\n",
       "      <td>139.900 DH *   * Prix public</td>\n",
       "      <td>NaN</td>\n",
       "      <td>NaN</td>\n",
       "      <td>NaN</td>\n",
       "      <td>NaN</td>\n",
       "      <td>NaN</td>\n",
       "      <td>NaN</td>\n",
       "      <td>NaN</td>\n",
       "      <td>...</td>\n",
       "      <td>NaN</td>\n",
       "      <td>NaN</td>\n",
       "      <td>NaN</td>\n",
       "      <td>NaN</td>\n",
       "      <td>NaN</td>\n",
       "      <td>NaN</td>\n",
       "      <td>NaN</td>\n",
       "      <td>NaN</td>\n",
       "      <td>NaN</td>\n",
       "      <td>NaN</td>\n",
       "    </tr>\n",
       "    <tr>\n",
       "      <th>810</th>\n",
       "      <td>SUZUKI</td>\n",
       "      <td>Ignis</td>\n",
       "      <td>149.900 DH *   * Prix public</td>\n",
       "      <td>NaN</td>\n",
       "      <td>NaN</td>\n",
       "      <td>NaN</td>\n",
       "      <td>NaN</td>\n",
       "      <td>NaN</td>\n",
       "      <td>NaN</td>\n",
       "      <td>NaN</td>\n",
       "      <td>...</td>\n",
       "      <td>NaN</td>\n",
       "      <td>NaN</td>\n",
       "      <td>NaN</td>\n",
       "      <td>NaN</td>\n",
       "      <td>NaN</td>\n",
       "      <td>NaN</td>\n",
       "      <td>NaN</td>\n",
       "      <td>NaN</td>\n",
       "      <td>NaN</td>\n",
       "      <td>NaN</td>\n",
       "    </tr>\n",
       "    <tr>\n",
       "      <th>811</th>\n",
       "      <td>SUZUKI</td>\n",
       "      <td>Swift</td>\n",
       "      <td>119.900 DH *   * Prix public</td>\n",
       "      <td>NaN</td>\n",
       "      <td>NaN</td>\n",
       "      <td>NaN</td>\n",
       "      <td>NaN</td>\n",
       "      <td>NaN</td>\n",
       "      <td>NaN</td>\n",
       "      <td>NaN</td>\n",
       "      <td>...</td>\n",
       "      <td>NaN</td>\n",
       "      <td>NaN</td>\n",
       "      <td>NaN</td>\n",
       "      <td>NaN</td>\n",
       "      <td>NaN</td>\n",
       "      <td>NaN</td>\n",
       "      <td>NaN</td>\n",
       "      <td>NaN</td>\n",
       "      <td>NaN</td>\n",
       "      <td>NaN</td>\n",
       "    </tr>\n",
       "    <tr>\n",
       "      <th>812</th>\n",
       "      <td>SUZUKI</td>\n",
       "      <td>Swift</td>\n",
       "      <td>134.900 DH *   * Prix public</td>\n",
       "      <td>NaN</td>\n",
       "      <td>NaN</td>\n",
       "      <td>NaN</td>\n",
       "      <td>NaN</td>\n",
       "      <td>NaN</td>\n",
       "      <td>NaN</td>\n",
       "      <td>NaN</td>\n",
       "      <td>...</td>\n",
       "      <td>NaN</td>\n",
       "      <td>NaN</td>\n",
       "      <td>NaN</td>\n",
       "      <td>NaN</td>\n",
       "      <td>NaN</td>\n",
       "      <td>NaN</td>\n",
       "      <td>NaN</td>\n",
       "      <td>NaN</td>\n",
       "      <td>NaN</td>\n",
       "      <td>NaN</td>\n",
       "    </tr>\n",
       "    <tr>\n",
       "      <th>813</th>\n",
       "      <td>SUZUKI</td>\n",
       "      <td>Swift</td>\n",
       "      <td>149.900 DH *   * Prix public</td>\n",
       "      <td>NaN</td>\n",
       "      <td>NaN</td>\n",
       "      <td>NaN</td>\n",
       "      <td>NaN</td>\n",
       "      <td>NaN</td>\n",
       "      <td>NaN</td>\n",
       "      <td>NaN</td>\n",
       "      <td>...</td>\n",
       "      <td>NaN</td>\n",
       "      <td>NaN</td>\n",
       "      <td>NaN</td>\n",
       "      <td>NaN</td>\n",
       "      <td>NaN</td>\n",
       "      <td>NaN</td>\n",
       "      <td>NaN</td>\n",
       "      <td>NaN</td>\n",
       "      <td>NaN</td>\n",
       "      <td>NaN</td>\n",
       "    </tr>\n",
       "  </tbody>\n",
       "</table>\n",
       "<p>61 rows × 22 columns</p>\n",
       "</div>"
      ],
      "text/plain": [
       "      Brand             Model                           Price  \\\n",
       "75     AUDI            e-Tron  1.050.000 DH *   * Prix public   \n",
       "76     AUDI            e-Tron  1.110.000 DH *   * Prix public   \n",
       "77     AUDI  e-Tron Sportback  1.110.000 DH *   * Prix public   \n",
       "78     AUDI  e-Tron Sportback  1.170.000 DH *   * Prix public   \n",
       "201     BMW                X6    959.000 DH *   * Prix public   \n",
       "..      ...               ...                             ...   \n",
       "809  SUZUKI             Ignis    139.900 DH *   * Prix public   \n",
       "810  SUZUKI             Ignis    149.900 DH *   * Prix public   \n",
       "811  SUZUKI             Swift    119.900 DH *   * Prix public   \n",
       "812  SUZUKI             Swift    134.900 DH *   * Prix public   \n",
       "813  SUZUKI             Swift    149.900 DH *   * Prix public   \n",
       "\n",
       "                  Moteur     Energie Puissance maxi. Boîte à vitesse  \\\n",
       "75   Electrique à 360 kW  Electrique          408 ch   Automatique -   \n",
       "76   Electrique à 360 kW  Electrique          408 ch   Automatique -   \n",
       "77   Electrique à 360 kW  Electrique          408 ch   Automatique -   \n",
       "78   Electrique à 360 kW  Electrique          408 ch   Automatique -   \n",
       "201                  NaN         NaN             NaN             NaN   \n",
       "..                   ...         ...             ...             ...   \n",
       "809                  NaN         NaN             NaN             NaN   \n",
       "810                  NaN         NaN             NaN             NaN   \n",
       "811                  NaN         NaN             NaN             NaN   \n",
       "812                  NaN         NaN             NaN             NaN   \n",
       "813                  NaN         NaN             NaN             NaN   \n",
       "\n",
       "       Conso. mixte Vitesse maxi. Nombre de places  ... Hauteur  \\\n",
       "75   21,4 Kw/100 km      200 km/h                5  ...  163 cm   \n",
       "76   21,4 Kw/100 km      200 km/h                5  ...  163 cm   \n",
       "77   21,4 Kw/100 km      200 km/h                5  ...  163 cm   \n",
       "78   21,4 Kw/100 km      200 km/h                5  ...  163 cm   \n",
       "201             NaN           NaN              NaN  ...     NaN   \n",
       "..              ...           ...              ...  ...     ...   \n",
       "809             NaN           NaN              NaN  ...     NaN   \n",
       "810             NaN           NaN              NaN  ...     NaN   \n",
       "811             NaN           NaN              NaN  ...     NaN   \n",
       "812             NaN           NaN              NaN  ...     NaN   \n",
       "813             NaN           NaN              NaN  ...     NaN   \n",
       "\n",
       "    Volume du réservoir Volume de coffre Airbags  ABS  ESP Antipatinage  \\\n",
       "75                  NaN        600 litre     8.0  oui  oui          oui   \n",
       "76                  NaN        600 litre     8.0  oui  oui          oui   \n",
       "77                  NaN        600 litre     8.0  oui  oui          oui   \n",
       "78                  NaN        600 litre     8.0  oui  oui          oui   \n",
       "201                 NaN              NaN     NaN  NaN  NaN          NaN   \n",
       "..                  ...              ...     ...  ...  ...          ...   \n",
       "809                 NaN              NaN     NaN  NaN  NaN          NaN   \n",
       "810                 NaN              NaN     NaN  NaN  NaN          NaN   \n",
       "811                 NaN              NaN     NaN  NaN  NaN          NaN   \n",
       "812                 NaN              NaN     NaN  NaN  NaN          NaN   \n",
       "813                 NaN              NaN     NaN  NaN  NaN          NaN   \n",
       "\n",
       "         Climatisation Système de navigation GPS Bluetooth  \n",
       "75   auto. Quadri-zone                       oui       oui  \n",
       "76   auto. Quadri-zone                       oui       oui  \n",
       "77   auto. Quadri-zone                       oui       oui  \n",
       "78   auto. Quadri-zone                       oui       oui  \n",
       "201                NaN                       NaN       NaN  \n",
       "..                 ...                       ...       ...  \n",
       "809                NaN                       NaN       NaN  \n",
       "810                NaN                       NaN       NaN  \n",
       "811                NaN                       NaN       NaN  \n",
       "812                NaN                       NaN       NaN  \n",
       "813                NaN                       NaN       NaN  \n",
       "\n",
       "[61 rows x 22 columns]"
      ]
     },
     "execution_count": 999,
     "metadata": {},
     "output_type": "execute_result"
    }
   ],
   "source": [
    "new_df[new_df.isnull().any(axis=1)]\n",
    "#new_df.iloc[[201, 202, 203, 813, 812, 811, 810, 809, 808, 785, 727, 725, 724, 723, 722, 625, 624, 623, 622, 621, 620, 619, 618, 617, 615, 614, 613]]\n"
   ]
  },
  {
   "cell_type": "code",
   "execution_count": 1000,
   "metadata": {},
   "outputs": [],
   "source": [
    "new_df = new_df.dropna(thresh=new_df.shape[1]-3) #delete rows which has more than 3 NaN values\n"
   ]
  },
  {
   "cell_type": "code",
   "execution_count": 1001,
   "metadata": {},
   "outputs": [
    {
     "data": {
      "text/html": [
       "<div>\n",
       "<style scoped>\n",
       "    .dataframe tbody tr th:only-of-type {\n",
       "        vertical-align: middle;\n",
       "    }\n",
       "\n",
       "    .dataframe tbody tr th {\n",
       "        vertical-align: top;\n",
       "    }\n",
       "\n",
       "    .dataframe thead th {\n",
       "        text-align: right;\n",
       "    }\n",
       "</style>\n",
       "<table border=\"1\" class=\"dataframe\">\n",
       "  <thead>\n",
       "    <tr style=\"text-align: right;\">\n",
       "      <th></th>\n",
       "      <th>Brand</th>\n",
       "      <th>Model</th>\n",
       "      <th>Price</th>\n",
       "      <th>Moteur</th>\n",
       "      <th>Energie</th>\n",
       "      <th>Puissance maxi.</th>\n",
       "      <th>Boîte à vitesse</th>\n",
       "      <th>Conso. mixte</th>\n",
       "      <th>Vitesse maxi.</th>\n",
       "      <th>Nombre de places</th>\n",
       "      <th>...</th>\n",
       "      <th>Hauteur</th>\n",
       "      <th>Volume du réservoir</th>\n",
       "      <th>Volume de coffre</th>\n",
       "      <th>Airbags</th>\n",
       "      <th>ABS</th>\n",
       "      <th>ESP</th>\n",
       "      <th>Antipatinage</th>\n",
       "      <th>Climatisation</th>\n",
       "      <th>Système de navigation GPS</th>\n",
       "      <th>Bluetooth</th>\n",
       "    </tr>\n",
       "  </thead>\n",
       "  <tbody>\n",
       "    <tr>\n",
       "      <th>75</th>\n",
       "      <td>AUDI</td>\n",
       "      <td>e-Tron</td>\n",
       "      <td>1.050.000 DH *   * Prix public</td>\n",
       "      <td>Electrique à 360 kW</td>\n",
       "      <td>Electrique</td>\n",
       "      <td>408 ch</td>\n",
       "      <td>Automatique -</td>\n",
       "      <td>21,4 Kw/100 km</td>\n",
       "      <td>200 km/h</td>\n",
       "      <td>5</td>\n",
       "      <td>...</td>\n",
       "      <td>163 cm</td>\n",
       "      <td>NaN</td>\n",
       "      <td>600 litre</td>\n",
       "      <td>8.0</td>\n",
       "      <td>oui</td>\n",
       "      <td>oui</td>\n",
       "      <td>oui</td>\n",
       "      <td>auto. Quadri-zone</td>\n",
       "      <td>oui</td>\n",
       "      <td>oui</td>\n",
       "    </tr>\n",
       "    <tr>\n",
       "      <th>76</th>\n",
       "      <td>AUDI</td>\n",
       "      <td>e-Tron</td>\n",
       "      <td>1.110.000 DH *   * Prix public</td>\n",
       "      <td>Electrique à 360 kW</td>\n",
       "      <td>Electrique</td>\n",
       "      <td>408 ch</td>\n",
       "      <td>Automatique -</td>\n",
       "      <td>21,4 Kw/100 km</td>\n",
       "      <td>200 km/h</td>\n",
       "      <td>5</td>\n",
       "      <td>...</td>\n",
       "      <td>163 cm</td>\n",
       "      <td>NaN</td>\n",
       "      <td>600 litre</td>\n",
       "      <td>8.0</td>\n",
       "      <td>oui</td>\n",
       "      <td>oui</td>\n",
       "      <td>oui</td>\n",
       "      <td>auto. Quadri-zone</td>\n",
       "      <td>oui</td>\n",
       "      <td>oui</td>\n",
       "    </tr>\n",
       "    <tr>\n",
       "      <th>77</th>\n",
       "      <td>AUDI</td>\n",
       "      <td>e-Tron Sportback</td>\n",
       "      <td>1.110.000 DH *   * Prix public</td>\n",
       "      <td>Electrique à 360 kW</td>\n",
       "      <td>Electrique</td>\n",
       "      <td>408 ch</td>\n",
       "      <td>Automatique -</td>\n",
       "      <td>21,4 Kw/100 km</td>\n",
       "      <td>200 km/h</td>\n",
       "      <td>5</td>\n",
       "      <td>...</td>\n",
       "      <td>163 cm</td>\n",
       "      <td>NaN</td>\n",
       "      <td>600 litre</td>\n",
       "      <td>8.0</td>\n",
       "      <td>oui</td>\n",
       "      <td>oui</td>\n",
       "      <td>oui</td>\n",
       "      <td>auto. Quadri-zone</td>\n",
       "      <td>oui</td>\n",
       "      <td>oui</td>\n",
       "    </tr>\n",
       "    <tr>\n",
       "      <th>78</th>\n",
       "      <td>AUDI</td>\n",
       "      <td>e-Tron Sportback</td>\n",
       "      <td>1.170.000 DH *   * Prix public</td>\n",
       "      <td>Electrique à 360 kW</td>\n",
       "      <td>Electrique</td>\n",
       "      <td>408 ch</td>\n",
       "      <td>Automatique -</td>\n",
       "      <td>21,4 Kw/100 km</td>\n",
       "      <td>200 km/h</td>\n",
       "      <td>5</td>\n",
       "      <td>...</td>\n",
       "      <td>163 cm</td>\n",
       "      <td>NaN</td>\n",
       "      <td>600 litre</td>\n",
       "      <td>8.0</td>\n",
       "      <td>oui</td>\n",
       "      <td>oui</td>\n",
       "      <td>oui</td>\n",
       "      <td>auto. Quadri-zone</td>\n",
       "      <td>oui</td>\n",
       "      <td>oui</td>\n",
       "    </tr>\n",
       "    <tr>\n",
       "      <th>205</th>\n",
       "      <td>BMW</td>\n",
       "      <td>i4</td>\n",
       "      <td>855.000 DH *   * Prix public</td>\n",
       "      <td>Electrique à 250 kW</td>\n",
       "      <td>Electrique</td>\n",
       "      <td>340 ch</td>\n",
       "      <td>Automatique -</td>\n",
       "      <td>19,9 Kw/100 km</td>\n",
       "      <td>190 km/h</td>\n",
       "      <td>5</td>\n",
       "      <td>...</td>\n",
       "      <td>145 cm</td>\n",
       "      <td>NaN</td>\n",
       "      <td>470 litre</td>\n",
       "      <td>8.0</td>\n",
       "      <td>oui</td>\n",
       "      <td>oui</td>\n",
       "      <td>oui</td>\n",
       "      <td>auto. Tri-zone</td>\n",
       "      <td>oui</td>\n",
       "      <td>oui</td>\n",
       "    </tr>\n",
       "    <tr>\n",
       "      <th>206</th>\n",
       "      <td>BMW</td>\n",
       "      <td>i4</td>\n",
       "      <td>930.000 DH *   * Prix public</td>\n",
       "      <td>Electrique à 250 kW</td>\n",
       "      <td>Electrique</td>\n",
       "      <td>340 ch</td>\n",
       "      <td>Automatique -</td>\n",
       "      <td>19,9 Kw/100 km</td>\n",
       "      <td>190 km/h</td>\n",
       "      <td>5</td>\n",
       "      <td>...</td>\n",
       "      <td>145 cm</td>\n",
       "      <td>NaN</td>\n",
       "      <td>470 litre</td>\n",
       "      <td>8.0</td>\n",
       "      <td>oui</td>\n",
       "      <td>oui</td>\n",
       "      <td>oui</td>\n",
       "      <td>auto. Tri-zone</td>\n",
       "      <td>oui</td>\n",
       "      <td>oui</td>\n",
       "    </tr>\n",
       "    <tr>\n",
       "      <th>207</th>\n",
       "      <td>BMW</td>\n",
       "      <td>i4</td>\n",
       "      <td>963.000 DH *   * Prix public</td>\n",
       "      <td>Electrique à 400 kW</td>\n",
       "      <td>Electrique</td>\n",
       "      <td>544 ch</td>\n",
       "      <td>Automatique -</td>\n",
       "      <td>23,3 Kw/100 km</td>\n",
       "      <td>225 km/h</td>\n",
       "      <td>5</td>\n",
       "      <td>...</td>\n",
       "      <td>145 cm</td>\n",
       "      <td>NaN</td>\n",
       "      <td>470 litre</td>\n",
       "      <td>8.0</td>\n",
       "      <td>oui</td>\n",
       "      <td>oui</td>\n",
       "      <td>oui</td>\n",
       "      <td>auto. Tri-zone</td>\n",
       "      <td>oui</td>\n",
       "      <td>oui</td>\n",
       "    </tr>\n",
       "    <tr>\n",
       "      <th>208</th>\n",
       "      <td>BMW</td>\n",
       "      <td>i4</td>\n",
       "      <td>1.016.000 DH *   * Prix public</td>\n",
       "      <td>Electrique à 400 kW</td>\n",
       "      <td>Electrique</td>\n",
       "      <td>544 ch</td>\n",
       "      <td>Automatique -</td>\n",
       "      <td>23,3 Kw/100 km</td>\n",
       "      <td>225 km/h</td>\n",
       "      <td>5</td>\n",
       "      <td>...</td>\n",
       "      <td>145 cm</td>\n",
       "      <td>NaN</td>\n",
       "      <td>470 litre</td>\n",
       "      <td>8.0</td>\n",
       "      <td>oui</td>\n",
       "      <td>oui</td>\n",
       "      <td>oui</td>\n",
       "      <td>auto. Tri-zone</td>\n",
       "      <td>oui</td>\n",
       "      <td>oui</td>\n",
       "    </tr>\n",
       "    <tr>\n",
       "      <th>209</th>\n",
       "      <td>BMW</td>\n",
       "      <td>iX</td>\n",
       "      <td>1.022.000 DH *   * Prix public</td>\n",
       "      <td>Electrique à 240 kW</td>\n",
       "      <td>Electrique</td>\n",
       "      <td>326 ch</td>\n",
       "      <td>Automatique -</td>\n",
       "      <td>22,5 Kw/100 km</td>\n",
       "      <td>200 km/h</td>\n",
       "      <td>5</td>\n",
       "      <td>...</td>\n",
       "      <td>170 cm</td>\n",
       "      <td>NaN</td>\n",
       "      <td>500 litre</td>\n",
       "      <td>8.0</td>\n",
       "      <td>oui</td>\n",
       "      <td>oui</td>\n",
       "      <td>oui</td>\n",
       "      <td>auto. Tri-zone</td>\n",
       "      <td>oui</td>\n",
       "      <td>oui</td>\n",
       "    </tr>\n",
       "    <tr>\n",
       "      <th>210</th>\n",
       "      <td>BMW</td>\n",
       "      <td>iX</td>\n",
       "      <td>1.137.000 DH *   * Prix public</td>\n",
       "      <td>Electrique à 240 kW</td>\n",
       "      <td>Electrique</td>\n",
       "      <td>326 ch</td>\n",
       "      <td>Automatique -</td>\n",
       "      <td>22,5 Kw/100 km</td>\n",
       "      <td>200 km/h</td>\n",
       "      <td>5</td>\n",
       "      <td>...</td>\n",
       "      <td>170 cm</td>\n",
       "      <td>NaN</td>\n",
       "      <td>500 litre</td>\n",
       "      <td>8.0</td>\n",
       "      <td>oui</td>\n",
       "      <td>oui</td>\n",
       "      <td>oui</td>\n",
       "      <td>auto. Tri-zone</td>\n",
       "      <td>oui</td>\n",
       "      <td>oui</td>\n",
       "    </tr>\n",
       "    <tr>\n",
       "      <th>211</th>\n",
       "      <td>BMW</td>\n",
       "      <td>iX</td>\n",
       "      <td>1.198.000 DH *   * Prix public</td>\n",
       "      <td>Electrique à 385 kW</td>\n",
       "      <td>Electrique</td>\n",
       "      <td>523 ch</td>\n",
       "      <td>Automatique -</td>\n",
       "      <td>23 Kw/100 km</td>\n",
       "      <td>200 km/h</td>\n",
       "      <td>5</td>\n",
       "      <td>...</td>\n",
       "      <td>170 cm</td>\n",
       "      <td>NaN</td>\n",
       "      <td>500 litre</td>\n",
       "      <td>8.0</td>\n",
       "      <td>oui</td>\n",
       "      <td>oui</td>\n",
       "      <td>oui</td>\n",
       "      <td>auto. Tri-zone</td>\n",
       "      <td>oui</td>\n",
       "      <td>oui</td>\n",
       "    </tr>\n",
       "    <tr>\n",
       "      <th>212</th>\n",
       "      <td>BMW</td>\n",
       "      <td>iX</td>\n",
       "      <td>1.334.000 DH *   * Prix public</td>\n",
       "      <td>Electrique à 385 kW</td>\n",
       "      <td>Electrique</td>\n",
       "      <td>523 ch</td>\n",
       "      <td>Automatique -</td>\n",
       "      <td>23 Kw/100 km</td>\n",
       "      <td>200 km/h</td>\n",
       "      <td>5</td>\n",
       "      <td>...</td>\n",
       "      <td>170 cm</td>\n",
       "      <td>NaN</td>\n",
       "      <td>500 litre</td>\n",
       "      <td>8.0</td>\n",
       "      <td>oui</td>\n",
       "      <td>oui</td>\n",
       "      <td>oui</td>\n",
       "      <td>auto. Tri-zone</td>\n",
       "      <td>oui</td>\n",
       "      <td>oui</td>\n",
       "    </tr>\n",
       "    <tr>\n",
       "      <th>221</th>\n",
       "      <td>CITROEN</td>\n",
       "      <td>AMI</td>\n",
       "      <td>109.900 DH * promo</td>\n",
       "      <td>Électrique 6 kWh</td>\n",
       "      <td>Electrique</td>\n",
       "      <td>8 ch</td>\n",
       "      <td>Automatique -</td>\n",
       "      <td>- Kw/100 km</td>\n",
       "      <td>45 km/h</td>\n",
       "      <td>2</td>\n",
       "      <td>...</td>\n",
       "      <td>152 cm</td>\n",
       "      <td>NaN</td>\n",
       "      <td>63 litre</td>\n",
       "      <td>0.0</td>\n",
       "      <td>non</td>\n",
       "      <td>non</td>\n",
       "      <td>non</td>\n",
       "      <td>non</td>\n",
       "      <td>non</td>\n",
       "      <td>non</td>\n",
       "    </tr>\n",
       "    <tr>\n",
       "      <th>245</th>\n",
       "      <td>DACIA</td>\n",
       "      <td>Spring</td>\n",
       "      <td>228.480 DH *   * Prix public</td>\n",
       "      <td>Electrique 45 ch / 33 kW</td>\n",
       "      <td>Electrique</td>\n",
       "      <td>45 ch</td>\n",
       "      <td>Automatique -</td>\n",
       "      <td>11,9 Kw/100 km</td>\n",
       "      <td>125 km/h</td>\n",
       "      <td>5</td>\n",
       "      <td>...</td>\n",
       "      <td>151 cm</td>\n",
       "      <td>NaN</td>\n",
       "      <td>270 litre</td>\n",
       "      <td>4.0</td>\n",
       "      <td>oui</td>\n",
       "      <td>oui</td>\n",
       "      <td>non</td>\n",
       "      <td>non</td>\n",
       "      <td>non</td>\n",
       "      <td>non</td>\n",
       "    </tr>\n",
       "    <tr>\n",
       "      <th>246</th>\n",
       "      <td>DACIA</td>\n",
       "      <td>Spring</td>\n",
       "      <td>223.500 DH *   * Prix public</td>\n",
       "      <td>Electrique 45 ch / 33 kW</td>\n",
       "      <td>Electrique</td>\n",
       "      <td>45 ch</td>\n",
       "      <td>Automatique -</td>\n",
       "      <td>11,9 Kw/100 km</td>\n",
       "      <td>125 km/h</td>\n",
       "      <td>5</td>\n",
       "      <td>...</td>\n",
       "      <td>151 cm</td>\n",
       "      <td>NaN</td>\n",
       "      <td>270 litre</td>\n",
       "      <td>6.0</td>\n",
       "      <td>oui</td>\n",
       "      <td>oui</td>\n",
       "      <td>non</td>\n",
       "      <td>non</td>\n",
       "      <td>non</td>\n",
       "      <td>non</td>\n",
       "    </tr>\n",
       "    <tr>\n",
       "      <th>247</th>\n",
       "      <td>DACIA</td>\n",
       "      <td>Spring</td>\n",
       "      <td>238.500 DH *   * Prix public</td>\n",
       "      <td>Electrique 45 ch / 33 kW</td>\n",
       "      <td>Electrique</td>\n",
       "      <td>45 ch</td>\n",
       "      <td>Automatique -</td>\n",
       "      <td>11,9 Kw/100 km</td>\n",
       "      <td>125 km/h</td>\n",
       "      <td>5</td>\n",
       "      <td>...</td>\n",
       "      <td>151 cm</td>\n",
       "      <td>NaN</td>\n",
       "      <td>270 litre</td>\n",
       "      <td>6.0</td>\n",
       "      <td>oui</td>\n",
       "      <td>oui</td>\n",
       "      <td>non</td>\n",
       "      <td>non</td>\n",
       "      <td>non</td>\n",
       "      <td>non</td>\n",
       "    </tr>\n",
       "    <tr>\n",
       "      <th>335</th>\n",
       "      <td>HYUNDAI</td>\n",
       "      <td>Ioniq 5</td>\n",
       "      <td>579.000 DH *   * Prix public</td>\n",
       "      <td>58 kWH 2WD</td>\n",
       "      <td>Electrique</td>\n",
       "      <td>170 ch</td>\n",
       "      <td>Automatique -</td>\n",
       "      <td>16,7 Kw/100 km</td>\n",
       "      <td>185 km/h</td>\n",
       "      <td>5</td>\n",
       "      <td>...</td>\n",
       "      <td>160 cm</td>\n",
       "      <td>NaN</td>\n",
       "      <td>527 litre</td>\n",
       "      <td>7.0</td>\n",
       "      <td>oui</td>\n",
       "      <td>oui</td>\n",
       "      <td>oui</td>\n",
       "      <td>auto. Bi-zone</td>\n",
       "      <td>oui</td>\n",
       "      <td>oui</td>\n",
       "    </tr>\n",
       "    <tr>\n",
       "      <th>336</th>\n",
       "      <td>HYUNDAI</td>\n",
       "      <td>Ioniq 5</td>\n",
       "      <td>639.000 DH *   * Prix public</td>\n",
       "      <td>73 kWH 2WD</td>\n",
       "      <td>Electrique</td>\n",
       "      <td>217 ch</td>\n",
       "      <td>Automatique -</td>\n",
       "      <td>17,9 Kw/100 km</td>\n",
       "      <td>185 km/h</td>\n",
       "      <td>5</td>\n",
       "      <td>...</td>\n",
       "      <td>160 cm</td>\n",
       "      <td>NaN</td>\n",
       "      <td>527 litre</td>\n",
       "      <td>7.0</td>\n",
       "      <td>oui</td>\n",
       "      <td>oui</td>\n",
       "      <td>oui</td>\n",
       "      <td>auto. Bi-zone</td>\n",
       "      <td>oui</td>\n",
       "      <td>oui</td>\n",
       "    </tr>\n",
       "    <tr>\n",
       "      <th>337</th>\n",
       "      <td>HYUNDAI</td>\n",
       "      <td>Ioniq 5</td>\n",
       "      <td>689.000 DH *   * Prix public</td>\n",
       "      <td>73 kWH 4WD</td>\n",
       "      <td>Electrique</td>\n",
       "      <td>305 ch</td>\n",
       "      <td>Automatique -</td>\n",
       "      <td>19,0 Kw/100 km</td>\n",
       "      <td>185 km/h</td>\n",
       "      <td>5</td>\n",
       "      <td>...</td>\n",
       "      <td>160 cm</td>\n",
       "      <td>NaN</td>\n",
       "      <td>527 litre</td>\n",
       "      <td>7.0</td>\n",
       "      <td>oui</td>\n",
       "      <td>oui</td>\n",
       "      <td>oui</td>\n",
       "      <td>auto. Bi-zone</td>\n",
       "      <td>oui</td>\n",
       "      <td>oui</td>\n",
       "    </tr>\n",
       "    <tr>\n",
       "      <th>374</th>\n",
       "      <td>JAGUAR</td>\n",
       "      <td>I-Pace</td>\n",
       "      <td>1.032.800 DH *   * Prix public</td>\n",
       "      <td>90 kWh 400</td>\n",
       "      <td>Electrique</td>\n",
       "      <td>400 ch</td>\n",
       "      <td>Automatique 8 rapports</td>\n",
       "      <td>Kw/100 km</td>\n",
       "      <td>km/h</td>\n",
       "      <td>5</td>\n",
       "      <td>...</td>\n",
       "      <td>167 cm</td>\n",
       "      <td>NaN</td>\n",
       "      <td>650 litre</td>\n",
       "      <td>0.0</td>\n",
       "      <td>oui</td>\n",
       "      <td>non</td>\n",
       "      <td>non</td>\n",
       "      <td>non</td>\n",
       "      <td>non</td>\n",
       "      <td>non</td>\n",
       "    </tr>\n",
       "    <tr>\n",
       "      <th>610</th>\n",
       "      <td>MG</td>\n",
       "      <td>MG4 EV</td>\n",
       "      <td>450.000 DH * promo</td>\n",
       "      <td>125 kW ( 170 ch )</td>\n",
       "      <td>Electrique</td>\n",
       "      <td>170 ch</td>\n",
       "      <td>Automatique -</td>\n",
       "      <td>17 Kw/100 km</td>\n",
       "      <td>160 km/h</td>\n",
       "      <td>5</td>\n",
       "      <td>...</td>\n",
       "      <td>150 cm</td>\n",
       "      <td>NaN</td>\n",
       "      <td>363 litre</td>\n",
       "      <td>6.0</td>\n",
       "      <td>oui</td>\n",
       "      <td>oui</td>\n",
       "      <td>oui</td>\n",
       "      <td>auto.</td>\n",
       "      <td>non</td>\n",
       "      <td>oui</td>\n",
       "    </tr>\n",
       "    <tr>\n",
       "      <th>611</th>\n",
       "      <td>MG</td>\n",
       "      <td>MG4 EV</td>\n",
       "      <td>475.000 DH * promo</td>\n",
       "      <td>150 kW ( 204 ch )</td>\n",
       "      <td>Electrique</td>\n",
       "      <td>204 ch</td>\n",
       "      <td>Automatique -</td>\n",
       "      <td>16 Kw/100 km</td>\n",
       "      <td>160 km/h</td>\n",
       "      <td>5</td>\n",
       "      <td>...</td>\n",
       "      <td>150 cm</td>\n",
       "      <td>NaN</td>\n",
       "      <td>363 litre</td>\n",
       "      <td>6.0</td>\n",
       "      <td>oui</td>\n",
       "      <td>oui</td>\n",
       "      <td>oui</td>\n",
       "      <td>auto.</td>\n",
       "      <td>non</td>\n",
       "      <td>oui</td>\n",
       "    </tr>\n",
       "    <tr>\n",
       "      <th>728</th>\n",
       "      <td>PORSCHE</td>\n",
       "      <td>Taycan</td>\n",
       "      <td>1.230.000 DH *   * Prix public</td>\n",
       "      <td>240 kW ( 326 ch )</td>\n",
       "      <td>Electrique</td>\n",
       "      <td>326 ch</td>\n",
       "      <td>Automatique TipTronic à 8 rapports</td>\n",
       "      <td>22 Kw/100 km</td>\n",
       "      <td>230 km/h</td>\n",
       "      <td>4</td>\n",
       "      <td>...</td>\n",
       "      <td>138 cm</td>\n",
       "      <td>NaN</td>\n",
       "      <td>366 litre</td>\n",
       "      <td>10.0</td>\n",
       "      <td>oui</td>\n",
       "      <td>oui</td>\n",
       "      <td>oui</td>\n",
       "      <td>auto. Bi-zone</td>\n",
       "      <td>oui</td>\n",
       "      <td>oui</td>\n",
       "    </tr>\n",
       "    <tr>\n",
       "      <th>729</th>\n",
       "      <td>PORSCHE</td>\n",
       "      <td>Taycan</td>\n",
       "      <td>1.470.000 DH *   * Prix public</td>\n",
       "      <td>Motorisation 320 kW</td>\n",
       "      <td>Electrique</td>\n",
       "      <td>435 ch</td>\n",
       "      <td>Automatique TipTronic à 8 rapports</td>\n",
       "      <td>- Kw/100 km</td>\n",
       "      <td>250 km/h</td>\n",
       "      <td>4</td>\n",
       "      <td>...</td>\n",
       "      <td>138 cm</td>\n",
       "      <td>NaN</td>\n",
       "      <td>366 litre</td>\n",
       "      <td>10.0</td>\n",
       "      <td>oui</td>\n",
       "      <td>oui</td>\n",
       "      <td>oui</td>\n",
       "      <td>auto. Bi-zone</td>\n",
       "      <td>oui</td>\n",
       "      <td>oui</td>\n",
       "    </tr>\n",
       "    <tr>\n",
       "      <th>730</th>\n",
       "      <td>PORSCHE</td>\n",
       "      <td>Taycan</td>\n",
       "      <td>2.030.000 DH *   * Prix public</td>\n",
       "      <td>Motorisation 460 kW</td>\n",
       "      <td>Electrique</td>\n",
       "      <td>625 ch</td>\n",
       "      <td>Automatique TipTronic à 8 rapports</td>\n",
       "      <td>- Kw/100 km</td>\n",
       "      <td>260 km/h</td>\n",
       "      <td>4</td>\n",
       "      <td>...</td>\n",
       "      <td>138 cm</td>\n",
       "      <td>NaN</td>\n",
       "      <td>366 litre</td>\n",
       "      <td>10.0</td>\n",
       "      <td>oui</td>\n",
       "      <td>oui</td>\n",
       "      <td>oui</td>\n",
       "      <td>auto. Bi-zone</td>\n",
       "      <td>oui</td>\n",
       "      <td>oui</td>\n",
       "    </tr>\n",
       "    <tr>\n",
       "      <th>731</th>\n",
       "      <td>PORSCHE</td>\n",
       "      <td>Taycan</td>\n",
       "      <td>2.450.000 DH *   * Prix public</td>\n",
       "      <td>Motorisation 460 kW</td>\n",
       "      <td>Electrique</td>\n",
       "      <td>625 ch</td>\n",
       "      <td>Automatique TipTronic à 8 rapports</td>\n",
       "      <td>- Kw/100 km</td>\n",
       "      <td>260 km/h</td>\n",
       "      <td>4</td>\n",
       "      <td>...</td>\n",
       "      <td>138 cm</td>\n",
       "      <td>NaN</td>\n",
       "      <td>366 litre</td>\n",
       "      <td>10.0</td>\n",
       "      <td>oui</td>\n",
       "      <td>oui</td>\n",
       "      <td>oui</td>\n",
       "      <td>auto. Bi-zone</td>\n",
       "      <td>oui</td>\n",
       "      <td>oui</td>\n",
       "    </tr>\n",
       "    <tr>\n",
       "      <th>732</th>\n",
       "      <td>PORSCHE</td>\n",
       "      <td>Taycan Cross Turismo</td>\n",
       "      <td>1.360.000 DH *   * Prix public</td>\n",
       "      <td>Motorisation 240 kW</td>\n",
       "      <td>Electrique</td>\n",
       "      <td>326 ch</td>\n",
       "      <td>Automatique TipTronic à 8 rapports</td>\n",
       "      <td>- Kw/100 km</td>\n",
       "      <td>230 km/h</td>\n",
       "      <td>4</td>\n",
       "      <td>...</td>\n",
       "      <td>141 cm</td>\n",
       "      <td>NaN</td>\n",
       "      <td>405 litre</td>\n",
       "      <td>10.0</td>\n",
       "      <td>oui</td>\n",
       "      <td>oui</td>\n",
       "      <td>oui</td>\n",
       "      <td>auto. Bi-zone</td>\n",
       "      <td>oui</td>\n",
       "      <td>oui</td>\n",
       "    </tr>\n",
       "    <tr>\n",
       "      <th>733</th>\n",
       "      <td>PORSCHE</td>\n",
       "      <td>Taycan Cross Turismo</td>\n",
       "      <td>1.530.000 DH *   * Prix public</td>\n",
       "      <td>Motorisation 320 kW</td>\n",
       "      <td>Electrique</td>\n",
       "      <td>435 ch</td>\n",
       "      <td>Automatique TipTronic à 8 rapports</td>\n",
       "      <td>- Kw/100 km</td>\n",
       "      <td>250 km/h</td>\n",
       "      <td>4</td>\n",
       "      <td>...</td>\n",
       "      <td>141 cm</td>\n",
       "      <td>NaN</td>\n",
       "      <td>405 litre</td>\n",
       "      <td>10.0</td>\n",
       "      <td>oui</td>\n",
       "      <td>oui</td>\n",
       "      <td>oui</td>\n",
       "      <td>auto. Bi-zone</td>\n",
       "      <td>oui</td>\n",
       "      <td>oui</td>\n",
       "    </tr>\n",
       "    <tr>\n",
       "      <th>734</th>\n",
       "      <td>PORSCHE</td>\n",
       "      <td>Taycan Cross Turismo</td>\n",
       "      <td>2.050.000 DH *   * Prix public</td>\n",
       "      <td>Motorisation 460 kW</td>\n",
       "      <td>Electrique</td>\n",
       "      <td>625 ch</td>\n",
       "      <td>Automatique TipTronic à 8 rapports</td>\n",
       "      <td>- Kw/100 km</td>\n",
       "      <td>260 km/h</td>\n",
       "      <td>4</td>\n",
       "      <td>...</td>\n",
       "      <td>141 cm</td>\n",
       "      <td>NaN</td>\n",
       "      <td>405 litre</td>\n",
       "      <td>10.0</td>\n",
       "      <td>oui</td>\n",
       "      <td>oui</td>\n",
       "      <td>oui</td>\n",
       "      <td>auto. Bi-zone</td>\n",
       "      <td>oui</td>\n",
       "      <td>oui</td>\n",
       "    </tr>\n",
       "  </tbody>\n",
       "</table>\n",
       "<p>29 rows × 22 columns</p>\n",
       "</div>"
      ],
      "text/plain": [
       "       Brand                 Model                           Price  \\\n",
       "75      AUDI                e-Tron  1.050.000 DH *   * Prix public   \n",
       "76      AUDI                e-Tron  1.110.000 DH *   * Prix public   \n",
       "77      AUDI      e-Tron Sportback  1.110.000 DH *   * Prix public   \n",
       "78      AUDI      e-Tron Sportback  1.170.000 DH *   * Prix public   \n",
       "205      BMW                    i4    855.000 DH *   * Prix public   \n",
       "206      BMW                    i4    930.000 DH *   * Prix public   \n",
       "207      BMW                    i4    963.000 DH *   * Prix public   \n",
       "208      BMW                    i4  1.016.000 DH *   * Prix public   \n",
       "209      BMW                    iX  1.022.000 DH *   * Prix public   \n",
       "210      BMW                    iX  1.137.000 DH *   * Prix public   \n",
       "211      BMW                    iX  1.198.000 DH *   * Prix public   \n",
       "212      BMW                    iX  1.334.000 DH *   * Prix public   \n",
       "221  CITROEN                   AMI              109.900 DH * promo   \n",
       "245    DACIA                Spring    228.480 DH *   * Prix public   \n",
       "246    DACIA                Spring    223.500 DH *   * Prix public   \n",
       "247    DACIA                Spring    238.500 DH *   * Prix public   \n",
       "335  HYUNDAI               Ioniq 5    579.000 DH *   * Prix public   \n",
       "336  HYUNDAI               Ioniq 5    639.000 DH *   * Prix public   \n",
       "337  HYUNDAI               Ioniq 5    689.000 DH *   * Prix public   \n",
       "374   JAGUAR                I-Pace  1.032.800 DH *   * Prix public   \n",
       "610       MG                MG4 EV              450.000 DH * promo   \n",
       "611       MG                MG4 EV              475.000 DH * promo   \n",
       "728  PORSCHE                Taycan  1.230.000 DH *   * Prix public   \n",
       "729  PORSCHE                Taycan  1.470.000 DH *   * Prix public   \n",
       "730  PORSCHE                Taycan  2.030.000 DH *   * Prix public   \n",
       "731  PORSCHE                Taycan  2.450.000 DH *   * Prix public   \n",
       "732  PORSCHE  Taycan Cross Turismo  1.360.000 DH *   * Prix public   \n",
       "733  PORSCHE  Taycan Cross Turismo  1.530.000 DH *   * Prix public   \n",
       "734  PORSCHE  Taycan Cross Turismo  2.050.000 DH *   * Prix public   \n",
       "\n",
       "                       Moteur     Energie Puissance maxi.  \\\n",
       "75        Electrique à 360 kW  Electrique          408 ch   \n",
       "76        Electrique à 360 kW  Electrique          408 ch   \n",
       "77        Electrique à 360 kW  Electrique          408 ch   \n",
       "78        Electrique à 360 kW  Electrique          408 ch   \n",
       "205       Electrique à 250 kW  Electrique          340 ch   \n",
       "206       Electrique à 250 kW  Electrique          340 ch   \n",
       "207       Electrique à 400 kW  Electrique          544 ch   \n",
       "208       Electrique à 400 kW  Electrique          544 ch   \n",
       "209       Electrique à 240 kW  Electrique          326 ch   \n",
       "210       Electrique à 240 kW  Electrique          326 ch   \n",
       "211       Electrique à 385 kW  Electrique          523 ch   \n",
       "212       Electrique à 385 kW  Electrique          523 ch   \n",
       "221          Électrique 6 kWh  Electrique            8 ch   \n",
       "245  Electrique 45 ch / 33 kW  Electrique           45 ch   \n",
       "246  Electrique 45 ch / 33 kW  Electrique           45 ch   \n",
       "247  Electrique 45 ch / 33 kW  Electrique           45 ch   \n",
       "335                58 kWH 2WD  Electrique          170 ch   \n",
       "336                73 kWH 2WD  Electrique          217 ch   \n",
       "337                73 kWH 4WD  Electrique          305 ch   \n",
       "374                90 kWh 400  Electrique          400 ch   \n",
       "610         125 kW ( 170 ch )  Electrique          170 ch   \n",
       "611         150 kW ( 204 ch )  Electrique          204 ch   \n",
       "728         240 kW ( 326 ch )  Electrique          326 ch   \n",
       "729       Motorisation 320 kW  Electrique          435 ch   \n",
       "730       Motorisation 460 kW  Electrique          625 ch   \n",
       "731       Motorisation 460 kW  Electrique          625 ch   \n",
       "732       Motorisation 240 kW  Electrique          326 ch   \n",
       "733       Motorisation 320 kW  Electrique          435 ch   \n",
       "734       Motorisation 460 kW  Electrique          625 ch   \n",
       "\n",
       "                        Boîte à vitesse    Conso. mixte Vitesse maxi.  \\\n",
       "75                        Automatique -  21,4 Kw/100 km      200 km/h   \n",
       "76                        Automatique -  21,4 Kw/100 km      200 km/h   \n",
       "77                        Automatique -  21,4 Kw/100 km      200 km/h   \n",
       "78                        Automatique -  21,4 Kw/100 km      200 km/h   \n",
       "205                       Automatique -  19,9 Kw/100 km      190 km/h   \n",
       "206                       Automatique -  19,9 Kw/100 km      190 km/h   \n",
       "207                       Automatique -  23,3 Kw/100 km      225 km/h   \n",
       "208                       Automatique -  23,3 Kw/100 km      225 km/h   \n",
       "209                       Automatique -  22,5 Kw/100 km      200 km/h   \n",
       "210                       Automatique -  22,5 Kw/100 km      200 km/h   \n",
       "211                       Automatique -    23 Kw/100 km      200 km/h   \n",
       "212                       Automatique -    23 Kw/100 km      200 km/h   \n",
       "221                       Automatique -     - Kw/100 km       45 km/h   \n",
       "245                       Automatique -  11,9 Kw/100 km      125 km/h   \n",
       "246                       Automatique -  11,9 Kw/100 km      125 km/h   \n",
       "247                       Automatique -  11,9 Kw/100 km      125 km/h   \n",
       "335                       Automatique -  16,7 Kw/100 km      185 km/h   \n",
       "336                       Automatique -  17,9 Kw/100 km      185 km/h   \n",
       "337                       Automatique -  19,0 Kw/100 km      185 km/h   \n",
       "374              Automatique 8 rapports       Kw/100 km          km/h   \n",
       "610                       Automatique -    17 Kw/100 km      160 km/h   \n",
       "611                       Automatique -    16 Kw/100 km      160 km/h   \n",
       "728  Automatique TipTronic à 8 rapports    22 Kw/100 km      230 km/h   \n",
       "729  Automatique TipTronic à 8 rapports     - Kw/100 km      250 km/h   \n",
       "730  Automatique TipTronic à 8 rapports     - Kw/100 km      260 km/h   \n",
       "731  Automatique TipTronic à 8 rapports     - Kw/100 km      260 km/h   \n",
       "732  Automatique TipTronic à 8 rapports     - Kw/100 km      230 km/h   \n",
       "733  Automatique TipTronic à 8 rapports     - Kw/100 km      250 km/h   \n",
       "734  Automatique TipTronic à 8 rapports     - Kw/100 km      260 km/h   \n",
       "\n",
       "    Nombre de places  ... Hauteur Volume du réservoir Volume de coffre  \\\n",
       "75                 5  ...  163 cm                 NaN        600 litre   \n",
       "76                 5  ...  163 cm                 NaN        600 litre   \n",
       "77                 5  ...  163 cm                 NaN        600 litre   \n",
       "78                 5  ...  163 cm                 NaN        600 litre   \n",
       "205                5  ...  145 cm                 NaN        470 litre   \n",
       "206                5  ...  145 cm                 NaN        470 litre   \n",
       "207                5  ...  145 cm                 NaN        470 litre   \n",
       "208                5  ...  145 cm                 NaN        470 litre   \n",
       "209                5  ...  170 cm                 NaN        500 litre   \n",
       "210                5  ...  170 cm                 NaN        500 litre   \n",
       "211                5  ...  170 cm                 NaN        500 litre   \n",
       "212                5  ...  170 cm                 NaN        500 litre   \n",
       "221                2  ...  152 cm                 NaN         63 litre   \n",
       "245                5  ...  151 cm                 NaN        270 litre   \n",
       "246                5  ...  151 cm                 NaN        270 litre   \n",
       "247                5  ...  151 cm                 NaN        270 litre   \n",
       "335                5  ...  160 cm                 NaN        527 litre   \n",
       "336                5  ...  160 cm                 NaN        527 litre   \n",
       "337                5  ...  160 cm                 NaN        527 litre   \n",
       "374                5  ...  167 cm                 NaN        650 litre   \n",
       "610                5  ...  150 cm                 NaN        363 litre   \n",
       "611                5  ...  150 cm                 NaN        363 litre   \n",
       "728                4  ...  138 cm                 NaN        366 litre   \n",
       "729                4  ...  138 cm                 NaN        366 litre   \n",
       "730                4  ...  138 cm                 NaN        366 litre   \n",
       "731                4  ...  138 cm                 NaN        366 litre   \n",
       "732                4  ...  141 cm                 NaN        405 litre   \n",
       "733                4  ...  141 cm                 NaN        405 litre   \n",
       "734                4  ...  141 cm                 NaN        405 litre   \n",
       "\n",
       "    Airbags  ABS  ESP Antipatinage      Climatisation  \\\n",
       "75      8.0  oui  oui          oui  auto. Quadri-zone   \n",
       "76      8.0  oui  oui          oui  auto. Quadri-zone   \n",
       "77      8.0  oui  oui          oui  auto. Quadri-zone   \n",
       "78      8.0  oui  oui          oui  auto. Quadri-zone   \n",
       "205     8.0  oui  oui          oui     auto. Tri-zone   \n",
       "206     8.0  oui  oui          oui     auto. Tri-zone   \n",
       "207     8.0  oui  oui          oui     auto. Tri-zone   \n",
       "208     8.0  oui  oui          oui     auto. Tri-zone   \n",
       "209     8.0  oui  oui          oui     auto. Tri-zone   \n",
       "210     8.0  oui  oui          oui     auto. Tri-zone   \n",
       "211     8.0  oui  oui          oui     auto. Tri-zone   \n",
       "212     8.0  oui  oui          oui     auto. Tri-zone   \n",
       "221     0.0  non  non          non                non   \n",
       "245     4.0  oui  oui          non                non   \n",
       "246     6.0  oui  oui          non                non   \n",
       "247     6.0  oui  oui          non                non   \n",
       "335     7.0  oui  oui          oui      auto. Bi-zone   \n",
       "336     7.0  oui  oui          oui      auto. Bi-zone   \n",
       "337     7.0  oui  oui          oui      auto. Bi-zone   \n",
       "374     0.0  oui  non          non                non   \n",
       "610     6.0  oui  oui          oui              auto.   \n",
       "611     6.0  oui  oui          oui              auto.   \n",
       "728    10.0  oui  oui          oui      auto. Bi-zone   \n",
       "729    10.0  oui  oui          oui      auto. Bi-zone   \n",
       "730    10.0  oui  oui          oui      auto. Bi-zone   \n",
       "731    10.0  oui  oui          oui      auto. Bi-zone   \n",
       "732    10.0  oui  oui          oui      auto. Bi-zone   \n",
       "733    10.0  oui  oui          oui      auto. Bi-zone   \n",
       "734    10.0  oui  oui          oui      auto. Bi-zone   \n",
       "\n",
       "    Système de navigation GPS Bluetooth  \n",
       "75                        oui       oui  \n",
       "76                        oui       oui  \n",
       "77                        oui       oui  \n",
       "78                        oui       oui  \n",
       "205                       oui       oui  \n",
       "206                       oui       oui  \n",
       "207                       oui       oui  \n",
       "208                       oui       oui  \n",
       "209                       oui       oui  \n",
       "210                       oui       oui  \n",
       "211                       oui       oui  \n",
       "212                       oui       oui  \n",
       "221                       non       non  \n",
       "245                       non       non  \n",
       "246                       non       non  \n",
       "247                       non       non  \n",
       "335                       oui       oui  \n",
       "336                       oui       oui  \n",
       "337                       oui       oui  \n",
       "374                       non       non  \n",
       "610                       non       oui  \n",
       "611                       non       oui  \n",
       "728                       oui       oui  \n",
       "729                       oui       oui  \n",
       "730                       oui       oui  \n",
       "731                       oui       oui  \n",
       "732                       oui       oui  \n",
       "733                       oui       oui  \n",
       "734                       oui       oui  \n",
       "\n",
       "[29 rows x 22 columns]"
      ]
     },
     "execution_count": 1001,
     "metadata": {},
     "output_type": "execute_result"
    }
   ],
   "source": [
    "new_df[new_df.isnull().any(axis=1)]\n"
   ]
  },
  {
   "cell_type": "code",
   "execution_count": 1002,
   "metadata": {},
   "outputs": [
    {
     "name": "stderr",
     "output_type": "stream",
     "text": [
      "C:\\Users\\Unes\\AppData\\Local\\Temp\\ipykernel_10544\\1391692670.py:1: FutureWarning:\n",
      "\n",
      "The default value of regex will change from True to False in a future version.\n",
      "\n"
     ]
    }
   ],
   "source": [
    "new_df['Price'] = new_df['Price'].str.replace(r'\\D', '') #delete non numerical caracteres Price's column\n",
    "\n"
   ]
  },
  {
   "cell_type": "code",
   "execution_count": 1003,
   "metadata": {},
   "outputs": [],
   "source": [
    "#new_df.drop(277, inplace=True)"
   ]
  },
  {
   "cell_type": "code",
   "execution_count": 1004,
   "metadata": {},
   "outputs": [],
   "source": [
    "new_df['Price']=new_df['Price'].astype('float') \n"
   ]
  },
  {
   "cell_type": "code",
   "execution_count": 1005,
   "metadata": {},
   "outputs": [],
   "source": [
    "new_df['ABS'] = new_df['ABS'].map({'oui': 1, 'non': 0})\n",
    "new_df['ESP'] = new_df['ESP'].map({'oui': 1, 'non': 0})\n",
    "new_df['Antipatinage'] = new_df['Antipatinage'].map({'oui': 1, 'non': 0})\n",
    "new_df['Bluetooth'] = new_df['Bluetooth'].map({'oui': 1, 'non': 0})\n",
    "new_df['Système de navigation GPS'] = new_df['Système de navigation GPS'].map({'oui': 1, 'non': 0})\n",
    "\n",
    "\n",
    "\n",
    "\n",
    "\n"
   ]
  },
  {
   "cell_type": "code",
   "execution_count": 1006,
   "metadata": {},
   "outputs": [
    {
     "data": {
      "text/plain": [
       "1    822\n",
       "0     25\n",
       "Name: Bluetooth, dtype: int64"
      ]
     },
     "execution_count": 1006,
     "metadata": {},
     "output_type": "execute_result"
    }
   ],
   "source": [
    "new_df['Bluetooth'].value_counts()"
   ]
  },
  {
   "cell_type": "code",
   "execution_count": 1007,
   "metadata": {},
   "outputs": [],
   "source": [
    "new_df[['ABS', 'ESP', 'Antipatinage', 'Bluetooth','Système de navigation GPS']] = new_df[['ABS', 'ESP', 'Antipatinage', 'Bluetooth', 'Système de navigation GPS']].astype('int32')"
   ]
  },
  {
   "cell_type": "code",
   "execution_count": 1008,
   "metadata": {},
   "outputs": [
    {
     "data": {
      "text/plain": [
       "ABS                          int32\n",
       "ESP                          int32\n",
       "Antipatinage                 int32\n",
       "Bluetooth                    int32\n",
       "Système de navigation GPS    int32\n",
       "dtype: object"
      ]
     },
     "execution_count": 1008,
     "metadata": {},
     "output_type": "execute_result"
    }
   ],
   "source": [
    "new_df[['ABS', 'ESP', 'Antipatinage', 'Bluetooth', 'Système de navigation GPS']].dtypes"
   ]
  },
  {
   "cell_type": "code",
   "execution_count": 1009,
   "metadata": {},
   "outputs": [
    {
     "data": {
      "text/plain": [
       "150 ch    75\n",
       "115 ch    46\n",
       "130 ch    37\n",
       "190 ch    34\n",
       "204 ch    29\n",
       "          ..\n",
       "145 ch     1\n",
       "585 ch     1\n",
       "422 ch     1\n",
       "53 ch      1\n",
       "134 ch     1\n",
       "Name: Puissance maxi., Length: 120, dtype: int64"
      ]
     },
     "execution_count": 1009,
     "metadata": {},
     "output_type": "execute_result"
    }
   ],
   "source": [
    "new_df['Puissance maxi.'].value_counts()"
   ]
  },
  {
   "cell_type": "code",
   "execution_count": 1010,
   "metadata": {},
   "outputs": [
    {
     "data": {
      "text/plain": [
       "Brand                         0\n",
       "Model                         0\n",
       "Price                         0\n",
       "Moteur                        0\n",
       "Energie                       0\n",
       "Puissance maxi.               0\n",
       "Boîte à vitesse               0\n",
       "Conso. mixte                  0\n",
       "Vitesse maxi.                 0\n",
       "Nombre de places              0\n",
       "Longueur                      0\n",
       "Largeur                       0\n",
       "Hauteur                       0\n",
       "Volume du réservoir          29\n",
       "Volume de coffre              0\n",
       "Airbags                       0\n",
       "ABS                           0\n",
       "ESP                           0\n",
       "Antipatinage                  0\n",
       "Climatisation                 0\n",
       "Système de navigation GPS     0\n",
       "Bluetooth                     0\n",
       "dtype: int64"
      ]
     },
     "execution_count": 1010,
     "metadata": {},
     "output_type": "execute_result"
    }
   ],
   "source": [
    "new_df.isna().sum()"
   ]
  },
  {
   "cell_type": "code",
   "execution_count": 1011,
   "metadata": {},
   "outputs": [
    {
     "data": {
      "text/plain": [
       "5,3 l/100 km      63\n",
       "4,8 l/100 km      43\n",
       "4,3 l/100 km      32\n",
       "4,6 l/100 km      32\n",
       "5,0 l/100 km      30\n",
       "                  ..\n",
       "Kw/100 km          1\n",
       "19,0 Kw/100 km     1\n",
       "17,9 Kw/100 km     1\n",
       "16,7 Kw/100 km     1\n",
       "16 Kw/100 km       1\n",
       "Name: Conso. mixte, Length: 94, dtype: int64"
      ]
     },
     "execution_count": 1011,
     "metadata": {},
     "output_type": "execute_result"
    }
   ],
   "source": [
    "new_df['Conso. mixte'].value_counts()"
   ]
  },
  {
   "cell_type": "code",
   "execution_count": 1012,
   "metadata": {},
   "outputs": [
    {
     "data": {
      "text/plain": [
       "250 km/h    72\n",
       "180 km/h    47\n",
       "210 km/h    44\n",
       "235 km/h    36\n",
       "200 km/h    33\n",
       "            ..\n",
       "283 km/h     1\n",
       "307 km/h     1\n",
       "201 km/h     1\n",
       "214 km/h     1\n",
       "45 km/h      1\n",
       "Name: Vitesse maxi., Length: 97, dtype: int64"
      ]
     },
     "execution_count": 1012,
     "metadata": {},
     "output_type": "execute_result"
    }
   ],
   "source": [
    "new_df['Vitesse maxi.'].value_counts()"
   ]
  },
  {
   "cell_type": "code",
   "execution_count": 1013,
   "metadata": {},
   "outputs": [
    {
     "data": {
      "text/plain": [
       "530 litre    33\n",
       "480 litre    32\n",
       "550 litre    32\n",
       "500 litre    26\n",
       "380 litre    22\n",
       "             ..\n",
       "493 litre     1\n",
       "574 litre     1\n",
       "635 litre     1\n",
       "423 litre     1\n",
       "304 litre     1\n",
       "Name: Volume de coffre, Length: 137, dtype: int64"
      ]
     },
     "execution_count": 1013,
     "metadata": {},
     "output_type": "execute_result"
    }
   ],
   "source": [
    "new_df['Volume de coffre'].value_counts()"
   ]
  },
  {
   "cell_type": "code",
   "execution_count": 1014,
   "metadata": {},
   "outputs": [],
   "source": [
    "#print(new_df['Longueur'].value_counts())\n",
    "#print(new_df['Largeur'].value_counts())\n",
    "#print(new_df['Hauteur'].value_counts())\n",
    "#print(new_df['Nombre de places'].value_counts())"
   ]
  },
  {
   "cell_type": "code",
   "execution_count": 1015,
   "metadata": {},
   "outputs": [],
   "source": [
    "new_df['Volume du réservoir'].fillna('50 litre', inplace=True)\n",
    "\n",
    "\n",
    "new_df['Volume du réservoir'] = new_df['Volume du réservoir'].str.replace('-', '50')\n",
    "new_df['Conso. mixte'] = new_df['Conso. mixte'].str.replace('-', '5.3')\n",
    "new_df['Vitesse maxi.'] = new_df['Vitesse maxi.'].str.replace('-', '250')\n",
    "new_df['Volume de coffre'] = new_df['Volume de coffre'].str.replace('-', '530')\n",
    "\n",
    "new_df['Longueur'] = new_df['Longueur'].str.replace('-', '450') #mean\n",
    "new_df['Largeur'] = new_df['Largeur'].str.replace('-', '493.0') #mean\n",
    "new_df['Hauteur'] = new_df['Hauteur'].str.replace('-', '144.00') #mean\n",
    "\n",
    "new_df['Nombre de places'] = new_df['Nombre de places'].str.replace('-', '144')\n",
    "\n"
   ]
  },
  {
   "cell_type": "code",
   "execution_count": 1016,
   "metadata": {},
   "outputs": [
    {
     "name": "stderr",
     "output_type": "stream",
     "text": [
      "C:\\Users\\Unes\\AppData\\Local\\Temp\\ipykernel_10544\\852039209.py:2: FutureWarning:\n",
      "\n",
      "The default value of regex will change from True to False in a future version.\n",
      "\n",
      "C:\\Users\\Unes\\AppData\\Local\\Temp\\ipykernel_10544\\852039209.py:4: FutureWarning:\n",
      "\n",
      "The default value of regex will change from True to False in a future version.\n",
      "\n"
     ]
    }
   ],
   "source": [
    "new_df['Boîte à vitesse'] = new_df['Boîte à vitesse'].str.split(' ').str[0].astype(str)\n",
    "new_df['Puissance maxi.'] = new_df['Puissance maxi.'].str.replace(r'\\D', '')\n",
    "\n",
    "new_df['Volume du réservoir'] = new_df['Volume du réservoir'].str.replace(r'\\D', '')\n",
    "new_df['Volume de coffre'] = new_df['Volume de coffre'].str.replace(' litre', '')\n",
    "new_df['Conso. mixte'] = new_df['Conso. mixte'].str.split(' ').str[0]\n",
    "new_df['Conso. mixte'] = new_df['Conso. mixte'].str.replace(',', '.')\n",
    "\n",
    "new_df['Vitesse maxi.'] = new_df['Vitesse maxi.'].str.replace(' km/h', '')\n",
    "\n",
    "new_df['Longueur'] = new_df['Longueur'].str.split(' ').str[0]\n",
    "new_df['Largeur'] = new_df['Largeur'].str.split(' ').str[0]\n",
    "new_df['Hauteur'] = new_df['Hauteur'].str.split(' ').str[0]"
   ]
  },
  {
   "cell_type": "code",
   "execution_count": 1017,
   "metadata": {},
   "outputs": [],
   "source": [
    "#new_df.drop(index=[375, 376], inplace=True)\n",
    "\n"
   ]
  },
  {
   "cell_type": "code",
   "execution_count": 1018,
   "metadata": {},
   "outputs": [],
   "source": [
    "new_df.drop([10, 374], inplace=True) #delete a row containing error in cons. mixte"
   ]
  },
  {
   "cell_type": "code",
   "execution_count": 1019,
   "metadata": {},
   "outputs": [],
   "source": [
    "new_df['Puissance maxi.']=new_df['Puissance maxi.'].astype(float)\n",
    "new_df['Volume du réservoir']=new_df['Volume du réservoir'].astype(float)\n",
    "new_df['Conso. mixte']=new_df['Conso. mixte'].astype(float)\n",
    "new_df['Vitesse maxi.']=new_df['Vitesse maxi.'].astype(float)\n",
    "new_df['Volume de coffre'] = new_df['Volume de coffre'].astype(float)\n",
    "\n",
    "new_df['Longueur'] = new_df['Longueur'].astype(float)\n",
    "new_df['Largeur'] = new_df['Largeur'].astype(float)\n",
    "new_df['Hauteur'] = new_df['Hauteur'].astype(float)\n",
    "\n",
    "new_df['Nombre de places'] = new_df['Nombre de places'].astype(int)\n",
    "\n",
    "\n",
    "\n"
   ]
  },
  {
   "cell_type": "code",
   "execution_count": 1020,
   "metadata": {},
   "outputs": [
    {
     "data": {
      "text/plain": [
       "Brand                         object\n",
       "Model                         object\n",
       "Price                        float64\n",
       "Moteur                        object\n",
       "Energie                       object\n",
       "Puissance maxi.              float64\n",
       "Boîte à vitesse               object\n",
       "Conso. mixte                 float64\n",
       "Vitesse maxi.                float64\n",
       "Nombre de places               int32\n",
       "Longueur                     float64\n",
       "Largeur                      float64\n",
       "Hauteur                      float64\n",
       "Volume du réservoir          float64\n",
       "Volume de coffre             float64\n",
       "Airbags                      float64\n",
       "ABS                            int32\n",
       "ESP                            int32\n",
       "Antipatinage                   int32\n",
       "Climatisation                 object\n",
       "Système de navigation GPS      int32\n",
       "Bluetooth                      int32\n",
       "dtype: object"
      ]
     },
     "execution_count": 1020,
     "metadata": {},
     "output_type": "execute_result"
    }
   ],
   "source": [
    "#new_df[new_df.isnull().any(axis=1)]\n",
    "#new_df.iloc[[201, 202, 203, 813, 812, 811, 810, 809, 808, 785, 727, 725, 724, 723, 722, 625, 624, 623, 622, 621, 620, 619, 618, 617, 615, 614, 613]]\n",
    "new_df.dtypes"
   ]
  },
  {
   "cell_type": "code",
   "execution_count": 1021,
   "metadata": {},
   "outputs": [
    {
     "data": {
      "text/plain": [
       "auto. Bi-zone        423\n",
       "manuelle             151\n",
       "auto. Tri-zone       126\n",
       "auto.                 99\n",
       "auto. Quadri-zone     25\n",
       "non                   17\n",
       "semi-automatique       3\n",
       "auto. Multi-zone       1\n",
       "Name: Climatisation, dtype: int64"
      ]
     },
     "execution_count": 1021,
     "metadata": {},
     "output_type": "execute_result"
    }
   ],
   "source": [
    "new_df['Climatisation'].value_counts()"
   ]
  },
  {
   "cell_type": "code",
   "execution_count": 1022,
   "metadata": {},
   "outputs": [
    {
     "data": {
      "text/plain": [
       "Brand                        0\n",
       "Model                        0\n",
       "Price                        0\n",
       "Moteur                       0\n",
       "Energie                      0\n",
       "Puissance maxi.              0\n",
       "Boîte à vitesse              0\n",
       "Conso. mixte                 0\n",
       "Vitesse maxi.                0\n",
       "Nombre de places             0\n",
       "Longueur                     0\n",
       "Largeur                      0\n",
       "Hauteur                      0\n",
       "Volume du réservoir          0\n",
       "Volume de coffre             0\n",
       "Airbags                      0\n",
       "ABS                          0\n",
       "ESP                          0\n",
       "Antipatinage                 0\n",
       "Climatisation                0\n",
       "Système de navigation GPS    0\n",
       "Bluetooth                    0\n",
       "dtype: int64"
      ]
     },
     "execution_count": 1022,
     "metadata": {},
     "output_type": "execute_result"
    }
   ],
   "source": [
    "new_df.isna().sum()"
   ]
  },
  {
   "attachments": {},
   "cell_type": "markdown",
   "metadata": {},
   "source": [
    "**Visualisation:**"
   ]
  },
  {
   "cell_type": "code",
   "execution_count": 1023,
   "metadata": {},
   "outputs": [],
   "source": [
    "import plotly\n",
    "import plotly.express as px\n",
    "import plotly\n",
    "import plotly.express as px\n",
    "from plotly.offline import init_notebook_mode, iplot\n",
    "import plotly.graph_objs as go"
   ]
  },
  {
   "cell_type": "code",
   "execution_count": 1024,
   "metadata": {},
   "outputs": [
    {
     "data": {
      "text/plain": [
       "<AxesSubplot: title={'center': 'pourcentage of brand in market'}, ylabel='Brand'>"
      ]
     },
     "execution_count": 1024,
     "metadata": {},
     "output_type": "execute_result"
    },
    {
     "data": {
      "image/png": "[encoded data removed]",
      "text/plain": [
       "<Figure size 1000x1000 with 1 Axes>"
      ]
     },
     "metadata": {},
     "output_type": "display_data"
    }
   ],
   "source": [
    "new_df['Brand'].value_counts().plot.pie( legend=False,title='pourcentage of brand in market', \\\n",
    "                   autopct='%1.1f%%',  \\\n",
    "                    startangle=0, figsize=(10, 10))"
   ]
  },
  {
   "cell_type": "code",
   "execution_count": 1025,
   "metadata": {},
   "outputs": [
    {
     "data": {
      "text/plain": [
       "<AxesSubplot: title={'center': 'pourcentage of energies'}, ylabel='Energie'>"
      ]
     },
     "execution_count": 1025,
     "metadata": {},
     "output_type": "execute_result"
    },
    {
     "data": {
      "image/png": "[encoded data removed]",
      "text/plain": [
       "<Figure size 700x700 with 1 Axes>"
      ]
     },
     "metadata": {},
     "output_type": "display_data"
    }
   ],
   "source": [
    "new_df['Energie'].value_counts().plot.pie( legend=True,title='pourcentage of energies', \\\n",
    "                   autopct='%1.1f%%',  \\\n",
    "                    startangle=0, figsize=(7, 7))"
   ]
  },
  {
   "cell_type": "code",
   "execution_count": 1026,
   "metadata": {},
   "outputs": [
    {
     "data": {
      "application/vnd.plotly.v1+json": {
       "config": {
        "plotlyServerURL": "https://plot.ly"
       },
       "data": [
        {
         "hovertemplate": "Energie=%{x}<br>Price=%{y}<extra></extra>",
         "legendgroup": "",
         "marker": {
          "color": "#636efa",
          "symbol": "circle"
         },
         "mode": "markers",
         "name": "",
         "orientation": "v",
         "showlegend": false,
         "type": "scatter",
         "x": [
          "Diesel",
          "Diesel",
          "Essence",
          "Diesel",
          "Diesel",
          "Hybride",
          "Hybride",
          "Diesel",
          "Diesel",
          "Diesel",
          "Diesel",
          "Diesel",
          "Diesel",
          "Diesel",
          "Diesel",
          "Diesel",
          "Diesel",
          "Diesel",
          "Diesel",
          "Diesel",
          "Diesel",
          "Diesel",
          "Diesel",
          "Diesel",
          "Diesel",
          "Diesel",
          "Diesel",
          "Diesel",
          "Diesel",
          "Diesel",
          "Diesel",
          "Diesel",
          "Diesel",
          "Diesel",
          "Diesel",
          "Diesel",
          "Diesel",
          "Diesel",
          "Diesel",
          "Diesel",
          "Diesel",
          "Diesel",
          "Diesel",
          "Diesel",
          "Diesel",
          "Diesel",
          "Diesel",
          "Diesel",
          "Diesel",
          "Diesel",
          "Diesel",
          "Diesel",
          "Diesel",
          "Diesel",
          "Diesel",
          "Diesel",
          "Diesel",
          "Diesel",
          "Diesel",
          "Diesel",
          "Diesel",
          "Diesel",
          "Diesel",
          "Diesel",
          "Diesel",
          "Diesel",
          "Diesel",
          "Diesel",
          "Diesel",
          "Diesel",
          "Diesel",
          "Diesel",
          "Diesel",
          "Diesel",
          "Electrique",
          "Electrique",
          "Electrique",
          "Electrique",
          "Diesel",
          "Diesel",
          "Diesel",
          "Diesel",
          "Diesel",
          "Diesel",
          "Diesel",
          "Essence",
          "Essence",
          "Diesel",
          "Diesel",
          "Diesel",
          "Diesel",
          "Diesel",
          "Diesel",
          "Diesel",
          "Diesel",
          "Diesel",
          "Essence",
          "Essence",
          "Essence",
          "Diesel",
          "Diesel",
          "Diesel",
          "Diesel",
          "Essence",
          "Essence",
          "Essence",
          "Essence",
          "Essence",
          "Essence",
          "Diesel",
          "Diesel",
          "Diesel",
          "Essence",
          "Essence",
          "Essence",
          "Essence",
          "Essence",
          "Essence",
          "Essence",
          "Essence",
          "Essence",
          "Essence",
          "Essence",
          "Essence",
          "Essence",
          "Essence",
          "Essence",
          "Essence",
          "Diesel",
          "Diesel",
          "Diesel",
          "Essence",
          "Essence",
          "Essence",
          "Essence",
          "Essence",
          "Essence",
          "Diesel",
          "Diesel",
          "Diesel",
          "Diesel",
          "Diesel",
          "Diesel",
          "Diesel",
          "Essence",
          "Essence",
          "Essence",
          "Essence",
          "Essence",
          "Essence",
          "Essence",
          "Essence",
          "Hybride",
          "Hybride",
          "Hybride",
          "Diesel",
          "Essence",
          "Essence",
          "Diesel",
          "Essence",
          "Essence",
          "Diesel",
          "Diesel",
          "Diesel",
          "Diesel",
          "Diesel",
          "Diesel",
          "Diesel",
          "Diesel",
          "Diesel",
          "Diesel",
          "Diesel",
          "Hybride",
          "Hybride",
          "Diesel",
          "Diesel",
          "Diesel",
          "Diesel",
          "Diesel",
          "Diesel",
          "Diesel",
          "Diesel",
          "Diesel",
          "Diesel",
          "Diesel",
          "Diesel",
          "Diesel",
          "Diesel",
          "Diesel",
          "Diesel",
          "Diesel",
          "Diesel",
          "Diesel",
          "Hybride",
          "Hybride",
          "Hybride",
          "Hybride",
          "Diesel",
          "Diesel",
          "Diesel",
          "Diesel",
          "Electrique",
          "Electrique",
          "Electrique",
          "Electrique",
          "Electrique",
          "Electrique",
          "Electrique",
          "Electrique",
          "Essence",
          "Essence",
          "Essence",
          "Essence",
          "Essence",
          "Essence",
          "Essence",
          "Essence",
          "Electrique",
          "Diesel",
          "Diesel",
          "Diesel",
          "Diesel",
          "Diesel",
          "Diesel",
          "Diesel",
          "Diesel",
          "Diesel",
          "Diesel",
          "Diesel",
          "Diesel",
          "Diesel",
          "Diesel",
          "Diesel",
          "Diesel",
          "Diesel",
          "Diesel",
          "Diesel",
          "Diesel",
          "Diesel",
          "Diesel",
          "Diesel",
          "Electrique",
          "Electrique",
          "Electrique",
          "Essence",
          "Essence",
          "Essence",
          "Diesel",
          "Diesel",
          "Essence",
          "Diesel",
          "Diesel",
          "Diesel",
          "Diesel",
          "Diesel",
          "Diesel",
          "Diesel",
          "Diesel",
          "Diesel",
          "Diesel",
          "Diesel",
          "Diesel",
          "Diesel",
          "Essence",
          "Essence",
          "Essence",
          "Essence",
          "Essence",
          "Diesel",
          "Diesel",
          "Diesel",
          "Diesel",
          "Diesel",
          "Essence",
          "Essence",
          "Essence",
          "Essence",
          "Diesel",
          "Diesel",
          "Diesel",
          "Essence",
          "Essence",
          "Diesel",
          "Diesel",
          "Diesel",
          "Diesel",
          "Diesel",
          "Diesel",
          "Diesel",
          "Essence",
          "Diesel",
          "Diesel",
          "Hybride",
          "Hybride",
          "Diesel",
          "Diesel",
          "Diesel",
          "Diesel",
          "Diesel",
          "Hybride",
          "Essence",
          "Essence",
          "Essence",
          "Hybride",
          "Essence",
          "Essence",
          "Hybride",
          "Essence",
          "Essence",
          "Hybride",
          "Essence",
          "Essence",
          "Essence",
          "Essence",
          "Essence",
          "Essence",
          "Essence",
          "Essence",
          "Essence",
          "Essence",
          "Essence",
          "Essence",
          "Diesel",
          "Diesel",
          "Diesel",
          "Diesel",
          "Diesel",
          "Diesel",
          "Diesel",
          "Electrique",
          "Electrique",
          "Electrique",
          "Hybride",
          "Hybride",
          "Hybride",
          "Hybride",
          "Diesel",
          "Diesel",
          "Diesel",
          "Diesel",
          "Hybride",
          "Hybride",
          "Diesel",
          "Diesel",
          "Diesel",
          "Diesel",
          "Diesel",
          "Hybride",
          "Hybride",
          "Hybride",
          "Diesel",
          "Diesel",
          "Diesel",
          "Diesel",
          "Diesel",
          "Diesel",
          "Diesel",
          "Diesel",
          "Diesel",
          "Diesel",
          "Diesel",
          "Diesel",
          "Diesel",
          "Diesel",
          "Diesel",
          "Diesel",
          "Diesel",
          "Diesel",
          "Essence",
          "Essence",
          "Diesel",
          "Diesel",
          "Essence",
          "Essence",
          "Diesel",
          "Diesel",
          "Diesel",
          "Diesel",
          "Essence",
          "Essence",
          "Essence",
          "Essence",
          "Essence",
          "Essence",
          "Essence",
          "Essence",
          "Essence",
          "Essence",
          "Diesel",
          "Diesel",
          "Diesel",
          "Diesel",
          "Hybride",
          "Hybride",
          "Hybride",
          "Hybride",
          "Essence",
          "Essence",
          "Essence",
          "Essence",
          "Essence",
          "Diesel",
          "Diesel",
          "Diesel",
          "Diesel",
          "Diesel",
          "Diesel",
          "Diesel",
          "Diesel",
          "Diesel",
          "Hybride",
          "Hybride",
          "Hybride",
          "Diesel",
          "Diesel",
          "Diesel",
          "Diesel",
          "Diesel",
          "Diesel",
          "Diesel",
          "Diesel",
          "Hybride",
          "Hybride",
          "Diesel",
          "Diesel",
          "Diesel",
          "Diesel",
          "Diesel",
          "Hybride",
          "Hybride",
          "Hybride",
          "Diesel",
          "Diesel",
          "Diesel",
          "Diesel",
          "Diesel",
          "Diesel",
          "Diesel",
          "Diesel",
          "Diesel",
          "Diesel",
          "Diesel",
          "Diesel",
          "Diesel",
          "Diesel",
          "Diesel",
          "Diesel",
          "Diesel",
          "Hybride",
          "Diesel",
          "Diesel",
          "Diesel",
          "Diesel",
          "Diesel",
          "Diesel",
          "Hybride",
          "Hybride",
          "Hybride",
          "Hybride",
          "Hybride",
          "Hybride",
          "Hybride",
          "Hybride",
          "Hybride",
          "Hybride",
          "Hybride",
          "Hybride",
          "Hybride",
          "Hybride",
          "Hybride",
          "Hybride",
          "Hybride",
          "Essence",
          "Essence",
          "Diesel",
          "Diesel",
          "Diesel",
          "Diesel",
          "Essence",
          "Essence",
          "Essence",
          "Diesel",
          "Diesel",
          "Diesel",
          "Diesel",
          "Essence",
          "Essence",
          "Essence",
          "Diesel",
          "Diesel",
          "Diesel",
          "Diesel",
          "Diesel",
          "Diesel",
          "Diesel",
          "Diesel",
          "Diesel",
          "Essence",
          "Essence",
          "Essence",
          "Essence",
          "Diesel",
          "Diesel",
          "Diesel",
          "Diesel",
          "Diesel",
          "Diesel",
          "Diesel",
          "Diesel",
          "Diesel",
          "Diesel",
          "Diesel",
          "Diesel",
          "Diesel",
          "Diesel",
          "Diesel",
          "Diesel",
          "Diesel",
          "Diesel",
          "Hybride",
          "Hybride",
          "Hybride",
          "Hybride",
          "Diesel",
          "Diesel",
          "Diesel",
          "Diesel",
          "Diesel",
          "Diesel",
          "Diesel",
          "Diesel",
          "Diesel",
          "Diesel",
          "Diesel",
          "Diesel",
          "Diesel",
          "Diesel",
          "Diesel",
          "Diesel",
          "Diesel",
          "Diesel",
          "Diesel",
          "Diesel",
          "Hybride",
          "Hybride",
          "Hybride",
          "Hybride",
          "Diesel",
          "Diesel",
          "Diesel",
          "Diesel",
          "Diesel",
          "Diesel",
          "Diesel",
          "Diesel",
          "Hybride",
          "Hybride",
          "Hybride",
          "Hybride",
          "Diesel",
          "Diesel",
          "Diesel",
          "Diesel",
          "Diesel",
          "Diesel",
          "Hybride",
          "Hybride",
          "Hybride",
          "Diesel",
          "Diesel",
          "Diesel",
          "Diesel",
          "Diesel",
          "Diesel",
          "Diesel",
          "Diesel",
          "Hybride",
          "Hybride",
          "Hybride",
          "Hybride",
          "Diesel",
          "Diesel",
          "Diesel",
          "Diesel",
          "Diesel",
          "Diesel",
          "Hybride",
          "Hybride",
          "Hybride",
          "Diesel",
          "Diesel",
          "Diesel",
          "Diesel",
          "Diesel",
          "Diesel",
          "Diesel",
          "Diesel",
          "Essence",
          "Essence",
          "Essence",
          "Essence",
          "Electrique",
          "Electrique",
          "Essence",
          "Essence",
          "Essence",
          "Essence",
          "Essence",
          "Essence",
          "Essence",
          "Essence",
          "Essence",
          "Essence",
          "Essence",
          "Essence",
          "Essence",
          "Essence",
          "Essence",
          "Essence",
          "Essence",
          "Essence",
          "Diesel",
          "Diesel",
          "Diesel",
          "Diesel",
          "Diesel",
          "Diesel",
          "Diesel",
          "Diesel",
          "Essence",
          "Essence",
          "Essence",
          "Essence",
          "Essence",
          "Essence",
          "Essence",
          "Essence",
          "Essence",
          "Essence",
          "Essence",
          "Essence",
          "Essence",
          "Diesel",
          "Diesel",
          "Diesel",
          "Diesel",
          "Diesel",
          "Diesel",
          "Diesel",
          "Diesel",
          "Diesel",
          "Diesel",
          "Essence",
          "Essence",
          "Diesel",
          "Diesel",
          "Diesel",
          "Diesel",
          "Diesel",
          "Essence",
          "Diesel",
          "Diesel",
          "Diesel",
          "Diesel",
          "Diesel",
          "Diesel",
          "Diesel",
          "Diesel",
          "Diesel",
          "Diesel",
          "Diesel",
          "Diesel",
          "Diesel",
          "Diesel",
          "Diesel",
          "Diesel",
          "Diesel",
          "Essence",
          "Essence",
          "Essence",
          "Essence",
          "Essence",
          "Essence",
          "Essence",
          "Essence",
          "Essence",
          "Essence",
          "Essence",
          "Essence",
          "Essence",
          "Essence",
          "Essence",
          "Essence",
          "Hybride",
          "Hybride",
          "Hybride",
          "Essence",
          "Essence",
          "Essence",
          "Hybride",
          "Hybride",
          "Electrique",
          "Electrique",
          "Electrique",
          "Electrique",
          "Electrique",
          "Electrique",
          "Electrique",
          "Essence",
          "Essence",
          "Diesel",
          "Diesel",
          "Diesel",
          "Diesel",
          "Diesel",
          "Diesel",
          "Diesel",
          "Diesel",
          "Diesel",
          "Diesel",
          "Diesel",
          "Diesel",
          "Diesel",
          "Diesel",
          "Diesel",
          "Diesel",
          "Essence",
          "Diesel",
          "Essence",
          "Diesel",
          "Diesel",
          "Diesel",
          "Diesel",
          "Diesel",
          "Diesel",
          "Diesel",
          "Diesel",
          "Diesel",
          "Diesel",
          "Diesel",
          "Diesel",
          "Diesel",
          "Diesel",
          "Diesel",
          "Diesel",
          "Diesel",
          "Diesel",
          "Diesel",
          "Diesel",
          "Diesel",
          "Diesel",
          "Diesel",
          "Diesel",
          "Diesel",
          "Diesel",
          "Diesel",
          "Diesel",
          "Diesel",
          "Diesel",
          "Diesel",
          "Diesel",
          "Diesel",
          "Diesel",
          "Diesel",
          "Diesel",
          "Diesel",
          "Diesel",
          "Diesel",
          "Diesel",
          "Diesel",
          "Diesel",
          "Diesel",
          "Diesel",
          "Diesel",
          "Diesel",
          "Diesel",
          "Diesel",
          "Diesel",
          "Diesel",
          "Diesel",
          "Essence",
          "Diesel",
          "Diesel",
          "Diesel",
          "Diesel",
          "Essence",
          "Diesel",
          "Essence",
          "Essence",
          "Hybride",
          "Hybride",
          "Hybride",
          "Hybride",
          "Hybride",
          "Hybride",
          "Hybride",
          "Hybride",
          "Hybride",
          "Hybride",
          "Hybride",
          "Hybride",
          "Hybride",
          "Hybride",
          "Hybride",
          "Hybride",
          "Hybride",
          "Hybride",
          "Hybride",
          "Hybride",
          "Hybride",
          "Diesel",
          "Diesel",
          "Diesel",
          "Diesel",
          "Diesel",
          "Diesel",
          "Diesel",
          "Diesel",
          "Diesel",
          "Diesel",
          "Diesel",
          "Diesel",
          "Diesel",
          "Diesel",
          "Diesel",
          "Diesel",
          "Diesel",
          "Diesel",
          "Diesel",
          "Diesel",
          "Diesel",
          "Diesel",
          "Hybride",
          "Hybride",
          "Essence",
          "Essence",
          "Essence",
          "Hybride",
          "Hybride",
          "Hybride",
          "Diesel",
          "Diesel",
          "Diesel",
          "Diesel",
          "Diesel"
         ],
         "xaxis": "x",
         "y": [
          455000,
          510000,
          1008000,
          389000,
          429000,
          425000,
          451100,
          572500,
          625000,
          665000,
          317000,
          354000,
          354000,
          397000,
          440000,
          474000,
          369000,
          412000,
          455000,
          489000,
          456000,
          499000,
          576000,
          689000,
          517000,
          602000,
          689000,
          519000,
          624000,
          707000,
          806000,
          889000,
          919000,
          780000,
          890000,
          990000,
          1080000,
          1230000,
          1340000,
          1500000,
          340000,
          379000,
          416000,
          459000,
          427000,
          460000,
          497000,
          570000,
          494000,
          517000,
          576000,
          615000,
          622000,
          515000,
          562000,
          634000,
          549000,
          632000,
          693000,
          747000,
          1050000,
          720000,
          807000,
          893000,
          1100000,
          819000,
          949000,
          1049000,
          950000,
          1050000,
          1050000,
          1150000,
          1250000,
          1350000,
          1050000,
          1110000,
          1110000,
          1170000,
          349000,
          407000,
          433000,
          412000,
          450000,
          446000,
          485000,
          698000,
          749000,
          389000,
          432000,
          466000,
          419000,
          457000,
          482000,
          445000,
          478000,
          515000,
          732000,
          783000,
          378000,
          489700,
          577000,
          544000,
          625000,
          531000,
          629000,
          622000,
          704000,
          1180000,
          1275000,
          680000,
          726000,
          756000,
          638000,
          684000,
          712000,
          692000,
          739000,
          766000,
          925000,
          956000,
          556000,
          602000,
          663000,
          623000,
          658000,
          735000,
          866000,
          918000,
          609000,
          637000,
          715000,
          558000,
          600000,
          674000,
          628000,
          656000,
          742000,
          510600,
          583000,
          643000,
          710000,
          709000,
          761000,
          807000,
          521000,
          579000,
          636000,
          699000,
          1145000,
          1277000,
          1605000,
          1740000,
          659000,
          770000,
          825000,
          1490000,
          1710000,
          2180000,
          1480000,
          1720000,
          2135000,
          448000,
          489700,
          519000,
          508000,
          608000,
          564000,
          656000,
          608000,
          728000,
          806000,
          838000,
          705000,
          824000,
          646000,
          743000,
          691000,
          788000,
          942000,
          997000,
          711000,
          757000,
          792000,
          873000,
          777000,
          811000,
          865000,
          930000,
          847000,
          879000,
          932000,
          996000,
          1302000,
          897000,
          926000,
          965000,
          1027000,
          895000,
          978000,
          1055000,
          1400000,
          855000,
          930000,
          963000,
          1016000,
          1022000,
          1137000,
          1198000,
          1334000,
          175000,
          186000,
          209000,
          260000,
          290000,
          320000,
          375000,
          460000,
          109900,
          205000,
          209000,
          215000,
          185900,
          202000,
          267900,
          289900,
          305900,
          324900,
          349900,
          242900,
          272900,
          278900,
          306900,
          311900,
          351900,
          411900,
          222900,
          236900,
          251200,
          440000,
          480000,
          520000,
          228480,
          223500,
          238500,
          123500,
          137500,
          148500,
          140500,
          151500,
          120500,
          137500,
          148500,
          152500,
          163500,
          189000,
          202000,
          219500,
          211000,
          224000,
          235000,
          237000,
          148500,
          166500,
          205000,
          275000,
          300000,
          104000,
          113000,
          409900,
          449900,
          469900,
          429900,
          470900,
          172500,
          192050,
          212550,
          232150,
          191500,
          245500,
          251200,
          304100,
          313500,
          220000,
          245000,
          252000,
          300000,
          320000,
          380000,
          380000,
          270000,
          305000,
          325000,
          375000,
          430000,
          370000,
          395000,
          410000,
          430000,
          480000,
          850000,
          740000,
          830000,
          900000,
          247945,
          307945,
          352945,
          391945,
          312945,
          332945,
          376945,
          132000,
          137000,
          147000,
          152000,
          142000,
          147000,
          158000,
          163000,
          169000,
          185000,
          185000,
          201000,
          179000,
          200000,
          200000,
          221000,
          221000,
          242000,
          274000,
          579000,
          639000,
          689000,
          293000,
          314000,
          380000,
          422000,
          253000,
          274000,
          274000,
          296000,
          286000,
          307000,
          307000,
          328000,
          360000,
          391000,
          422000,
          380000,
          412000,
          444000,
          422000,
          444000,
          454000,
          476000,
          486000,
          508000,
          518000,
          540000,
          556000,
          567100,
          678000,
          591900,
          681200,
          733600,
          606400,
          591600,
          607600,
          635000,
          564100,
          649100,
          660600,
          751600,
          750700,
          850600,
          290000,
          329000,
          323500,
          369500,
          359500,
          399500,
          149900,
          155900,
          156900,
          164900,
          170900,
          171900,
          179900,
          184900,
          295000,
          315000,
          345000,
          365000,
          425000,
          460000,
          485000,
          500000,
          245000,
          265000,
          285000,
          291000,
          305000,
          274000,
          284000,
          294000,
          314000,
          294000,
          304000,
          314000,
          334000,
          364000,
          379000,
          399000,
          439000,
          300000,
          320000,
          320000,
          340000,
          370000,
          359000,
          399000,
          459000,
          439000,
          499000,
          465000,
          490000,
          520000,
          570000,
          595000,
          550000,
          600000,
          625000,
          490000,
          650000,
          500100,
          589000,
          552900,
          616400,
          586900,
          506100,
          609200,
          659900,
          689600,
          779500,
          824700,
          766200,
          873000,
          850800,
          1110300,
          1143200,
          758400,
          854800,
          904500,
          1579600,
          1889200,
          2082300,
          538000,
          471000,
          590900,
          604900,
          649900,
          1379000,
          1712000,
          445000,
          510000,
          549000,
          658000,
          710000,
          781000,
          890500,
          729000,
          852000,
          906000,
          119900,
          129900,
          121900,
          139900,
          159900,
          162900,
          305000,
          304000,
          422000,
          454000,
          393000,
          423000,
          468000,
          393000,
          423000,
          468000,
          403000,
          433000,
          478000,
          350000,
          380000,
          465000,
          495000,
          545000,
          605000,
          485000,
          515000,
          565000,
          625000,
          525000,
          555000,
          645000,
          705000,
          770000,
          565000,
          595000,
          685000,
          745000,
          810000,
          590000,
          665000,
          745000,
          535000,
          565000,
          655000,
          765000,
          795000,
          605000,
          695000,
          805000,
          835000,
          675000,
          765000,
          905000,
          1230000,
          1338000,
          1398000,
          1648000,
          1708000,
          440000,
          475000,
          525000,
          595000,
          535000,
          605000,
          700000,
          790000,
          565000,
          635000,
          730000,
          820000,
          605000,
          675000,
          770000,
          860000,
          505000,
          575000,
          670000,
          760000,
          535000,
          605000,
          700000,
          790000,
          595000,
          665000,
          760000,
          850000,
          680000,
          780000,
          860000,
          710000,
          810000,
          890000,
          745000,
          845000,
          935000,
          740000,
          790000,
          925000,
          995000,
          835000,
          885000,
          1020000,
          1090000,
          785000,
          835000,
          970000,
          1040000,
          975000,
          1140000,
          1240000,
          1060000,
          1225000,
          1325000,
          1080000,
          1245000,
          1345000,
          1080000,
          1230000,
          1340000,
          1130000,
          1280000,
          1390000,
          1520000,
          1570000,
          1680000,
          2100000,
          172000,
          195000,
          450000,
          475000,
          215000,
          325300,
          388600,
          536600,
          260300,
          289300,
          315600,
          362300,
          385600,
          508600,
          270300,
          298300,
          324600,
          371300,
          394600,
          286000,
          303300,
          323300,
          289900,
          329900,
          369900,
          389900,
          319000,
          329000,
          189000,
          199000,
          209900,
          229900,
          249900,
          269900,
          290000,
          320000,
          325000,
          355000,
          310000,
          340000,
          345000,
          375000,
          183000,
          204000,
          222000,
          238000,
          373000,
          256000,
          237000,
          259000,
          301000,
          323000,
          340000,
          320000,
          337000,
          362500,
          403000,
          437000,
          263000,
          281000,
          152900,
          177900,
          194900,
          215900,
          169900,
          279900,
          309900,
          329900,
          369900,
          302900,
          326900,
          359900,
          361900,
          391900,
          424900,
          414900,
          238900,
          253900,
          1420000,
          1590000,
          1600000,
          1780000,
          1700000,
          1860000,
          1820000,
          1990000,
          2080000,
          1690000,
          1870000,
          2080000,
          2420000,
          2590000,
          2800000,
          2970000,
          1530000,
          1740000,
          2470000,
          650000,
          760000,
          950000,
          961000,
          1260000,
          1230000,
          1470000,
          2030000,
          2450000,
          1360000,
          1530000,
          2050000,
          155000,
          195000,
          175000,
          195000,
          213000,
          223000,
          248000,
          268000,
          273000,
          293000,
          297000,
          230900,
          252900,
          272900,
          297900,
          392000,
          468000,
          224000,
          232000,
          244000,
          252000,
          308000,
          329000,
          480000,
          156500,
          165500,
          177500,
          141000,
          148000,
          324900,
          357900,
          225900,
          245900,
          256900,
          312900,
          339900,
          349900,
          381900,
          411900,
          395900,
          415900,
          445900,
          465900,
          289900,
          311900,
          322900,
          344900,
          372900,
          363000,
          395000,
          475000,
          500000,
          344000,
          381000,
          414000,
          434000,
          369000,
          414000,
          469000,
          494000,
          519000,
          219000,
          219000,
          255500,
          273500,
          248000,
          279000,
          316000,
          279700,
          288400,
          293900,
          331900,
          139000,
          235000,
          280000,
          199000,
          219000,
          145000,
          180000,
          178000,
          181000,
          215000,
          235000,
          290000,
          293498,
          320000,
          323498,
          295000,
          315000,
          325000,
          283000,
          325000,
          345000,
          315000,
          355000,
          375000,
          348500,
          375000,
          405000,
          419000,
          440600,
          509600,
          500000,
          590000,
          545000,
          581000,
          686180,
          380000,
          425000,
          345000,
          375000,
          395000,
          400000,
          445000,
          495000,
          520000,
          595000,
          709000,
          890000,
          258000,
          308000,
          319000,
          355000,
          477000,
          750000,
          750000,
          460000,
          520000,
          540000,
          569000,
          629000,
          649000,
          629000,
          649000,
          709100,
          789100,
          899000
         ],
         "yaxis": "y"
        }
       ],
       "layout": {
        "legend": {
         "tracegroupgap": 0
        },
        "margin": {
         "t": 60
        },
        "template": {
         "data": {
          "bar": [
           {
            "error_x": {
             "color": "#2a3f5f"
            },
            "error_y": {
             "color": "#2a3f5f"
            },
            "marker": {
             "line": {
              "color": "#E5ECF6",
              "width": 0.5
             },
             "pattern": {
              "fillmode": "overlay",
              "size": 10,
              "solidity": 0.2
             }
            },
            "type": "bar"
           }
          ],
          "barpolar": [
           {
            "marker": {
             "line": {
              "color": "#E5ECF6",
              "width": 0.5
             },
             "pattern": {
              "fillmode": "overlay",
              "size": 10,
              "solidity": 0.2
             }
            },
            "type": "barpolar"
           }
          ],
          "carpet": [
           {
            "aaxis": {
             "endlinecolor": "#2a3f5f",
             "gridcolor": "white",
             "linecolor": "white",
             "minorgridcolor": "white",
             "startlinecolor": "#2a3f5f"
            },
            "baxis": {
             "endlinecolor": "#2a3f5f",
             "gridcolor": "white",
             "linecolor": "white",
             "minorgridcolor": "white",
             "startlinecolor": "#2a3f5f"
            },
            "type": "carpet"
           }
          ],
          "choropleth": [
           {
            "colorbar": {
             "outlinewidth": 0,
             "ticks": ""
            },
            "type": "choropleth"
           }
          ],
          "contour": [
           {
            "colorbar": {
             "outlinewidth": 0,
             "ticks": ""
            },
            "colorscale": [
             [
              0,
              "#0d0887"
             ],
             [
              0.1111111111111111,
              "#46039f"
             ],
             [
              0.2222222222222222,
              "#7201a8"
             ],
             [
              0.3333333333333333,
              "#9c179e"
             ],
             [
              0.4444444444444444,
              "#bd3786"
             ],
             [
              0.5555555555555556,
              "#d8576b"
             ],
             [
              0.6666666666666666,
              "#ed7953"
             ],
             [
              0.7777777777777778,
              "#fb9f3a"
             ],
             [
              0.8888888888888888,
              "#fdca26"
             ],
             [
              1,
              "#f0f921"
             ]
            ],
            "type": "contour"
           }
          ],
          "contourcarpet": [
           {
            "colorbar": {
             "outlinewidth": 0,
             "ticks": ""
            },
            "type": "contourcarpet"
           }
          ],
          "heatmap": [
           {
            "colorbar": {
             "outlinewidth": 0,
             "ticks": ""
            },
            "colorscale": [
             [
              0,
              "#0d0887"
             ],
             [
              0.1111111111111111,
              "#46039f"
             ],
             [
              0.2222222222222222,
              "#7201a8"
             ],
             [
              0.3333333333333333,
              "#9c179e"
             ],
             [
              0.4444444444444444,
              "#bd3786"
             ],
             [
              0.5555555555555556,
              "#d8576b"
             ],
             [
              0.6666666666666666,
              "#ed7953"
             ],
             [
              0.7777777777777778,
              "#fb9f3a"
             ],
             [
              0.8888888888888888,
              "#fdca26"
             ],
             [
              1,
              "#f0f921"
             ]
            ],
            "type": "heatmap"
           }
          ],
          "heatmapgl": [
           {
            "colorbar": {
             "outlinewidth": 0,
             "ticks": ""
            },
            "colorscale": [
             [
              0,
              "#0d0887"
             ],
             [
              0.1111111111111111,
              "#46039f"
             ],
             [
              0.2222222222222222,
              "#7201a8"
             ],
             [
              0.3333333333333333,
              "#9c179e"
             ],
             [
              0.4444444444444444,
              "#bd3786"
             ],
             [
              0.5555555555555556,
              "#d8576b"
             ],
             [
              0.6666666666666666,
              "#ed7953"
             ],
             [
              0.7777777777777778,
              "#fb9f3a"
             ],
             [
              0.8888888888888888,
              "#fdca26"
             ],
             [
              1,
              "#f0f921"
             ]
            ],
            "type": "heatmapgl"
           }
          ],
          "histogram": [
           {
            "marker": {
             "pattern": {
              "fillmode": "overlay",
              "size": 10,
              "solidity": 0.2
             }
            },
            "type": "histogram"
           }
          ],
          "histogram2d": [
           {
            "colorbar": {
             "outlinewidth": 0,
             "ticks": ""
            },
            "colorscale": [
             [
              0,
              "#0d0887"
             ],
             [
              0.1111111111111111,
              "#46039f"
             ],
             [
              0.2222222222222222,
              "#7201a8"
             ],
             [
              0.3333333333333333,
              "#9c179e"
             ],
             [
              0.4444444444444444,
              "#bd3786"
             ],
             [
              0.5555555555555556,
              "#d8576b"
             ],
             [
              0.6666666666666666,
              "#ed7953"
             ],
             [
              0.7777777777777778,
              "#fb9f3a"
             ],
             [
              0.8888888888888888,
              "#fdca26"
             ],
             [
              1,
              "#f0f921"
             ]
            ],
            "type": "histogram2d"
           }
          ],
          "histogram2dcontour": [
           {
            "colorbar": {
             "outlinewidth": 0,
             "ticks": ""
            },
            "colorscale": [
             [
              0,
              "#0d0887"
             ],
             [
              0.1111111111111111,
              "#46039f"
             ],
             [
              0.2222222222222222,
              "#7201a8"
             ],
             [
              0.3333333333333333,
              "#9c179e"
             ],
             [
              0.4444444444444444,
              "#bd3786"
             ],
             [
              0.5555555555555556,
              "#d8576b"
             ],
             [
              0.6666666666666666,
              "#ed7953"
             ],
             [
              0.7777777777777778,
              "#fb9f3a"
             ],
             [
              0.8888888888888888,
              "#fdca26"
             ],
             [
              1,
              "#f0f921"
             ]
            ],
            "type": "histogram2dcontour"
           }
          ],
          "mesh3d": [
           {
            "colorbar": {
             "outlinewidth": 0,
             "ticks": ""
            },
            "type": "mesh3d"
           }
          ],
          "parcoords": [
           {
            "line": {
             "colorbar": {
              "outlinewidth": 0,
              "ticks": ""
             }
            },
            "type": "parcoords"
           }
          ],
          "pie": [
           {
            "automargin": true,
            "type": "pie"
           }
          ],
          "scatter": [
           {
            "fillpattern": {
             "fillmode": "overlay",
             "size": 10,
             "solidity": 0.2
            },
            "type": "scatter"
           }
          ],
          "scatter3d": [
           {
            "line": {
             "colorbar": {
              "outlinewidth": 0,
              "ticks": ""
             }
            },
            "marker": {
             "colorbar": {
              "outlinewidth": 0,
              "ticks": ""
             }
            },
            "type": "scatter3d"
           }
          ],
          "scattercarpet": [
           {
            "marker": {
             "colorbar": {
              "outlinewidth": 0,
              "ticks": ""
             }
            },
            "type": "scattercarpet"
           }
          ],
          "scattergeo": [
           {
            "marker": {
             "colorbar": {
              "outlinewidth": 0,
              "ticks": ""
             }
            },
            "type": "scattergeo"
           }
          ],
          "scattergl": [
           {
            "marker": {
             "colorbar": {
              "outlinewidth": 0,
              "ticks": ""
             }
            },
            "type": "scattergl"
           }
          ],
          "scattermapbox": [
           {
            "marker": {
             "colorbar": {
              "outlinewidth": 0,
              "ticks": ""
             }
            },
            "type": "scattermapbox"
           }
          ],
          "scatterpolar": [
           {
            "marker": {
             "colorbar": {
              "outlinewidth": 0,
              "ticks": ""
             }
            },
            "type": "scatterpolar"
           }
          ],
          "scatterpolargl": [
           {
            "marker": {
             "colorbar": {
              "outlinewidth": 0,
              "ticks": ""
             }
            },
            "type": "scatterpolargl"
           }
          ],
          "scatterternary": [
           {
            "marker": {
             "colorbar": {
              "outlinewidth": 0,
              "ticks": ""
             }
            },
            "type": "scatterternary"
           }
          ],
          "surface": [
           {
            "colorbar": {
             "outlinewidth": 0,
             "ticks": ""
            },
            "colorscale": [
             [
              0,
              "#0d0887"
             ],
             [
              0.1111111111111111,
              "#46039f"
             ],
             [
              0.2222222222222222,
              "#7201a8"
             ],
             [
              0.3333333333333333,
              "#9c179e"
             ],
             [
              0.4444444444444444,
              "#bd3786"
             ],
             [
              0.5555555555555556,
              "#d8576b"
             ],
             [
              0.6666666666666666,
              "#ed7953"
             ],
             [
              0.7777777777777778,
              "#fb9f3a"
             ],
             [
              0.8888888888888888,
              "#fdca26"
             ],
             [
              1,
              "#f0f921"
             ]
            ],
            "type": "surface"
           }
          ],
          "table": [
           {
            "cells": {
             "fill": {
              "color": "#EBF0F8"
             },
             "line": {
              "color": "white"
             }
            },
            "header": {
             "fill": {
              "color": "#C8D4E3"
             },
             "line": {
              "color": "white"
             }
            },
            "type": "table"
           }
          ]
         },
         "layout": {
          "annotationdefaults": {
           "arrowcolor": "#2a3f5f",
           "arrowhead": 0,
           "arrowwidth": 1
          },
          "autotypenumbers": "strict",
          "coloraxis": {
           "colorbar": {
            "outlinewidth": 0,
            "ticks": ""
           }
          },
          "colorscale": {
           "diverging": [
            [
             0,
             "#8e0152"
            ],
            [
             0.1,
             "#c51b7d"
            ],
            [
             0.2,
             "#de77ae"
            ],
            [
             0.3,
             "#f1b6da"
            ],
            [
             0.4,
             "#fde0ef"
            ],
            [
             0.5,
             "#f7f7f7"
            ],
            [
             0.6,
             "#e6f5d0"
            ],
            [
             0.7,
             "#b8e186"
            ],
            [
             0.8,
             "#7fbc41"
            ],
            [
             0.9,
             "#4d9221"
            ],
            [
             1,
             "#276419"
            ]
           ],
           "sequential": [
            [
             0,
             "#0d0887"
            ],
            [
             0.1111111111111111,
             "#46039f"
            ],
            [
             0.2222222222222222,
             "#7201a8"
            ],
            [
             0.3333333333333333,
             "#9c179e"
            ],
            [
             0.4444444444444444,
             "#bd3786"
            ],
            [
             0.5555555555555556,
             "#d8576b"
            ],
            [
             0.6666666666666666,
             "#ed7953"
            ],
            [
             0.7777777777777778,
             "#fb9f3a"
            ],
            [
             0.8888888888888888,
             "#fdca26"
            ],
            [
             1,
             "#f0f921"
            ]
           ],
           "sequentialminus": [
            [
             0,
             "#0d0887"
            ],
            [
             0.1111111111111111,
             "#46039f"
            ],
            [
             0.2222222222222222,
             "#7201a8"
            ],
            [
             0.3333333333333333,
             "#9c179e"
            ],
            [
             0.4444444444444444,
             "#bd3786"
            ],
            [
             0.5555555555555556,
             "#d8576b"
            ],
            [
             0.6666666666666666,
             "#ed7953"
            ],
            [
             0.7777777777777778,
             "#fb9f3a"
            ],
            [
             0.8888888888888888,
             "#fdca26"
            ],
            [
             1,
             "#f0f921"
            ]
           ]
          },
          "colorway": [
           "#636efa",
           "#EF553B",
           "#00cc96",
           "#ab63fa",
           "#FFA15A",
           "#19d3f3",
           "#FF6692",
           "#B6E880",
           "#FF97FF",
           "#FECB52"
          ],
          "font": {
           "color": "#2a3f5f"
          },
          "geo": {
           "bgcolor": "white",
           "lakecolor": "white",
           "landcolor": "#E5ECF6",
           "showlakes": true,
           "showland": true,
           "subunitcolor": "white"
          },
          "hoverlabel": {
           "align": "left"
          },
          "hovermode": "closest",
          "mapbox": {
           "style": "light"
          },
          "paper_bgcolor": "white",
          "plot_bgcolor": "#E5ECF6",
          "polar": {
           "angularaxis": {
            "gridcolor": "white",
            "linecolor": "white",
            "ticks": ""
           },
           "bgcolor": "#E5ECF6",
           "radialaxis": {
            "gridcolor": "white",
            "linecolor": "white",
            "ticks": ""
           }
          },
          "scene": {
           "xaxis": {
            "backgroundcolor": "#E5ECF6",
            "gridcolor": "white",
            "gridwidth": 2,
            "linecolor": "white",
            "showbackground": true,
            "ticks": "",
            "zerolinecolor": "white"
           },
           "yaxis": {
            "backgroundcolor": "#E5ECF6",
            "gridcolor": "white",
            "gridwidth": 2,
            "linecolor": "white",
            "showbackground": true,
            "ticks": "",
            "zerolinecolor": "white"
           },
           "zaxis": {
            "backgroundcolor": "#E5ECF6",
            "gridcolor": "white",
            "gridwidth": 2,
            "linecolor": "white",
            "showbackground": true,
            "ticks": "",
            "zerolinecolor": "white"
           }
          },
          "shapedefaults": {
           "line": {
            "color": "#2a3f5f"
           }
          },
          "ternary": {
           "aaxis": {
            "gridcolor": "white",
            "linecolor": "white",
            "ticks": ""
           },
           "baxis": {
            "gridcolor": "white",
            "linecolor": "white",
            "ticks": ""
           },
           "bgcolor": "#E5ECF6",
           "caxis": {
            "gridcolor": "white",
            "linecolor": "white",
            "ticks": ""
           }
          },
          "title": {
           "x": 0.05
          },
          "xaxis": {
           "automargin": true,
           "gridcolor": "white",
           "linecolor": "white",
           "ticks": "",
           "title": {
            "standoff": 15
           },
           "zerolinecolor": "white",
           "zerolinewidth": 2
          },
          "yaxis": {
           "automargin": true,
           "gridcolor": "white",
           "linecolor": "white",
           "ticks": "",
           "title": {
            "standoff": 15
           },
           "zerolinecolor": "white",
           "zerolinewidth": 2
          }
         }
        },
        "xaxis": {
         "anchor": "y",
         "domain": [
          0,
          1
         ],
         "title": {
          "text": "Energie"
         }
        },
        "yaxis": {
         "anchor": "x",
         "domain": [
          0,
          1
         ],
         "title": {
          "text": "Price"
         }
        }
       }
      }
     },
     "metadata": {},
     "output_type": "display_data"
    }
   ],
   "source": [
    "fig = px.scatter(new_df, x='Energie' , y='Price')\n",
    "fig"
   ]
  },
  {
   "cell_type": "code",
   "execution_count": 1027,
   "metadata": {},
   "outputs": [
    {
     "data": {
      "application/vnd.plotly.v1+json": {
       "config": {
        "plotlyServerURL": "https://plot.ly"
       },
       "data": [
        {
         "hovertemplate": "Vitesse maxi.=%{x}<br>Price=%{y}<extra></extra>",
         "legendgroup": "",
         "marker": {
          "color": "#636efa",
          "symbol": "circle"
         },
         "mode": "markers",
         "name": "",
         "orientation": "v",
         "showlegend": false,
         "type": "scatter",
         "x": [
          45,
          125,
          125,
          125,
          150,
          150,
          155,
          155,
          155,
          155,
          155,
          155,
          155,
          155,
          155,
          155,
          156,
          156,
          156,
          156,
          156,
          156,
          160,
          160,
          160,
          160,
          160,
          160,
          160,
          160,
          160,
          160,
          160,
          160,
          160,
          160,
          161,
          161,
          161,
          161,
          161,
          162,
          162,
          162,
          162,
          164,
          164,
          164,
          164,
          164,
          165,
          165,
          165,
          165,
          165,
          165,
          167,
          167,
          167,
          167,
          169,
          169,
          169,
          169,
          169,
          169,
          169,
          169,
          169,
          169,
          169,
          170,
          170,
          170,
          170,
          170,
          170,
          170,
          170,
          170,
          170,
          170,
          170,
          170,
          170,
          170,
          170,
          170,
          170,
          171,
          171,
          171,
          172,
          172,
          172,
          172,
          172,
          172,
          172,
          173,
          173,
          173,
          173,
          174,
          174,
          175,
          175,
          175,
          175,
          175,
          175,
          175,
          175,
          175,
          175,
          175,
          175,
          175,
          175,
          175,
          175,
          175,
          177,
          177,
          177,
          177,
          177,
          177,
          177,
          178,
          178,
          178,
          178,
          178,
          178,
          178,
          178,
          178,
          179,
          179,
          179,
          179,
          179,
          179,
          179,
          179,
          179,
          179,
          179,
          180,
          180,
          180,
          180,
          180,
          180,
          180,
          180,
          180,
          180,
          180,
          180,
          180,
          180,
          180,
          180,
          180,
          180,
          180,
          180,
          180,
          180,
          180,
          180,
          180,
          180,
          180,
          180,
          180,
          180,
          180,
          180,
          180,
          180,
          180,
          180,
          180,
          180,
          180,
          180,
          180,
          180,
          180,
          180,
          180,
          180,
          180,
          181,
          181,
          182,
          182,
          182,
          183,
          183,
          183,
          183,
          184,
          184,
          184,
          185,
          185,
          185,
          185,
          185,
          185,
          185,
          185,
          185,
          186,
          186,
          186,
          186,
          186,
          186,
          186,
          186,
          186,
          187,
          187,
          187,
          187,
          188,
          188,
          188,
          188,
          188,
          188,
          188,
          188,
          188,
          188,
          189,
          189,
          190,
          190,
          190,
          190,
          190,
          190,
          190,
          190,
          190,
          190,
          190,
          190,
          190,
          190,
          190,
          190,
          190,
          192,
          192,
          192,
          192,
          192,
          192,
          192,
          192,
          192,
          192,
          192,
          192,
          192,
          192,
          192,
          192,
          192,
          192,
          192,
          192,
          192,
          192,
          193,
          193,
          193,
          193,
          193,
          193,
          193,
          193,
          193,
          193,
          193,
          193,
          193,
          193,
          193,
          193,
          193,
          193,
          193,
          193,
          193,
          194,
          194,
          194,
          194,
          194,
          194,
          194,
          194,
          194,
          194,
          194,
          194,
          195,
          195,
          195,
          195,
          195,
          195,
          195,
          195,
          195,
          195,
          195,
          195,
          195,
          195,
          195,
          195,
          195,
          195,
          195,
          195,
          195,
          196,
          196,
          196,
          196,
          197,
          197,
          197,
          197,
          198,
          198,
          198,
          198,
          199,
          199,
          199,
          199,
          199,
          200,
          200,
          200,
          200,
          200,
          200,
          200,
          200,
          200,
          200,
          200,
          200,
          200,
          200,
          200,
          200,
          200,
          200,
          200,
          200,
          200,
          200,
          200,
          200,
          200,
          200,
          200,
          200,
          200,
          200,
          200,
          200,
          200,
          201,
          202,
          202,
          202,
          202,
          202,
          202,
          202,
          202,
          202,
          202,
          202,
          202,
          202,
          202,
          203,
          203,
          203,
          203,
          203,
          203,
          203,
          203,
          203,
          204,
          204,
          205,
          205,
          205,
          205,
          205,
          205,
          205,
          205,
          205,
          205,
          205,
          205,
          205,
          205,
          205,
          205,
          205,
          205,
          206,
          206,
          206,
          206,
          207,
          207,
          207,
          207,
          207,
          207,
          207,
          207,
          207,
          207,
          207,
          207,
          207,
          207,
          207,
          207,
          207,
          208,
          208,
          208,
          208,
          208,
          209,
          209,
          210,
          210,
          210,
          210,
          210,
          210,
          210,
          210,
          210,
          210,
          210,
          210,
          210,
          210,
          210,
          210,
          210,
          210,
          210,
          210,
          210,
          210,
          210,
          210,
          210,
          210,
          210,
          210,
          210,
          210,
          210,
          210,
          210,
          210,
          210,
          210,
          210,
          210,
          210,
          210,
          210,
          210,
          210,
          210,
          211,
          211,
          211,
          211,
          211,
          211,
          211,
          213,
          213,
          213,
          213,
          213,
          213,
          213,
          213,
          214,
          215,
          215,
          216,
          216,
          216,
          216,
          216,
          217,
          217,
          219,
          219,
          220,
          220,
          220,
          220,
          220,
          220,
          220,
          220,
          220,
          220,
          220,
          220,
          220,
          220,
          222,
          222,
          222,
          222,
          222,
          222,
          222,
          222,
          222,
          222,
          222,
          222,
          222,
          222,
          222,
          224,
          224,
          224,
          224,
          225,
          225,
          225,
          225,
          225,
          225,
          225,
          225,
          225,
          225,
          225,
          225,
          227,
          227,
          227,
          228,
          228,
          228,
          228,
          230,
          230,
          230,
          230,
          230,
          230,
          230,
          230,
          230,
          230,
          230,
          230,
          230,
          230,
          230,
          230,
          230,
          230,
          230,
          230,
          230,
          230,
          230,
          230,
          230,
          230,
          230,
          230,
          230,
          230,
          230,
          231,
          231,
          231,
          231,
          231,
          231,
          231,
          231,
          232,
          232,
          232,
          232,
          232,
          233,
          233,
          233,
          233,
          233,
          234,
          234,
          234,
          235,
          235,
          235,
          235,
          235,
          235,
          235,
          235,
          235,
          235,
          235,
          235,
          235,
          235,
          235,
          235,
          235,
          235,
          235,
          235,
          235,
          235,
          235,
          235,
          235,
          235,
          235,
          235,
          235,
          235,
          235,
          235,
          235,
          235,
          235,
          235,
          236,
          236,
          236,
          238,
          238,
          238,
          238,
          239,
          239,
          239,
          239,
          239,
          240,
          240,
          240,
          240,
          240,
          240,
          240,
          240,
          240,
          240,
          240,
          240,
          240,
          240,
          240,
          240,
          240,
          240,
          240,
          240,
          240,
          240,
          240,
          240,
          241,
          241,
          241,
          241,
          241,
          241,
          241,
          242,
          242,
          242,
          244,
          244,
          244,
          244,
          245,
          245,
          245,
          245,
          245,
          245,
          245,
          245,
          245,
          245,
          249,
          249,
          250,
          250,
          250,
          250,
          250,
          250,
          250,
          250,
          250,
          250,
          250,
          250,
          250,
          250,
          250,
          250,
          250,
          250,
          250,
          250,
          250,
          250,
          250,
          250,
          250,
          250,
          250,
          250,
          250,
          250,
          250,
          250,
          250,
          250,
          250,
          250,
          250,
          250,
          250,
          250,
          250,
          250,
          250,
          250,
          250,
          250,
          250,
          250,
          250,
          250,
          250,
          250,
          250,
          250,
          250,
          250,
          250,
          250,
          250,
          250,
          250,
          250,
          250,
          250,
          250,
          250,
          250,
          250,
          250,
          250,
          250,
          250,
          250,
          250,
          250,
          250,
          250,
          250,
          250,
          250,
          250,
          250,
          250,
          250,
          250,
          250,
          250,
          250,
          253,
          253,
          259,
          260,
          260,
          260,
          272,
          280,
          292,
          292,
          292,
          298,
          304,
          306,
          306,
          307,
          308,
          308,
          308,
          308,
          308,
          308,
          315,
          320,
          320,
          330,
          330
         ],
         "xaxis": "x",
         "y": [
          109900,
          228480,
          223500,
          238500,
          236900,
          222900,
          219500,
          170900,
          180000,
          145000,
          164900,
          171900,
          189000,
          184900,
          179900,
          202000,
          142000,
          158000,
          137000,
          147000,
          132000,
          152000,
          139900,
          232150,
          212550,
          192050,
          172500,
          475000,
          450000,
          159900,
          181000,
          162900,
          119900,
          129900,
          121900,
          178000,
          307000,
          286000,
          149900,
          156900,
          155900,
          155000,
          379000,
          439000,
          399000,
          156500,
          148000,
          165500,
          177500,
          141000,
          120500,
          238900,
          253900,
          148500,
          137500,
          123500,
          274000,
          294000,
          284000,
          314000,
          294000,
          224000,
          235000,
          237000,
          148500,
          166500,
          304000,
          314000,
          334000,
          364000,
          211000,
          245000,
          305000,
          152900,
          291000,
          285000,
          265000,
          320000,
          248000,
          370000,
          340000,
          348500,
          590000,
          500000,
          405000,
          375000,
          375000,
          355000,
          315000,
          163000,
          316000,
          147000,
          251200,
          140500,
          151500,
          185900,
          202000,
          137500,
          148500,
          253000,
          296000,
          274000,
          274000,
          195000,
          183000,
          163500,
          766200,
          247945,
          873000,
          152500,
          686180,
          201000,
          185000,
          545000,
          280000,
          300000,
          320000,
          581000,
          235000,
          242900,
          215000,
          272900,
          410000,
          445000,
          395000,
          370000,
          549000,
          430000,
          510000,
          329000,
          225900,
          245900,
          256900,
          293000,
          290000,
          281000,
          263000,
          314000,
          279000,
          273500,
          255500,
          219000,
          288400,
          293900,
          189000,
          199000,
          477000,
          331900,
          279700,
          328000,
          360000,
          307000,
          391000,
          191500,
          391945,
          376945,
          300000,
          205000,
          169900,
          205000,
          209000,
          215000,
          245500,
          422000,
          275000,
          139000,
          209900,
          781000,
          249900,
          590900,
          329000,
          459000,
          399000,
          319000,
          235000,
          199000,
          229900,
          710000,
          658000,
          359000,
          509600,
          649900,
          295000,
          460000,
          219000,
          440600,
          269900,
          604900,
          649000,
          315000,
          419000,
          325000,
          520000,
          540000,
          569000,
          629000,
          329000,
          308000,
          185000,
          195000,
          169000,
          323300,
          303300,
          286000,
          850800,
          172000,
          219000,
          215000,
          256000,
          194900,
          215900,
          579000,
          689000,
          259000,
          237000,
          177900,
          639000,
          313500,
          304100,
          319000,
          200000,
          258000,
          221000,
          308000,
          242000,
          355000,
          430000,
          224000,
          244000,
          375000,
          204000,
          434000,
          238000,
          344000,
          381000,
          395000,
          222000,
          375000,
          345000,
          414000,
          311900,
          351900,
          650000,
          490000,
          349900,
          273000,
          252900,
          230900,
          221000,
          855000,
          930000,
          200000,
          179000,
          248000,
          340000,
          323000,
          301000,
          305900,
          324900,
          293000,
          297900,
          324600,
          268000,
          298300,
          272900,
          297000,
          320000,
          485000,
          425000,
          422000,
          380000,
          460000,
          323498,
          500000,
          437000,
          403000,
          362500,
          290000,
          270300,
          1520000,
          293498,
          380000,
          600000,
          550000,
          439000,
          412000,
          399500,
          359500,
          444000,
          625000,
          325000,
          499000,
          270000,
          380000,
          380000,
          320000,
          300000,
          267900,
          305000,
          232000,
          289900,
          252000,
          429000,
          854800,
          323500,
          414000,
          369000,
          469000,
          494000,
          519000,
          758400,
          369500,
          389000,
          904500,
          506100,
          359900,
          326900,
          302900,
          562000,
          260300,
          586900,
          634000,
          609200,
          451100,
          470900,
          429900,
          508000,
          289300,
          315600,
          659900,
          425000,
          278900,
          306900,
          608000,
          515000,
          320000,
          325000,
          355000,
          290000,
          223000,
          195000,
          175000,
          213000,
          480000,
          495000,
          400000,
          445000,
          310000,
          340000,
          251200,
          375000,
          345000,
          389900,
          345000,
          591600,
          315000,
          890500,
          729000,
          295000,
          906000,
          369900,
          852000,
          289900,
          329900,
          433000,
          466000,
          538000,
          320000,
          337000,
          1334000,
          1198000,
          1137000,
          606400,
          274000,
          471000,
          1022000,
          1050000,
          1110000,
          1110000,
          1170000,
          349000,
          407000,
          432000,
          389000,
          365000,
          340000,
          465900,
          305000,
          311900,
          344900,
          372900,
          304000,
          445900,
          312900,
          395900,
          411900,
          381900,
          349900,
          339900,
          415900,
          520000,
          409900,
          332945,
          312945,
          449900,
          480000,
          307945,
          440000,
          469900,
          454000,
          422000,
          444000,
          595000,
          570000,
          520000,
          490000,
          465000,
          380000,
          422000,
          629000,
          454000,
          476000,
          425000,
          486000,
          508000,
          518000,
          540000,
          649000,
          1570000,
          354000,
          325300,
          388600,
          317000,
          391900,
          494000,
          570000,
          517000,
          576000,
          615000,
          497000,
          460000,
          424900,
          279900,
          309900,
          329900,
          369900,
          427000,
          361900,
          622000,
          414900,
          525000,
          595000,
          440000,
          480000,
          475000,
          373000,
          1110300,
          824700,
          572500,
          519000,
          705000,
          824000,
          1680000,
          1345000,
          1245000,
          1080000,
          1040000,
          970000,
          785000,
          860000,
          780000,
          680000,
          760000,
          670000,
          575000,
          505000,
          790000,
          700000,
          605000,
          535000,
          835000,
          489700,
          625000,
          324900,
          779500,
          689600,
          419000,
          482000,
          689000,
          445000,
          478000,
          515000,
          602000,
          517000,
          448000,
          689000,
          576000,
          499000,
          457000,
          456000,
          357900,
          635000,
          751600,
          660600,
          411900,
          322900,
          607600,
          289900,
          616400,
          552900,
          589000,
          500100,
          656000,
          564000,
          743000,
          646000,
          378000,
          665000,
          352945,
          450000,
          412000,
          379000,
          416000,
          459000,
          564100,
          649100,
          350000,
          380000,
          709100,
          899000,
          468000,
          423000,
          403000,
          393000,
          1143200,
          433000,
          478000,
          873000,
          792000,
          711000,
          789100,
          757000,
          747000,
          412000,
          632000,
          549000,
          369000,
          720000,
          455000,
          440000,
          693000,
          474000,
          807000,
          893000,
          489000,
          354000,
          397000,
          489700,
          577000,
          392000,
          468000,
          995000,
          925000,
          790000,
          740000,
          423000,
          810000,
          393000,
          1016000,
          963000,
          468000,
          890000,
          710000,
          1080000,
          1340000,
          1230000,
          475000,
          500000,
          363000,
          395000,
          865000,
          811000,
          777000,
          895000,
          485000,
          1230000,
          1360000,
          2100000,
          978000,
          1055000,
          930000,
          446000,
          455000,
          850000,
          605000,
          860000,
          595000,
          665000,
          760000,
          850000,
          745000,
          845000,
          675000,
          935000,
          975000,
          1140000,
          1240000,
          750000,
          770000,
          510000,
          750000,
          790000,
          820000,
          730000,
          535000,
          635000,
          565000,
          700000,
          605000,
          650000,
          624000,
          707000,
          519000,
          806000,
          830000,
          590000,
          740000,
          665000,
          745000,
          1889200,
          2082300,
          1579600,
          659000,
          770000,
          825000,
          544000,
          625000,
          531000,
          629000,
          965000,
          926000,
          897000,
          788000,
          608000,
          728000,
          691000,
          1027000,
          715000,
          699000,
          579000,
          362300,
          385600,
          637000,
          371300,
          394600,
          609000,
          890000,
          709000,
          595000,
          636000,
          681200,
          591900,
          678000,
          567100,
          733600,
          520000,
          521000,
          556000,
          726000,
          756000,
          680000,
          583000,
          643000,
          510600,
          710000,
          555000,
          705000,
          770000,
          525000,
          645000,
          556000,
          600000,
          674000,
          602000,
          805000,
          684000,
          835000,
          638000,
          663000,
          712000,
          558000,
          1280000,
          795000,
          1390000,
          1325000,
          1225000,
          1060000,
          535000,
          565000,
          655000,
          765000,
          1130000,
          605000,
          695000,
          536600,
          508600,
          1350000,
          1250000,
          819000,
          949000,
          1049000,
          765000,
          905000,
          675000,
          465000,
          545000,
          605000,
          495000,
          932000,
          1050000,
          879000,
          1150000,
          1050000,
          780000,
          890000,
          847000,
          996000,
          950000,
          850600,
          750700,
          749000,
          698000,
          658000,
          623000,
          732000,
          783000,
          889000,
          735000,
          1100000,
          990000,
          704000,
          1180000,
          1275000,
          1050000,
          345000,
          325000,
          283000,
          919000,
          692000,
          1340000,
          1230000,
          739000,
          766000,
          622000,
          956000,
          1080000,
          1500000,
          925000,
          1708000,
          918000,
          885000,
          1020000,
          1648000,
          1090000,
          810000,
          866000,
          745000,
          685000,
          595000,
          565000,
          1302000,
          1400000,
          175000,
          186000,
          565000,
          209000,
          290000,
          320000,
          375000,
          460000,
          104000,
          113000,
          220000,
          245000,
          252000,
          900000,
          1379000,
          1712000,
          485000,
          515000,
          260000,
          1230000,
          835000,
          806000,
          1720000,
          1480000,
          2180000,
          1710000,
          1490000,
          1740000,
          1605000,
          1277000,
          1145000,
          807000,
          761000,
          709000,
          742000,
          656000,
          628000,
          2135000,
          1338000,
          625000,
          942000,
          1398000,
          838000,
          1530000,
          1470000,
          997000,
          1260000,
          961000,
          760000,
          2450000,
          2030000,
          2050000,
          950000,
          1530000,
          1590000,
          1420000,
          1690000,
          1740000,
          1870000,
          1700000,
          1860000,
          1008000,
          1780000,
          1990000,
          2080000,
          2080000,
          1600000,
          1820000,
          2470000,
          2420000,
          2590000,
          2800000,
          2970000
         ],
         "yaxis": "y"
        }
       ],
       "layout": {
        "legend": {
         "tracegroupgap": 0
        },
        "margin": {
         "t": 60
        },
        "template": {
         "data": {
          "bar": [
           {
            "error_x": {
             "color": "#2a3f5f"
            },
            "error_y": {
             "color": "#2a3f5f"
            },
            "marker": {
             "line": {
              "color": "#E5ECF6",
              "width": 0.5
             },
             "pattern": {
              "fillmode": "overlay",
              "size": 10,
              "solidity": 0.2
             }
            },
            "type": "bar"
           }
          ],
          "barpolar": [
           {
            "marker": {
             "line": {
              "color": "#E5ECF6",
              "width": 0.5
             },
             "pattern": {
              "fillmode": "overlay",
              "size": 10,
              "solidity": 0.2
             }
            },
            "type": "barpolar"
           }
          ],
          "carpet": [
           {
            "aaxis": {
             "endlinecolor": "#2a3f5f",
             "gridcolor": "white",
             "linecolor": "white",
             "minorgridcolor": "white",
             "startlinecolor": "#2a3f5f"
            },
            "baxis": {
             "endlinecolor": "#2a3f5f",
             "gridcolor": "white",
             "linecolor": "white",
             "minorgridcolor": "white",
             "startlinecolor": "#2a3f5f"
            },
            "type": "carpet"
           }
          ],
          "choropleth": [
           {
            "colorbar": {
             "outlinewidth": 0,
             "ticks": ""
            },
            "type": "choropleth"
           }
          ],
          "contour": [
           {
            "colorbar": {
             "outlinewidth": 0,
             "ticks": ""
            },
            "colorscale": [
             [
              0,
              "#0d0887"
             ],
             [
              0.1111111111111111,
              "#46039f"
             ],
             [
              0.2222222222222222,
              "#7201a8"
             ],
             [
              0.3333333333333333,
              "#9c179e"
             ],
             [
              0.4444444444444444,
              "#bd3786"
             ],
             [
              0.5555555555555556,
              "#d8576b"
             ],
             [
              0.6666666666666666,
              "#ed7953"
             ],
             [
              0.7777777777777778,
              "#fb9f3a"
             ],
             [
              0.8888888888888888,
              "#fdca26"
             ],
             [
              1,
              "#f0f921"
             ]
            ],
            "type": "contour"
           }
          ],
          "contourcarpet": [
           {
            "colorbar": {
             "outlinewidth": 0,
             "ticks": ""
            },
            "type": "contourcarpet"
           }
          ],
          "heatmap": [
           {
            "colorbar": {
             "outlinewidth": 0,
             "ticks": ""
            },
            "colorscale": [
             [
              0,
              "#0d0887"
             ],
             [
              0.1111111111111111,
              "#46039f"
             ],
             [
              0.2222222222222222,
              "#7201a8"
             ],
             [
              0.3333333333333333,
              "#9c179e"
             ],
             [
              0.4444444444444444,
              "#bd3786"
             ],
             [
              0.5555555555555556,
              "#d8576b"
             ],
             [
              0.6666666666666666,
              "#ed7953"
             ],
             [
              0.7777777777777778,
              "#fb9f3a"
             ],
             [
              0.8888888888888888,
              "#fdca26"
             ],
             [
              1,
              "#f0f921"
             ]
            ],
            "type": "heatmap"
           }
          ],
          "heatmapgl": [
           {
            "colorbar": {
             "outlinewidth": 0,
             "ticks": ""
            },
            "colorscale": [
             [
              0,
              "#0d0887"
             ],
             [
              0.1111111111111111,
              "#46039f"
             ],
             [
              0.2222222222222222,
              "#7201a8"
             ],
             [
              0.3333333333333333,
              "#9c179e"
             ],
             [
              0.4444444444444444,
              "#bd3786"
             ],
             [
              0.5555555555555556,
              "#d8576b"
             ],
             [
              0.6666666666666666,
              "#ed7953"
             ],
             [
              0.7777777777777778,
              "#fb9f3a"
             ],
             [
              0.8888888888888888,
              "#fdca26"
             ],
             [
              1,
              "#f0f921"
             ]
            ],
            "type": "heatmapgl"
           }
          ],
          "histogram": [
           {
            "marker": {
             "pattern": {
              "fillmode": "overlay",
              "size": 10,
              "solidity": 0.2
             }
            },
            "type": "histogram"
           }
          ],
          "histogram2d": [
           {
            "colorbar": {
             "outlinewidth": 0,
             "ticks": ""
            },
            "colorscale": [
             [
              0,
              "#0d0887"
             ],
             [
              0.1111111111111111,
              "#46039f"
             ],
             [
              0.2222222222222222,
              "#7201a8"
             ],
             [
              0.3333333333333333,
              "#9c179e"
             ],
             [
              0.4444444444444444,
              "#bd3786"
             ],
             [
              0.5555555555555556,
              "#d8576b"
             ],
             [
              0.6666666666666666,
              "#ed7953"
             ],
             [
              0.7777777777777778,
              "#fb9f3a"
             ],
             [
              0.8888888888888888,
              "#fdca26"
             ],
             [
              1,
              "#f0f921"
             ]
            ],
            "type": "histogram2d"
           }
          ],
          "histogram2dcontour": [
           {
            "colorbar": {
             "outlinewidth": 0,
             "ticks": ""
            },
            "colorscale": [
             [
              0,
              "#0d0887"
             ],
             [
              0.1111111111111111,
              "#46039f"
             ],
             [
              0.2222222222222222,
              "#7201a8"
             ],
             [
              0.3333333333333333,
              "#9c179e"
             ],
             [
              0.4444444444444444,
              "#bd3786"
             ],
             [
              0.5555555555555556,
              "#d8576b"
             ],
             [
              0.6666666666666666,
              "#ed7953"
             ],
             [
              0.7777777777777778,
              "#fb9f3a"
             ],
             [
              0.8888888888888888,
              "#fdca26"
             ],
             [
              1,
              "#f0f921"
             ]
            ],
            "type": "histogram2dcontour"
           }
          ],
          "mesh3d": [
           {
            "colorbar": {
             "outlinewidth": 0,
             "ticks": ""
            },
            "type": "mesh3d"
           }
          ],
          "parcoords": [
           {
            "line": {
             "colorbar": {
              "outlinewidth": 0,
              "ticks": ""
             }
            },
            "type": "parcoords"
           }
          ],
          "pie": [
           {
            "automargin": true,
            "type": "pie"
           }
          ],
          "scatter": [
           {
            "fillpattern": {
             "fillmode": "overlay",
             "size": 10,
             "solidity": 0.2
            },
            "type": "scatter"
           }
          ],
          "scatter3d": [
           {
            "line": {
             "colorbar": {
              "outlinewidth": 0,
              "ticks": ""
             }
            },
            "marker": {
             "colorbar": {
              "outlinewidth": 0,
              "ticks": ""
             }
            },
            "type": "scatter3d"
           }
          ],
          "scattercarpet": [
           {
            "marker": {
             "colorbar": {
              "outlinewidth": 0,
              "ticks": ""
             }
            },
            "type": "scattercarpet"
           }
          ],
          "scattergeo": [
           {
            "marker": {
             "colorbar": {
              "outlinewidth": 0,
              "ticks": ""
             }
            },
            "type": "scattergeo"
           }
          ],
          "scattergl": [
           {
            "marker": {
             "colorbar": {
              "outlinewidth": 0,
              "ticks": ""
             }
            },
            "type": "scattergl"
           }
          ],
          "scattermapbox": [
           {
            "marker": {
             "colorbar": {
              "outlinewidth": 0,
              "ticks": ""
             }
            },
            "type": "scattermapbox"
           }
          ],
          "scatterpolar": [
           {
            "marker": {
             "colorbar": {
              "outlinewidth": 0,
              "ticks": ""
             }
            },
            "type": "scatterpolar"
           }
          ],
          "scatterpolargl": [
           {
            "marker": {
             "colorbar": {
              "outlinewidth": 0,
              "ticks": ""
             }
            },
            "type": "scatterpolargl"
           }
          ],
          "scatterternary": [
           {
            "marker": {
             "colorbar": {
              "outlinewidth": 0,
              "ticks": ""
             }
            },
            "type": "scatterternary"
           }
          ],
          "surface": [
           {
            "colorbar": {
             "outlinewidth": 0,
             "ticks": ""
            },
            "colorscale": [
             [
              0,
              "#0d0887"
             ],
             [
              0.1111111111111111,
              "#46039f"
             ],
             [
              0.2222222222222222,
              "#7201a8"
             ],
             [
              0.3333333333333333,
              "#9c179e"
             ],
             [
              0.4444444444444444,
              "#bd3786"
             ],
             [
              0.5555555555555556,
              "#d8576b"
             ],
             [
              0.6666666666666666,
              "#ed7953"
             ],
             [
              0.7777777777777778,
              "#fb9f3a"
             ],
             [
              0.8888888888888888,
              "#fdca26"
             ],
             [
              1,
              "#f0f921"
             ]
            ],
            "type": "surface"
           }
          ],
          "table": [
           {
            "cells": {
             "fill": {
              "color": "#EBF0F8"
             },
             "line": {
              "color": "white"
             }
            },
            "header": {
             "fill": {
              "color": "#C8D4E3"
             },
             "line": {
              "color": "white"
             }
            },
            "type": "table"
           }
          ]
         },
         "layout": {
          "annotationdefaults": {
           "arrowcolor": "#2a3f5f",
           "arrowhead": 0,
           "arrowwidth": 1
          },
          "autotypenumbers": "strict",
          "coloraxis": {
           "colorbar": {
            "outlinewidth": 0,
            "ticks": ""
           }
          },
          "colorscale": {
           "diverging": [
            [
             0,
             "#8e0152"
            ],
            [
             0.1,
             "#c51b7d"
            ],
            [
             0.2,
             "#de77ae"
            ],
            [
             0.3,
             "#f1b6da"
            ],
            [
             0.4,
             "#fde0ef"
            ],
            [
             0.5,
             "#f7f7f7"
            ],
            [
             0.6,
             "#e6f5d0"
            ],
            [
             0.7,
             "#b8e186"
            ],
            [
             0.8,
             "#7fbc41"
            ],
            [
             0.9,
             "#4d9221"
            ],
            [
             1,
             "#276419"
            ]
           ],
           "sequential": [
            [
             0,
             "#0d0887"
            ],
            [
             0.1111111111111111,
             "#46039f"
            ],
            [
             0.2222222222222222,
             "#7201a8"
            ],
            [
             0.3333333333333333,
             "#9c179e"
            ],
            [
             0.4444444444444444,
             "#bd3786"
            ],
            [
             0.5555555555555556,
             "#d8576b"
            ],
            [
             0.6666666666666666,
             "#ed7953"
            ],
            [
             0.7777777777777778,
             "#fb9f3a"
            ],
            [
             0.8888888888888888,
             "#fdca26"
            ],
            [
             1,
             "#f0f921"
            ]
           ],
           "sequentialminus": [
            [
             0,
             "#0d0887"
            ],
            [
             0.1111111111111111,
             "#46039f"
            ],
            [
             0.2222222222222222,
             "#7201a8"
            ],
            [
             0.3333333333333333,
             "#9c179e"
            ],
            [
             0.4444444444444444,
             "#bd3786"
            ],
            [
             0.5555555555555556,
             "#d8576b"
            ],
            [
             0.6666666666666666,
             "#ed7953"
            ],
            [
             0.7777777777777778,
             "#fb9f3a"
            ],
            [
             0.8888888888888888,
             "#fdca26"
            ],
            [
             1,
             "#f0f921"
            ]
           ]
          },
          "colorway": [
           "#636efa",
           "#EF553B",
           "#00cc96",
           "#ab63fa",
           "#FFA15A",
           "#19d3f3",
           "#FF6692",
           "#B6E880",
           "#FF97FF",
           "#FECB52"
          ],
          "font": {
           "color": "#2a3f5f"
          },
          "geo": {
           "bgcolor": "white",
           "lakecolor": "white",
           "landcolor": "#E5ECF6",
           "showlakes": true,
           "showland": true,
           "subunitcolor": "white"
          },
          "hoverlabel": {
           "align": "left"
          },
          "hovermode": "closest",
          "mapbox": {
           "style": "light"
          },
          "paper_bgcolor": "white",
          "plot_bgcolor": "#E5ECF6",
          "polar": {
           "angularaxis": {
            "gridcolor": "white",
            "linecolor": "white",
            "ticks": ""
           },
           "bgcolor": "#E5ECF6",
           "radialaxis": {
            "gridcolor": "white",
            "linecolor": "white",
            "ticks": ""
           }
          },
          "scene": {
           "xaxis": {
            "backgroundcolor": "#E5ECF6",
            "gridcolor": "white",
            "gridwidth": 2,
            "linecolor": "white",
            "showbackground": true,
            "ticks": "",
            "zerolinecolor": "white"
           },
           "yaxis": {
            "backgroundcolor": "#E5ECF6",
            "gridcolor": "white",
            "gridwidth": 2,
            "linecolor": "white",
            "showbackground": true,
            "ticks": "",
            "zerolinecolor": "white"
           },
           "zaxis": {
            "backgroundcolor": "#E5ECF6",
            "gridcolor": "white",
            "gridwidth": 2,
            "linecolor": "white",
            "showbackground": true,
            "ticks": "",
            "zerolinecolor": "white"
           }
          },
          "shapedefaults": {
           "line": {
            "color": "#2a3f5f"
           }
          },
          "ternary": {
           "aaxis": {
            "gridcolor": "white",
            "linecolor": "white",
            "ticks": ""
           },
           "baxis": {
            "gridcolor": "white",
            "linecolor": "white",
            "ticks": ""
           },
           "bgcolor": "#E5ECF6",
           "caxis": {
            "gridcolor": "white",
            "linecolor": "white",
            "ticks": ""
           }
          },
          "title": {
           "x": 0.05
          },
          "xaxis": {
           "automargin": true,
           "gridcolor": "white",
           "linecolor": "white",
           "ticks": "",
           "title": {
            "standoff": 15
           },
           "zerolinecolor": "white",
           "zerolinewidth": 2
          },
          "yaxis": {
           "automargin": true,
           "gridcolor": "white",
           "linecolor": "white",
           "ticks": "",
           "title": {
            "standoff": 15
           },
           "zerolinecolor": "white",
           "zerolinewidth": 2
          }
         }
        },
        "xaxis": {
         "anchor": "y",
         "domain": [
          0,
          1
         ],
         "title": {
          "text": "Vitesse maxi."
         }
        },
        "yaxis": {
         "anchor": "x",
         "domain": [
          0,
          1
         ],
         "title": {
          "text": "Price"
         }
        }
       }
      }
     },
     "metadata": {},
     "output_type": "display_data"
    }
   ],
   "source": [
    "fig = px.scatter(new_df.sort_values(by='Vitesse maxi.'), x=\"Vitesse maxi.\" , y=\"Price\")\n",
    "fig.show()"
   ]
  },
  {
   "cell_type": "code",
   "execution_count": 1028,
   "metadata": {},
   "outputs": [
    {
     "data": {
      "application/vnd.plotly.v1+json": {
       "config": {
        "plotlyServerURL": "https://plot.ly"
       },
       "data": [
        {
         "domain": {
          "x": [
           0,
           1
          ],
          "y": [
           0,
           1
          ]
         },
         "hovertemplate": "ABS=%{label}<extra></extra>",
         "labels": [
          1,
          1,
          1,
          1,
          1,
          1,
          1,
          1,
          1,
          1,
          1,
          1,
          1,
          1,
          1,
          1,
          1,
          1,
          1,
          1,
          1,
          1,
          1,
          1,
          1,
          1,
          1,
          1,
          1,
          1,
          1,
          1,
          1,
          1,
          1,
          1,
          1,
          1,
          1,
          1,
          1,
          1,
          1,
          1,
          1,
          1,
          1,
          1,
          1,
          1,
          1,
          1,
          1,
          1,
          1,
          1,
          1,
          1,
          1,
          1,
          1,
          1,
          1,
          1,
          1,
          1,
          1,
          1,
          1,
          1,
          1,
          1,
          1,
          1,
          1,
          1,
          1,
          1,
          1,
          1,
          1,
          1,
          1,
          1,
          1,
          1,
          1,
          1,
          1,
          1,
          1,
          1,
          1,
          1,
          1,
          1,
          1,
          1,
          1,
          1,
          1,
          1,
          1,
          1,
          1,
          1,
          1,
          1,
          1,
          1,
          1,
          1,
          1,
          1,
          1,
          1,
          1,
          1,
          1,
          1,
          1,
          1,
          1,
          1,
          1,
          1,
          1,
          1,
          1,
          1,
          1,
          1,
          1,
          1,
          1,
          1,
          1,
          1,
          1,
          1,
          1,
          1,
          1,
          1,
          1,
          1,
          1,
          1,
          1,
          1,
          1,
          1,
          1,
          1,
          1,
          1,
          1,
          1,
          1,
          1,
          1,
          1,
          1,
          1,
          1,
          1,
          1,
          1,
          1,
          1,
          1,
          1,
          1,
          1,
          1,
          1,
          1,
          1,
          1,
          1,
          1,
          1,
          1,
          1,
          1,
          1,
          1,
          1,
          1,
          1,
          1,
          1,
          1,
          1,
          1,
          1,
          1,
          1,
          1,
          1,
          1,
          1,
          1,
          1,
          1,
          1,
          1,
          1,
          1,
          1,
          1,
          1,
          1,
          1,
          1,
          1,
          1,
          0,
          1,
          1,
          1,
          1,
          1,
          1,
          1,
          1,
          1,
          1,
          1,
          1,
          1,
          1,
          1,
          1,
          1,
          1,
          1,
          1,
          1,
          1,
          1,
          1,
          1,
          1,
          1,
          1,
          1,
          1,
          1,
          1,
          1,
          1,
          1,
          1,
          1,
          1,
          1,
          1,
          1,
          1,
          1,
          1,
          1,
          1,
          1,
          1,
          1,
          1,
          1,
          1,
          1,
          1,
          1,
          1,
          1,
          1,
          1,
          1,
          0,
          0,
          1,
          1,
          1,
          1,
          1,
          1,
          1,
          1,
          1,
          1,
          1,
          1,
          1,
          1,
          1,
          1,
          1,
          1,
          1,
          1,
          1,
          1,
          1,
          1,
          1,
          1,
          1,
          1,
          1,
          1,
          1,
          1,
          1,
          1,
          1,
          1,
          1,
          1,
          1,
          1,
          1,
          1,
          1,
          1,
          1,
          1,
          1,
          1,
          1,
          1,
          1,
          1,
          1,
          1,
          1,
          1,
          1,
          1,
          1,
          1,
          1,
          1,
          1,
          1,
          1,
          1,
          1,
          1,
          1,
          1,
          1,
          1,
          1,
          1,
          1,
          1,
          1,
          1,
          1,
          1,
          1,
          1,
          1,
          1,
          1,
          1,
          1,
          1,
          1,
          1,
          1,
          1,
          1,
          1,
          1,
          1,
          1,
          1,
          1,
          1,
          1,
          1,
          1,
          1,
          1,
          1,
          1,
          1,
          1,
          1,
          1,
          1,
          1,
          1,
          1,
          1,
          1,
          1,
          1,
          1,
          1,
          1,
          1,
          1,
          1,
          1,
          1,
          1,
          1,
          1,
          1,
          1,
          1,
          1,
          1,
          1,
          1,
          1,
          1,
          1,
          1,
          1,
          1,
          1,
          1,
          1,
          1,
          1,
          1,
          1,
          1,
          1,
          1,
          1,
          1,
          1,
          1,
          1,
          1,
          1,
          1,
          1,
          1,
          1,
          1,
          1,
          1,
          1,
          1,
          1,
          1,
          1,
          1,
          1,
          1,
          1,
          1,
          1,
          1,
          1,
          1,
          1,
          1,
          1,
          1,
          1,
          1,
          1,
          1,
          1,
          1,
          1,
          1,
          1,
          1,
          1,
          1,
          1,
          1,
          1,
          1,
          1,
          1,
          1,
          1,
          1,
          1,
          1,
          1,
          1,
          1,
          1,
          1,
          1,
          1,
          1,
          1,
          1,
          1,
          1,
          1,
          1,
          1,
          1,
          1,
          1,
          1,
          1,
          1,
          1,
          1,
          1,
          1,
          1,
          1,
          1,
          1,
          1,
          1,
          1,
          1,
          1,
          1,
          1,
          1,
          1,
          1,
          1,
          1,
          1,
          1,
          1,
          1,
          1,
          1,
          1,
          1,
          1,
          1,
          1,
          1,
          1,
          1,
          1,
          1,
          1,
          1,
          1,
          1,
          1,
          1,
          1,
          1,
          1,
          1,
          1,
          1,
          1,
          1,
          1,
          1,
          1,
          1,
          1,
          1,
          1,
          1,
          1,
          1,
          1,
          1,
          1,
          1,
          1,
          1,
          1,
          1,
          1,
          1,
          1,
          1,
          1,
          1,
          1,
          1,
          1,
          1,
          1,
          1,
          1,
          1,
          1,
          1,
          1,
          1,
          1,
          1,
          1,
          1,
          1,
          1,
          1,
          1,
          1,
          1,
          1,
          1,
          1,
          1,
          1,
          1,
          1,
          1,
          1,
          1,
          1,
          1,
          1,
          1,
          1,
          1,
          1,
          1,
          1,
          1,
          1,
          1,
          1,
          1,
          1,
          1,
          1,
          1,
          1,
          1,
          1,
          1,
          1,
          1,
          1,
          1,
          1,
          1,
          1,
          1,
          1,
          1,
          1,
          1,
          1,
          1,
          1,
          1,
          1,
          1,
          1,
          1,
          1,
          1,
          1,
          1,
          1,
          1,
          1,
          1,
          1,
          1,
          1,
          1,
          1,
          1,
          1,
          1,
          1,
          1,
          1,
          1,
          1,
          1,
          1,
          1,
          1,
          1,
          1,
          1,
          1,
          1,
          1,
          1,
          1,
          1,
          1,
          1,
          1,
          1,
          1,
          1,
          1,
          1,
          1,
          1,
          1,
          1,
          1,
          1,
          1,
          1,
          1,
          1,
          1,
          1,
          1,
          1,
          1,
          1,
          1,
          1,
          1,
          1,
          1,
          1,
          1,
          1,
          1,
          1,
          1,
          1,
          1,
          1,
          1,
          1,
          1,
          1,
          1,
          1,
          1,
          1,
          1,
          1,
          1,
          1,
          1,
          1,
          1,
          1,
          1,
          1,
          1,
          1,
          1,
          1,
          1,
          1,
          1,
          1,
          1,
          1,
          1,
          1,
          1,
          1,
          1,
          1,
          1,
          1,
          1,
          1,
          1,
          1,
          1,
          1,
          1,
          1,
          1,
          1,
          1,
          1,
          1,
          1,
          1,
          1,
          1,
          1,
          1,
          1,
          1,
          1,
          1,
          1,
          1,
          1,
          1,
          1,
          1,
          1,
          1,
          1,
          1,
          1,
          1,
          1,
          1,
          1,
          1,
          1,
          1,
          1,
          1,
          1,
          1,
          1,
          1,
          1,
          1,
          1,
          1,
          1,
          1,
          1,
          1,
          1,
          1,
          1,
          1,
          1,
          1,
          1,
          1,
          1,
          1,
          1,
          1,
          1,
          1,
          1,
          1,
          1,
          1,
          1,
          1,
          1,
          1,
          1,
          1,
          1
         ],
         "legendgroup": "",
         "name": "",
         "showlegend": true,
         "type": "pie"
        }
       ],
       "layout": {
        "legend": {
         "tracegroupgap": 0
        },
        "template": {
         "data": {
          "bar": [
           {
            "error_x": {
             "color": "#2a3f5f"
            },
            "error_y": {
             "color": "#2a3f5f"
            },
            "marker": {
             "line": {
              "color": "#E5ECF6",
              "width": 0.5
             },
             "pattern": {
              "fillmode": "overlay",
              "size": 10,
              "solidity": 0.2
             }
            },
            "type": "bar"
           }
          ],
          "barpolar": [
           {
            "marker": {
             "line": {
              "color": "#E5ECF6",
              "width": 0.5
             },
             "pattern": {
              "fillmode": "overlay",
              "size": 10,
              "solidity": 0.2
             }
            },
            "type": "barpolar"
           }
          ],
          "carpet": [
           {
            "aaxis": {
             "endlinecolor": "#2a3f5f",
             "gridcolor": "white",
             "linecolor": "white",
             "minorgridcolor": "white",
             "startlinecolor": "#2a3f5f"
            },
            "baxis": {
             "endlinecolor": "#2a3f5f",
             "gridcolor": "white",
             "linecolor": "white",
             "minorgridcolor": "white",
             "startlinecolor": "#2a3f5f"
            },
            "type": "carpet"
           }
          ],
          "choropleth": [
           {
            "colorbar": {
             "outlinewidth": 0,
             "ticks": ""
            },
            "type": "choropleth"
           }
          ],
          "contour": [
           {
            "colorbar": {
             "outlinewidth": 0,
             "ticks": ""
            },
            "colorscale": [
             [
              0,
              "#0d0887"
             ],
             [
              0.1111111111111111,
              "#46039f"
             ],
             [
              0.2222222222222222,
              "#7201a8"
             ],
             [
              0.3333333333333333,
              "#9c179e"
             ],
             [
              0.4444444444444444,
              "#bd3786"
             ],
             [
              0.5555555555555556,
              "#d8576b"
             ],
             [
              0.6666666666666666,
              "#ed7953"
             ],
             [
              0.7777777777777778,
              "#fb9f3a"
             ],
             [
              0.8888888888888888,
              "#fdca26"
             ],
             [
              1,
              "#f0f921"
             ]
            ],
            "type": "contour"
           }
          ],
          "contourcarpet": [
           {
            "colorbar": {
             "outlinewidth": 0,
             "ticks": ""
            },
            "type": "contourcarpet"
           }
          ],
          "heatmap": [
           {
            "colorbar": {
             "outlinewidth": 0,
             "ticks": ""
            },
            "colorscale": [
             [
              0,
              "#0d0887"
             ],
             [
              0.1111111111111111,
              "#46039f"
             ],
             [
              0.2222222222222222,
              "#7201a8"
             ],
             [
              0.3333333333333333,
              "#9c179e"
             ],
             [
              0.4444444444444444,
              "#bd3786"
             ],
             [
              0.5555555555555556,
              "#d8576b"
             ],
             [
              0.6666666666666666,
              "#ed7953"
             ],
             [
              0.7777777777777778,
              "#fb9f3a"
             ],
             [
              0.8888888888888888,
              "#fdca26"
             ],
             [
              1,
              "#f0f921"
             ]
            ],
            "type": "heatmap"
           }
          ],
          "heatmapgl": [
           {
            "colorbar": {
             "outlinewidth": 0,
             "ticks": ""
            },
            "colorscale": [
             [
              0,
              "#0d0887"
             ],
             [
              0.1111111111111111,
              "#46039f"
             ],
             [
              0.2222222222222222,
              "#7201a8"
             ],
             [
              0.3333333333333333,
              "#9c179e"
             ],
             [
              0.4444444444444444,
              "#bd3786"
             ],
             [
              0.5555555555555556,
              "#d8576b"
             ],
             [
              0.6666666666666666,
              "#ed7953"
             ],
             [
              0.7777777777777778,
              "#fb9f3a"
             ],
             [
              0.8888888888888888,
              "#fdca26"
             ],
             [
              1,
              "#f0f921"
             ]
            ],
            "type": "heatmapgl"
           }
          ],
          "histogram": [
           {
            "marker": {
             "pattern": {
              "fillmode": "overlay",
              "size": 10,
              "solidity": 0.2
             }
            },
            "type": "histogram"
           }
          ],
          "histogram2d": [
           {
            "colorbar": {
             "outlinewidth": 0,
             "ticks": ""
            },
            "colorscale": [
             [
              0,
              "#0d0887"
             ],
             [
              0.1111111111111111,
              "#46039f"
             ],
             [
              0.2222222222222222,
              "#7201a8"
             ],
             [
              0.3333333333333333,
              "#9c179e"
             ],
             [
              0.4444444444444444,
              "#bd3786"
             ],
             [
              0.5555555555555556,
              "#d8576b"
             ],
             [
              0.6666666666666666,
              "#ed7953"
             ],
             [
              0.7777777777777778,
              "#fb9f3a"
             ],
             [
              0.8888888888888888,
              "#fdca26"
             ],
             [
              1,
              "#f0f921"
             ]
            ],
            "type": "histogram2d"
           }
          ],
          "histogram2dcontour": [
           {
            "colorbar": {
             "outlinewidth": 0,
             "ticks": ""
            },
            "colorscale": [
             [
              0,
              "#0d0887"
             ],
             [
              0.1111111111111111,
              "#46039f"
             ],
             [
              0.2222222222222222,
              "#7201a8"
             ],
             [
              0.3333333333333333,
              "#9c179e"
             ],
             [
              0.4444444444444444,
              "#bd3786"
             ],
             [
              0.5555555555555556,
              "#d8576b"
             ],
             [
              0.6666666666666666,
              "#ed7953"
             ],
             [
              0.7777777777777778,
              "#fb9f3a"
             ],
             [
              0.8888888888888888,
              "#fdca26"
             ],
             [
              1,
              "#f0f921"
             ]
            ],
            "type": "histogram2dcontour"
           }
          ],
          "mesh3d": [
           {
            "colorbar": {
             "outlinewidth": 0,
             "ticks": ""
            },
            "type": "mesh3d"
           }
          ],
          "parcoords": [
           {
            "line": {
             "colorbar": {
              "outlinewidth": 0,
              "ticks": ""
             }
            },
            "type": "parcoords"
           }
          ],
          "pie": [
           {
            "automargin": true,
            "type": "pie"
           }
          ],
          "scatter": [
           {
            "fillpattern": {
             "fillmode": "overlay",
             "size": 10,
             "solidity": 0.2
            },
            "type": "scatter"
           }
          ],
          "scatter3d": [
           {
            "line": {
             "colorbar": {
              "outlinewidth": 0,
              "ticks": ""
             }
            },
            "marker": {
             "colorbar": {
              "outlinewidth": 0,
              "ticks": ""
             }
            },
            "type": "scatter3d"
           }
          ],
          "scattercarpet": [
           {
            "marker": {
             "colorbar": {
              "outlinewidth": 0,
              "ticks": ""
             }
            },
            "type": "scattercarpet"
           }
          ],
          "scattergeo": [
           {
            "marker": {
             "colorbar": {
              "outlinewidth": 0,
              "ticks": ""
             }
            },
            "type": "scattergeo"
           }
          ],
          "scattergl": [
           {
            "marker": {
             "colorbar": {
              "outlinewidth": 0,
              "ticks": ""
             }
            },
            "type": "scattergl"
           }
          ],
          "scattermapbox": [
           {
            "marker": {
             "colorbar": {
              "outlinewidth": 0,
              "ticks": ""
             }
            },
            "type": "scattermapbox"
           }
          ],
          "scatterpolar": [
           {
            "marker": {
             "colorbar": {
              "outlinewidth": 0,
              "ticks": ""
             }
            },
            "type": "scatterpolar"
           }
          ],
          "scatterpolargl": [
           {
            "marker": {
             "colorbar": {
              "outlinewidth": 0,
              "ticks": ""
             }
            },
            "type": "scatterpolargl"
           }
          ],
          "scatterternary": [
           {
            "marker": {
             "colorbar": {
              "outlinewidth": 0,
              "ticks": ""
             }
            },
            "type": "scatterternary"
           }
          ],
          "surface": [
           {
            "colorbar": {
             "outlinewidth": 0,
             "ticks": ""
            },
            "colorscale": [
             [
              0,
              "#0d0887"
             ],
             [
              0.1111111111111111,
              "#46039f"
             ],
             [
              0.2222222222222222,
              "#7201a8"
             ],
             [
              0.3333333333333333,
              "#9c179e"
             ],
             [
              0.4444444444444444,
              "#bd3786"
             ],
             [
              0.5555555555555556,
              "#d8576b"
             ],
             [
              0.6666666666666666,
              "#ed7953"
             ],
             [
              0.7777777777777778,
              "#fb9f3a"
             ],
             [
              0.8888888888888888,
              "#fdca26"
             ],
             [
              1,
              "#f0f921"
             ]
            ],
            "type": "surface"
           }
          ],
          "table": [
           {
            "cells": {
             "fill": {
              "color": "#EBF0F8"
             },
             "line": {
              "color": "white"
             }
            },
            "header": {
             "fill": {
              "color": "#C8D4E3"
             },
             "line": {
              "color": "white"
             }
            },
            "type": "table"
           }
          ]
         },
         "layout": {
          "annotationdefaults": {
           "arrowcolor": "#2a3f5f",
           "arrowhead": 0,
           "arrowwidth": 1
          },
          "autotypenumbers": "strict",
          "coloraxis": {
           "colorbar": {
            "outlinewidth": 0,
            "ticks": ""
           }
          },
          "colorscale": {
           "diverging": [
            [
             0,
             "#8e0152"
            ],
            [
             0.1,
             "#c51b7d"
            ],
            [
             0.2,
             "#de77ae"
            ],
            [
             0.3,
             "#f1b6da"
            ],
            [
             0.4,
             "#fde0ef"
            ],
            [
             0.5,
             "#f7f7f7"
            ],
            [
             0.6,
             "#e6f5d0"
            ],
            [
             0.7,
             "#b8e186"
            ],
            [
             0.8,
             "#7fbc41"
            ],
            [
             0.9,
             "#4d9221"
            ],
            [
             1,
             "#276419"
            ]
           ],
           "sequential": [
            [
             0,
             "#0d0887"
            ],
            [
             0.1111111111111111,
             "#46039f"
            ],
            [
             0.2222222222222222,
             "#7201a8"
            ],
            [
             0.3333333333333333,
             "#9c179e"
            ],
            [
             0.4444444444444444,
             "#bd3786"
            ],
            [
             0.5555555555555556,
             "#d8576b"
            ],
            [
             0.6666666666666666,
             "#ed7953"
            ],
            [
             0.7777777777777778,
             "#fb9f3a"
            ],
            [
             0.8888888888888888,
             "#fdca26"
            ],
            [
             1,
             "#f0f921"
            ]
           ],
           "sequentialminus": [
            [
             0,
             "#0d0887"
            ],
            [
             0.1111111111111111,
             "#46039f"
            ],
            [
             0.2222222222222222,
             "#7201a8"
            ],
            [
             0.3333333333333333,
             "#9c179e"
            ],
            [
             0.4444444444444444,
             "#bd3786"
            ],
            [
             0.5555555555555556,
             "#d8576b"
            ],
            [
             0.6666666666666666,
             "#ed7953"
            ],
            [
             0.7777777777777778,
             "#fb9f3a"
            ],
            [
             0.8888888888888888,
             "#fdca26"
            ],
            [
             1,
             "#f0f921"
            ]
           ]
          },
          "colorway": [
           "#636efa",
           "#EF553B",
           "#00cc96",
           "#ab63fa",
           "#FFA15A",
           "#19d3f3",
           "#FF6692",
           "#B6E880",
           "#FF97FF",
           "#FECB52"
          ],
          "font": {
           "color": "#2a3f5f"
          },
          "geo": {
           "bgcolor": "white",
           "lakecolor": "white",
           "landcolor": "#E5ECF6",
           "showlakes": true,
           "showland": true,
           "subunitcolor": "white"
          },
          "hoverlabel": {
           "align": "left"
          },
          "hovermode": "closest",
          "mapbox": {
           "style": "light"
          },
          "paper_bgcolor": "white",
          "plot_bgcolor": "#E5ECF6",
          "polar": {
           "angularaxis": {
            "gridcolor": "white",
            "linecolor": "white",
            "ticks": ""
           },
           "bgcolor": "#E5ECF6",
           "radialaxis": {
            "gridcolor": "white",
            "linecolor": "white",
            "ticks": ""
           }
          },
          "scene": {
           "xaxis": {
            "backgroundcolor": "#E5ECF6",
            "gridcolor": "white",
            "gridwidth": 2,
            "linecolor": "white",
            "showbackground": true,
            "ticks": "",
            "zerolinecolor": "white"
           },
           "yaxis": {
            "backgroundcolor": "#E5ECF6",
            "gridcolor": "white",
            "gridwidth": 2,
            "linecolor": "white",
            "showbackground": true,
            "ticks": "",
            "zerolinecolor": "white"
           },
           "zaxis": {
            "backgroundcolor": "#E5ECF6",
            "gridcolor": "white",
            "gridwidth": 2,
            "linecolor": "white",
            "showbackground": true,
            "ticks": "",
            "zerolinecolor": "white"
           }
          },
          "shapedefaults": {
           "line": {
            "color": "#2a3f5f"
           }
          },
          "ternary": {
           "aaxis": {
            "gridcolor": "white",
            "linecolor": "white",
            "ticks": ""
           },
           "baxis": {
            "gridcolor": "white",
            "linecolor": "white",
            "ticks": ""
           },
           "bgcolor": "#E5ECF6",
           "caxis": {
            "gridcolor": "white",
            "linecolor": "white",
            "ticks": ""
           }
          },
          "title": {
           "x": 0.05
          },
          "xaxis": {
           "automargin": true,
           "gridcolor": "white",
           "linecolor": "white",
           "ticks": "",
           "title": {
            "standoff": 15
           },
           "zerolinecolor": "white",
           "zerolinewidth": 2
          },
          "yaxis": {
           "automargin": true,
           "gridcolor": "white",
           "linecolor": "white",
           "ticks": "",
           "title": {
            "standoff": 15
           },
           "zerolinecolor": "white",
           "zerolinewidth": 2
          }
         }
        },
        "title": {
         "text": "Cars containing ABS"
        }
       }
      }
     },
     "metadata": {},
     "output_type": "display_data"
    }
   ],
   "source": [
    "\n",
    "fig = px.pie(new_df, names = \"ABS\", title = \"Cars containing ABS\")\n",
    "fig.show()"
   ]
  },
  {
   "cell_type": "code",
   "execution_count": 1029,
   "metadata": {},
   "outputs": [
    {
     "data": {
      "application/vnd.plotly.v1+json": {
       "config": {
        "plotlyServerURL": "https://plot.ly"
       },
       "data": [
        {
         "alignmentgroup": "True",
         "hovertemplate": "Brand=%{x}<br>count=%{marker.color}<extra></extra>",
         "legendgroup": "",
         "marker": {
          "color": [
           131,
           117,
           68,
           53,
           48,
           31,
           30,
           29,
           22,
           22
          ],
          "coloraxis": "coloraxis",
          "pattern": {
           "shape": ""
          }
         },
         "name": "",
         "offsetgroup": "",
         "orientation": "v",
         "showlegend": false,
         "textposition": "auto",
         "type": "bar",
         "x": [
          "BMW",
          "MERCEDES",
          "AUDI",
          "KIA",
          "HYUNDAI",
          "PORSCHE",
          "TOYOTA",
          "RENAULT",
          "DACIA",
          "LAND"
         ],
         "xaxis": "x",
         "y": [
          131,
          117,
          68,
          53,
          48,
          31,
          30,
          29,
          22,
          22
         ],
         "yaxis": "y"
        }
       ],
       "layout": {
        "barmode": "relative",
        "coloraxis": {
         "colorbar": {
          "title": {
           "text": "count"
          }
         },
         "colorscale": [
          [
           0,
           "#0d0887"
          ],
          [
           0.1111111111111111,
           "#46039f"
          ],
          [
           0.2222222222222222,
           "#7201a8"
          ],
          [
           0.3333333333333333,
           "#9c179e"
          ],
          [
           0.4444444444444444,
           "#bd3786"
          ],
          [
           0.5555555555555556,
           "#d8576b"
          ],
          [
           0.6666666666666666,
           "#ed7953"
          ],
          [
           0.7777777777777778,
           "#fb9f3a"
          ],
          [
           0.8888888888888888,
           "#fdca26"
          ],
          [
           1,
           "#f0f921"
          ]
         ]
        },
        "legend": {
         "tracegroupgap": 0
        },
        "margin": {
         "t": 60
        },
        "template": {
         "data": {
          "bar": [
           {
            "error_x": {
             "color": "#2a3f5f"
            },
            "error_y": {
             "color": "#2a3f5f"
            },
            "marker": {
             "line": {
              "color": "#E5ECF6",
              "width": 0.5
             },
             "pattern": {
              "fillmode": "overlay",
              "size": 10,
              "solidity": 0.2
             }
            },
            "type": "bar"
           }
          ],
          "barpolar": [
           {
            "marker": {
             "line": {
              "color": "#E5ECF6",
              "width": 0.5
             },
             "pattern": {
              "fillmode": "overlay",
              "size": 10,
              "solidity": 0.2
             }
            },
            "type": "barpolar"
           }
          ],
          "carpet": [
           {
            "aaxis": {
             "endlinecolor": "#2a3f5f",
             "gridcolor": "white",
             "linecolor": "white",
             "minorgridcolor": "white",
             "startlinecolor": "#2a3f5f"
            },
            "baxis": {
             "endlinecolor": "#2a3f5f",
             "gridcolor": "white",
             "linecolor": "white",
             "minorgridcolor": "white",
             "startlinecolor": "#2a3f5f"
            },
            "type": "carpet"
           }
          ],
          "choropleth": [
           {
            "colorbar": {
             "outlinewidth": 0,
             "ticks": ""
            },
            "type": "choropleth"
           }
          ],
          "contour": [
           {
            "colorbar": {
             "outlinewidth": 0,
             "ticks": ""
            },
            "colorscale": [
             [
              0,
              "#0d0887"
             ],
             [
              0.1111111111111111,
              "#46039f"
             ],
             [
              0.2222222222222222,
              "#7201a8"
             ],
             [
              0.3333333333333333,
              "#9c179e"
             ],
             [
              0.4444444444444444,
              "#bd3786"
             ],
             [
              0.5555555555555556,
              "#d8576b"
             ],
             [
              0.6666666666666666,
              "#ed7953"
             ],
             [
              0.7777777777777778,
              "#fb9f3a"
             ],
             [
              0.8888888888888888,
              "#fdca26"
             ],
             [
              1,
              "#f0f921"
             ]
            ],
            "type": "contour"
           }
          ],
          "contourcarpet": [
           {
            "colorbar": {
             "outlinewidth": 0,
             "ticks": ""
            },
            "type": "contourcarpet"
           }
          ],
          "heatmap": [
           {
            "colorbar": {
             "outlinewidth": 0,
             "ticks": ""
            },
            "colorscale": [
             [
              0,
              "#0d0887"
             ],
             [
              0.1111111111111111,
              "#46039f"
             ],
             [
              0.2222222222222222,
              "#7201a8"
             ],
             [
              0.3333333333333333,
              "#9c179e"
             ],
             [
              0.4444444444444444,
              "#bd3786"
             ],
             [
              0.5555555555555556,
              "#d8576b"
             ],
             [
              0.6666666666666666,
              "#ed7953"
             ],
             [
              0.7777777777777778,
              "#fb9f3a"
             ],
             [
              0.8888888888888888,
              "#fdca26"
             ],
             [
              1,
              "#f0f921"
             ]
            ],
            "type": "heatmap"
           }
          ],
          "heatmapgl": [
           {
            "colorbar": {
             "outlinewidth": 0,
             "ticks": ""
            },
            "colorscale": [
             [
              0,
              "#0d0887"
             ],
             [
              0.1111111111111111,
              "#46039f"
             ],
             [
              0.2222222222222222,
              "#7201a8"
             ],
             [
              0.3333333333333333,
              "#9c179e"
             ],
             [
              0.4444444444444444,
              "#bd3786"
             ],
             [
              0.5555555555555556,
              "#d8576b"
             ],
             [
              0.6666666666666666,
              "#ed7953"
             ],
             [
              0.7777777777777778,
              "#fb9f3a"
             ],
             [
              0.8888888888888888,
              "#fdca26"
             ],
             [
              1,
              "#f0f921"
             ]
            ],
            "type": "heatmapgl"
           }
          ],
          "histogram": [
           {
            "marker": {
             "pattern": {
              "fillmode": "overlay",
              "size": 10,
              "solidity": 0.2
             }
            },
            "type": "histogram"
           }
          ],
          "histogram2d": [
           {
            "colorbar": {
             "outlinewidth": 0,
             "ticks": ""
            },
            "colorscale": [
             [
              0,
              "#0d0887"
             ],
             [
              0.1111111111111111,
              "#46039f"
             ],
             [
              0.2222222222222222,
              "#7201a8"
             ],
             [
              0.3333333333333333,
              "#9c179e"
             ],
             [
              0.4444444444444444,
              "#bd3786"
             ],
             [
              0.5555555555555556,
              "#d8576b"
             ],
             [
              0.6666666666666666,
              "#ed7953"
             ],
             [
              0.7777777777777778,
              "#fb9f3a"
             ],
             [
              0.8888888888888888,
              "#fdca26"
             ],
             [
              1,
              "#f0f921"
             ]
            ],
            "type": "histogram2d"
           }
          ],
          "histogram2dcontour": [
           {
            "colorbar": {
             "outlinewidth": 0,
             "ticks": ""
            },
            "colorscale": [
             [
              0,
              "#0d0887"
             ],
             [
              0.1111111111111111,
              "#46039f"
             ],
             [
              0.2222222222222222,
              "#7201a8"
             ],
             [
              0.3333333333333333,
              "#9c179e"
             ],
             [
              0.4444444444444444,
              "#bd3786"
             ],
             [
              0.5555555555555556,
              "#d8576b"
             ],
             [
              0.6666666666666666,
              "#ed7953"
             ],
             [
              0.7777777777777778,
              "#fb9f3a"
             ],
             [
              0.8888888888888888,
              "#fdca26"
             ],
             [
              1,
              "#f0f921"
             ]
            ],
            "type": "histogram2dcontour"
           }
          ],
          "mesh3d": [
           {
            "colorbar": {
             "outlinewidth": 0,
             "ticks": ""
            },
            "type": "mesh3d"
           }
          ],
          "parcoords": [
           {
            "line": {
             "colorbar": {
              "outlinewidth": 0,
              "ticks": ""
             }
            },
            "type": "parcoords"
           }
          ],
          "pie": [
           {
            "automargin": true,
            "type": "pie"
           }
          ],
          "scatter": [
           {
            "fillpattern": {
             "fillmode": "overlay",
             "size": 10,
             "solidity": 0.2
            },
            "type": "scatter"
           }
          ],
          "scatter3d": [
           {
            "line": {
             "colorbar": {
              "outlinewidth": 0,
              "ticks": ""
             }
            },
            "marker": {
             "colorbar": {
              "outlinewidth": 0,
              "ticks": ""
             }
            },
            "type": "scatter3d"
           }
          ],
          "scattercarpet": [
           {
            "marker": {
             "colorbar": {
              "outlinewidth": 0,
              "ticks": ""
             }
            },
            "type": "scattercarpet"
           }
          ],
          "scattergeo": [
           {
            "marker": {
             "colorbar": {
              "outlinewidth": 0,
              "ticks": ""
             }
            },
            "type": "scattergeo"
           }
          ],
          "scattergl": [
           {
            "marker": {
             "colorbar": {
              "outlinewidth": 0,
              "ticks": ""
             }
            },
            "type": "scattergl"
           }
          ],
          "scattermapbox": [
           {
            "marker": {
             "colorbar": {
              "outlinewidth": 0,
              "ticks": ""
             }
            },
            "type": "scattermapbox"
           }
          ],
          "scatterpolar": [
           {
            "marker": {
             "colorbar": {
              "outlinewidth": 0,
              "ticks": ""
             }
            },
            "type": "scatterpolar"
           }
          ],
          "scatterpolargl": [
           {
            "marker": {
             "colorbar": {
              "outlinewidth": 0,
              "ticks": ""
             }
            },
            "type": "scatterpolargl"
           }
          ],
          "scatterternary": [
           {
            "marker": {
             "colorbar": {
              "outlinewidth": 0,
              "ticks": ""
             }
            },
            "type": "scatterternary"
           }
          ],
          "surface": [
           {
            "colorbar": {
             "outlinewidth": 0,
             "ticks": ""
            },
            "colorscale": [
             [
              0,
              "#0d0887"
             ],
             [
              0.1111111111111111,
              "#46039f"
             ],
             [
              0.2222222222222222,
              "#7201a8"
             ],
             [
              0.3333333333333333,
              "#9c179e"
             ],
             [
              0.4444444444444444,
              "#bd3786"
             ],
             [
              0.5555555555555556,
              "#d8576b"
             ],
             [
              0.6666666666666666,
              "#ed7953"
             ],
             [
              0.7777777777777778,
              "#fb9f3a"
             ],
             [
              0.8888888888888888,
              "#fdca26"
             ],
             [
              1,
              "#f0f921"
             ]
            ],
            "type": "surface"
           }
          ],
          "table": [
           {
            "cells": {
             "fill": {
              "color": "#EBF0F8"
             },
             "line": {
              "color": "white"
             }
            },
            "header": {
             "fill": {
              "color": "#C8D4E3"
             },
             "line": {
              "color": "white"
             }
            },
            "type": "table"
           }
          ]
         },
         "layout": {
          "annotationdefaults": {
           "arrowcolor": "#2a3f5f",
           "arrowhead": 0,
           "arrowwidth": 1
          },
          "autotypenumbers": "strict",
          "coloraxis": {
           "colorbar": {
            "outlinewidth": 0,
            "ticks": ""
           }
          },
          "colorscale": {
           "diverging": [
            [
             0,
             "#8e0152"
            ],
            [
             0.1,
             "#c51b7d"
            ],
            [
             0.2,
             "#de77ae"
            ],
            [
             0.3,
             "#f1b6da"
            ],
            [
             0.4,
             "#fde0ef"
            ],
            [
             0.5,
             "#f7f7f7"
            ],
            [
             0.6,
             "#e6f5d0"
            ],
            [
             0.7,
             "#b8e186"
            ],
            [
             0.8,
             "#7fbc41"
            ],
            [
             0.9,
             "#4d9221"
            ],
            [
             1,
             "#276419"
            ]
           ],
           "sequential": [
            [
             0,
             "#0d0887"
            ],
            [
             0.1111111111111111,
             "#46039f"
            ],
            [
             0.2222222222222222,
             "#7201a8"
            ],
            [
             0.3333333333333333,
             "#9c179e"
            ],
            [
             0.4444444444444444,
             "#bd3786"
            ],
            [
             0.5555555555555556,
             "#d8576b"
            ],
            [
             0.6666666666666666,
             "#ed7953"
            ],
            [
             0.7777777777777778,
             "#fb9f3a"
            ],
            [
             0.8888888888888888,
             "#fdca26"
            ],
            [
             1,
             "#f0f921"
            ]
           ],
           "sequentialminus": [
            [
             0,
             "#0d0887"
            ],
            [
             0.1111111111111111,
             "#46039f"
            ],
            [
             0.2222222222222222,
             "#7201a8"
            ],
            [
             0.3333333333333333,
             "#9c179e"
            ],
            [
             0.4444444444444444,
             "#bd3786"
            ],
            [
             0.5555555555555556,
             "#d8576b"
            ],
            [
             0.6666666666666666,
             "#ed7953"
            ],
            [
             0.7777777777777778,
             "#fb9f3a"
            ],
            [
             0.8888888888888888,
             "#fdca26"
            ],
            [
             1,
             "#f0f921"
            ]
           ]
          },
          "colorway": [
           "#636efa",
           "#EF553B",
           "#00cc96",
           "#ab63fa",
           "#FFA15A",
           "#19d3f3",
           "#FF6692",
           "#B6E880",
           "#FF97FF",
           "#FECB52"
          ],
          "font": {
           "color": "#2a3f5f"
          },
          "geo": {
           "bgcolor": "white",
           "lakecolor": "white",
           "landcolor": "#E5ECF6",
           "showlakes": true,
           "showland": true,
           "subunitcolor": "white"
          },
          "hoverlabel": {
           "align": "left"
          },
          "hovermode": "closest",
          "mapbox": {
           "style": "light"
          },
          "paper_bgcolor": "white",
          "plot_bgcolor": "#E5ECF6",
          "polar": {
           "angularaxis": {
            "gridcolor": "white",
            "linecolor": "white",
            "ticks": ""
           },
           "bgcolor": "#E5ECF6",
           "radialaxis": {
            "gridcolor": "white",
            "linecolor": "white",
            "ticks": ""
           }
          },
          "scene": {
           "xaxis": {
            "backgroundcolor": "#E5ECF6",
            "gridcolor": "white",
            "gridwidth": 2,
            "linecolor": "white",
            "showbackground": true,
            "ticks": "",
            "zerolinecolor": "white"
           },
           "yaxis": {
            "backgroundcolor": "#E5ECF6",
            "gridcolor": "white",
            "gridwidth": 2,
            "linecolor": "white",
            "showbackground": true,
            "ticks": "",
            "zerolinecolor": "white"
           },
           "zaxis": {
            "backgroundcolor": "#E5ECF6",
            "gridcolor": "white",
            "gridwidth": 2,
            "linecolor": "white",
            "showbackground": true,
            "ticks": "",
            "zerolinecolor": "white"
           }
          },
          "shapedefaults": {
           "line": {
            "color": "#2a3f5f"
           }
          },
          "ternary": {
           "aaxis": {
            "gridcolor": "white",
            "linecolor": "white",
            "ticks": ""
           },
           "baxis": {
            "gridcolor": "white",
            "linecolor": "white",
            "ticks": ""
           },
           "bgcolor": "#E5ECF6",
           "caxis": {
            "gridcolor": "white",
            "linecolor": "white",
            "ticks": ""
           }
          },
          "title": {
           "x": 0.05
          },
          "xaxis": {
           "automargin": true,
           "gridcolor": "white",
           "linecolor": "white",
           "ticks": "",
           "title": {
            "standoff": 15
           },
           "zerolinecolor": "white",
           "zerolinewidth": 2
          },
          "yaxis": {
           "automargin": true,
           "gridcolor": "white",
           "linecolor": "white",
           "ticks": "",
           "title": {
            "standoff": 15
           },
           "zerolinecolor": "white",
           "zerolinewidth": 2
          }
         }
        },
        "xaxis": {
         "anchor": "y",
         "domain": [
          0,
          1
         ],
         "title": {
          "text": "Brand"
         }
        },
        "yaxis": {
         "anchor": "x",
         "domain": [
          0,
          1
         ],
         "title": {
          "text": "count"
         }
        }
       }
      }
     },
     "metadata": {},
     "output_type": "display_data"
    }
   ],
   "source": [
    "brand_of_car = new_df.groupby('Brand')['Model'].count().reset_index().sort_values('Model',ascending = False).head(10)\n",
    "brand_of_car = brand_of_car.rename(columns = {'Model':'count'})\n",
    "fig = px.bar(brand_of_car, x='Brand', y='count', color='count')\n",
    "fig.show()"
   ]
  },
  {
   "cell_type": "code",
   "execution_count": 1030,
   "metadata": {},
   "outputs": [
    {
     "data": {
      "text/html": [
       "<div>\n",
       "<style scoped>\n",
       "    .dataframe tbody tr th:only-of-type {\n",
       "        vertical-align: middle;\n",
       "    }\n",
       "\n",
       "    .dataframe tbody tr th {\n",
       "        vertical-align: top;\n",
       "    }\n",
       "\n",
       "    .dataframe thead th {\n",
       "        text-align: right;\n",
       "    }\n",
       "</style>\n",
       "<table border=\"1\" class=\"dataframe\">\n",
       "  <thead>\n",
       "    <tr style=\"text-align: right;\">\n",
       "      <th></th>\n",
       "      <th>Brand</th>\n",
       "      <th>Model</th>\n",
       "      <th>Price</th>\n",
       "      <th>Moteur</th>\n",
       "      <th>Energie</th>\n",
       "      <th>Puissance maxi.</th>\n",
       "      <th>Boîte à vitesse</th>\n",
       "      <th>Conso. mixte</th>\n",
       "      <th>Vitesse maxi.</th>\n",
       "      <th>Nombre de places</th>\n",
       "      <th>...</th>\n",
       "      <th>Hauteur</th>\n",
       "      <th>Volume du réservoir</th>\n",
       "      <th>Volume de coffre</th>\n",
       "      <th>Airbags</th>\n",
       "      <th>ABS</th>\n",
       "      <th>ESP</th>\n",
       "      <th>Antipatinage</th>\n",
       "      <th>Climatisation</th>\n",
       "      <th>Système de navigation GPS</th>\n",
       "      <th>Bluetooth</th>\n",
       "    </tr>\n",
       "  </thead>\n",
       "  <tbody>\n",
       "    <tr>\n",
       "      <th>0</th>\n",
       "      <td>ALFA</td>\n",
       "      <td>ROMEO Giulia</td>\n",
       "      <td>455000.0</td>\n",
       "      <td>2.2 JTD 190 TCT</td>\n",
       "      <td>Diesel</td>\n",
       "      <td>190.0</td>\n",
       "      <td>Automatique</td>\n",
       "      <td>4.9</td>\n",
       "      <td>230.0</td>\n",
       "      <td>5</td>\n",
       "      <td>...</td>\n",
       "      <td>143.0</td>\n",
       "      <td>58.0</td>\n",
       "      <td>480.0</td>\n",
       "      <td>8.0</td>\n",
       "      <td>1</td>\n",
       "      <td>1</td>\n",
       "      <td>1</td>\n",
       "      <td>auto. Bi-zone</td>\n",
       "      <td>1</td>\n",
       "      <td>1</td>\n",
       "    </tr>\n",
       "    <tr>\n",
       "      <th>1</th>\n",
       "      <td>ALFA</td>\n",
       "      <td>ROMEO Giulia</td>\n",
       "      <td>510000.0</td>\n",
       "      <td>2.2 JTD 190 TCT</td>\n",
       "      <td>Diesel</td>\n",
       "      <td>190.0</td>\n",
       "      <td>Automatique</td>\n",
       "      <td>4.9</td>\n",
       "      <td>230.0</td>\n",
       "      <td>5</td>\n",
       "      <td>...</td>\n",
       "      <td>143.0</td>\n",
       "      <td>58.0</td>\n",
       "      <td>480.0</td>\n",
       "      <td>8.0</td>\n",
       "      <td>1</td>\n",
       "      <td>1</td>\n",
       "      <td>1</td>\n",
       "      <td>auto. Bi-zone</td>\n",
       "      <td>1</td>\n",
       "      <td>1</td>\n",
       "    </tr>\n",
       "    <tr>\n",
       "      <th>2</th>\n",
       "      <td>ALFA</td>\n",
       "      <td>ROMEO Giulia</td>\n",
       "      <td>1008000.0</td>\n",
       "      <td>2.9 V6 510 AT8</td>\n",
       "      <td>Essence</td>\n",
       "      <td>510.0</td>\n",
       "      <td>Automatique</td>\n",
       "      <td>8.5</td>\n",
       "      <td>307.0</td>\n",
       "      <td>5</td>\n",
       "      <td>...</td>\n",
       "      <td>143.0</td>\n",
       "      <td>58.0</td>\n",
       "      <td>480.0</td>\n",
       "      <td>8.0</td>\n",
       "      <td>1</td>\n",
       "      <td>1</td>\n",
       "      <td>1</td>\n",
       "      <td>auto. Bi-zone</td>\n",
       "      <td>1</td>\n",
       "      <td>1</td>\n",
       "    </tr>\n",
       "    <tr>\n",
       "      <th>3</th>\n",
       "      <td>ALFA</td>\n",
       "      <td>ROMEO Tonale</td>\n",
       "      <td>389000.0</td>\n",
       "      <td>1.6 Diesel 130 TCT6</td>\n",
       "      <td>Diesel</td>\n",
       "      <td>130.0</td>\n",
       "      <td>Automatique</td>\n",
       "      <td>5.9</td>\n",
       "      <td>194.0</td>\n",
       "      <td>5</td>\n",
       "      <td>...</td>\n",
       "      <td>160.0</td>\n",
       "      <td>55.0</td>\n",
       "      <td>500.0</td>\n",
       "      <td>6.0</td>\n",
       "      <td>1</td>\n",
       "      <td>1</td>\n",
       "      <td>1</td>\n",
       "      <td>auto. Bi-zone</td>\n",
       "      <td>0</td>\n",
       "      <td>1</td>\n",
       "    </tr>\n",
       "    <tr>\n",
       "      <th>4</th>\n",
       "      <td>ALFA</td>\n",
       "      <td>ROMEO Tonale</td>\n",
       "      <td>429000.0</td>\n",
       "      <td>1.6 Diesel 130 TCT6</td>\n",
       "      <td>Diesel</td>\n",
       "      <td>130.0</td>\n",
       "      <td>Automatique</td>\n",
       "      <td>5.9</td>\n",
       "      <td>194.0</td>\n",
       "      <td>5</td>\n",
       "      <td>...</td>\n",
       "      <td>160.0</td>\n",
       "      <td>55.0</td>\n",
       "      <td>500.0</td>\n",
       "      <td>6.0</td>\n",
       "      <td>1</td>\n",
       "      <td>1</td>\n",
       "      <td>1</td>\n",
       "      <td>auto. Bi-zone</td>\n",
       "      <td>0</td>\n",
       "      <td>1</td>\n",
       "    </tr>\n",
       "  </tbody>\n",
       "</table>\n",
       "<p>5 rows × 22 columns</p>\n",
       "</div>"
      ],
      "text/plain": [
       "  Brand         Model      Price               Moteur  Energie  \\\n",
       "0  ALFA  ROMEO Giulia   455000.0      2.2 JTD 190 TCT   Diesel   \n",
       "1  ALFA  ROMEO Giulia   510000.0      2.2 JTD 190 TCT   Diesel   \n",
       "2  ALFA  ROMEO Giulia  1008000.0       2.9 V6 510 AT8  Essence   \n",
       "3  ALFA  ROMEO Tonale   389000.0  1.6 Diesel 130 TCT6   Diesel   \n",
       "4  ALFA  ROMEO Tonale   429000.0  1.6 Diesel 130 TCT6   Diesel   \n",
       "\n",
       "   Puissance maxi. Boîte à vitesse  Conso. mixte  Vitesse maxi.  \\\n",
       "0            190.0     Automatique           4.9          230.0   \n",
       "1            190.0     Automatique           4.9          230.0   \n",
       "2            510.0     Automatique           8.5          307.0   \n",
       "3            130.0     Automatique           5.9          194.0   \n",
       "4            130.0     Automatique           5.9          194.0   \n",
       "\n",
       "   Nombre de places  ...  Hauteur  Volume du réservoir  Volume de coffre  \\\n",
       "0                 5  ...    143.0                 58.0             480.0   \n",
       "1                 5  ...    143.0                 58.0             480.0   \n",
       "2                 5  ...    143.0                 58.0             480.0   \n",
       "3                 5  ...    160.0                 55.0             500.0   \n",
       "4                 5  ...    160.0                 55.0             500.0   \n",
       "\n",
       "   Airbags  ABS  ESP  Antipatinage  Climatisation  Système de navigation GPS  \\\n",
       "0      8.0    1    1             1  auto. Bi-zone                          1   \n",
       "1      8.0    1    1             1  auto. Bi-zone                          1   \n",
       "2      8.0    1    1             1  auto. Bi-zone                          1   \n",
       "3      6.0    1    1             1  auto. Bi-zone                          0   \n",
       "4      6.0    1    1             1  auto. Bi-zone                          0   \n",
       "\n",
       "  Bluetooth  \n",
       "0         1  \n",
       "1         1  \n",
       "2         1  \n",
       "3         1  \n",
       "4         1  \n",
       "\n",
       "[5 rows x 22 columns]"
      ]
     },
     "execution_count": 1030,
     "metadata": {},
     "output_type": "execute_result"
    }
   ],
   "source": [
    "new_df.head()"
   ]
  },
  {
   "cell_type": "markdown",
   "metadata": {},
   "source": []
  },
  {
   "cell_type": "code",
   "execution_count": 1031,
   "metadata": {},
   "outputs": [
    {
     "name": "stderr",
     "output_type": "stream",
     "text": [
      "C:\\Users\\Unes\\AppData\\Local\\Temp\\ipykernel_10544\\3204415445.py:2: FutureWarning:\n",
      "\n",
      "The default value of numeric_only in DataFrame.corr is deprecated. In a future version, it will default to False. Select only valid columns or specify the value of numeric_only to silence this warning.\n",
      "\n"
     ]
    },
    {
     "data": {
      "image/png": "[encoded data removed]",
      "text/plain": [
       "<Figure size 1000x1000 with 2 Axes>"
      ]
     },
     "metadata": {},
     "output_type": "display_data"
    }
   ],
   "source": [
    "fig, ax = plt.subplots(figsize=(10,10))\n",
    "corr_matrix = new_df.corr()\n",
    "sns.heatmap(corr_matrix, cmap='coolwarm', annot=True, ax=ax)\n",
    "plt.show()"
   ]
  },
  {
   "cell_type": "code",
   "execution_count": 1032,
   "metadata": {},
   "outputs": [
    {
     "data": {
      "text/plain": [
       "auto. Bi-zone        423\n",
       "manuelle             151\n",
       "auto. Tri-zone       126\n",
       "auto.                 99\n",
       "auto. Quadri-zone     25\n",
       "non                   17\n",
       "semi-automatique       3\n",
       "auto. Multi-zone       1\n",
       "Name: Climatisation, dtype: int64"
      ]
     },
     "execution_count": 1032,
     "metadata": {},
     "output_type": "execute_result"
    }
   ],
   "source": [
    "\n",
    "new_df['Climatisation'].value_counts()"
   ]
  },
  {
   "cell_type": "code",
   "execution_count": 1033,
   "metadata": {},
   "outputs": [],
   "source": [
    "new_df.drop(columns='Climatisation',inplace=True) #most of the cars have climatisation soo we don't need to know if there is climatisation or not"
   ]
  },
  {
   "cell_type": "code",
   "execution_count": 1034,
   "metadata": {},
   "outputs": [
    {
     "data": {
      "text/plain": [
       "Diesel        520\n",
       "Essence       188\n",
       "Hybride       109\n",
       "Electrique     28\n",
       "Name: Energie, dtype: int64"
      ]
     },
     "execution_count": 1034,
     "metadata": {},
     "output_type": "execute_result"
    }
   ],
   "source": [
    "new_df['Energie'].value_counts()"
   ]
  },
  {
   "attachments": {},
   "cell_type": "markdown",
   "metadata": {},
   "source": [
    "**Model Building:**"
   ]
  },
  {
   "cell_type": "code",
   "execution_count": 1035,
   "metadata": {},
   "outputs": [],
   "source": [
    "from sklearn.preprocessing import OneHotEncoder\n",
    "from sklearn.preprocessing import StandardScaler\n",
    "from sklearn.model_selection import train_test_split, cross_val_score, GridSearchCV\n",
    "from sklearn.linear_model import LinearRegression\n",
    "from sklearn.metrics import mean_squared_error, mean_absolute_error\n",
    "from sklearn.tree import DecisionTreeRegressor\n",
    "from sklearn.ensemble import RandomForestRegressor\n",
    "from sklearn.decomposition import PCA\n",
    "\n"
   ]
  },
  {
   "cell_type": "code",
   "execution_count": 1036,
   "metadata": {},
   "outputs": [],
   "source": [
    "new_df['Energie'] = new_df['Energie'].map({'Diesel': 0, 'Essence': 1, 'Hybride':2, 'Electrique':3})\n"
   ]
  },
  {
   "cell_type": "code",
   "execution_count": 1037,
   "metadata": {},
   "outputs": [],
   "source": [
    "new_df['Boîte à vitesse'] = new_df['Boîte à vitesse'].map({'Automatique': 0, 'Manuelle': 1})\n"
   ]
  },
  {
   "cell_type": "code",
   "execution_count": 1038,
   "metadata": {},
   "outputs": [],
   "source": [
    "categorical_features = new_df[['Brand', 'Model']]\n",
    "numerical_features = new_df[['Price','Energie', 'Puissance maxi.',\n",
    "       'Boîte à vitesse', 'Conso. mixte', 'Vitesse maxi.', 'Nombre de places',\n",
    "       'Longueur', 'Largeur', 'Hauteur', 'Volume du réservoir',\n",
    "       'Volume de coffre', 'Airbags', 'ABS', 'ESP', 'Antipatinage',\n",
    "       'Système de navigation GPS', 'Bluetooth']]\n"
   ]
  },
  {
   "cell_type": "code",
   "execution_count": 1039,
   "metadata": {},
   "outputs": [
    {
     "data": {
      "text/html": [
       "<div>\n",
       "<style scoped>\n",
       "    .dataframe tbody tr th:only-of-type {\n",
       "        vertical-align: middle;\n",
       "    }\n",
       "\n",
       "    .dataframe tbody tr th {\n",
       "        vertical-align: top;\n",
       "    }\n",
       "\n",
       "    .dataframe thead th {\n",
       "        text-align: right;\n",
       "    }\n",
       "</style>\n",
       "<table border=\"1\" class=\"dataframe\">\n",
       "  <thead>\n",
       "    <tr style=\"text-align: right;\">\n",
       "      <th></th>\n",
       "      <th>Brand</th>\n",
       "      <th>Model</th>\n",
       "      <th>Price</th>\n",
       "      <th>Moteur</th>\n",
       "      <th>Energie</th>\n",
       "      <th>Puissance maxi.</th>\n",
       "      <th>Boîte à vitesse</th>\n",
       "      <th>Conso. mixte</th>\n",
       "      <th>Vitesse maxi.</th>\n",
       "      <th>Nombre de places</th>\n",
       "      <th>...</th>\n",
       "      <th>Largeur</th>\n",
       "      <th>Hauteur</th>\n",
       "      <th>Volume du réservoir</th>\n",
       "      <th>Volume de coffre</th>\n",
       "      <th>Airbags</th>\n",
       "      <th>ABS</th>\n",
       "      <th>ESP</th>\n",
       "      <th>Antipatinage</th>\n",
       "      <th>Système de navigation GPS</th>\n",
       "      <th>Bluetooth</th>\n",
       "    </tr>\n",
       "  </thead>\n",
       "  <tbody>\n",
       "    <tr>\n",
       "      <th>0</th>\n",
       "      <td>ALFA</td>\n",
       "      <td>ROMEO Giulia</td>\n",
       "      <td>455000.0</td>\n",
       "      <td>2.2 JTD 190 TCT</td>\n",
       "      <td>0</td>\n",
       "      <td>190.0</td>\n",
       "      <td>0</td>\n",
       "      <td>4.9</td>\n",
       "      <td>230.0</td>\n",
       "      <td>5</td>\n",
       "      <td>...</td>\n",
       "      <td>186.0</td>\n",
       "      <td>143.0</td>\n",
       "      <td>58.0</td>\n",
       "      <td>480.0</td>\n",
       "      <td>8.0</td>\n",
       "      <td>1</td>\n",
       "      <td>1</td>\n",
       "      <td>1</td>\n",
       "      <td>1</td>\n",
       "      <td>1</td>\n",
       "    </tr>\n",
       "    <tr>\n",
       "      <th>1</th>\n",
       "      <td>ALFA</td>\n",
       "      <td>ROMEO Giulia</td>\n",
       "      <td>510000.0</td>\n",
       "      <td>2.2 JTD 190 TCT</td>\n",
       "      <td>0</td>\n",
       "      <td>190.0</td>\n",
       "      <td>0</td>\n",
       "      <td>4.9</td>\n",
       "      <td>230.0</td>\n",
       "      <td>5</td>\n",
       "      <td>...</td>\n",
       "      <td>186.0</td>\n",
       "      <td>143.0</td>\n",
       "      <td>58.0</td>\n",
       "      <td>480.0</td>\n",
       "      <td>8.0</td>\n",
       "      <td>1</td>\n",
       "      <td>1</td>\n",
       "      <td>1</td>\n",
       "      <td>1</td>\n",
       "      <td>1</td>\n",
       "    </tr>\n",
       "    <tr>\n",
       "      <th>2</th>\n",
       "      <td>ALFA</td>\n",
       "      <td>ROMEO Giulia</td>\n",
       "      <td>1008000.0</td>\n",
       "      <td>2.9 V6 510 AT8</td>\n",
       "      <td>1</td>\n",
       "      <td>510.0</td>\n",
       "      <td>0</td>\n",
       "      <td>8.5</td>\n",
       "      <td>307.0</td>\n",
       "      <td>5</td>\n",
       "      <td>...</td>\n",
       "      <td>186.0</td>\n",
       "      <td>143.0</td>\n",
       "      <td>58.0</td>\n",
       "      <td>480.0</td>\n",
       "      <td>8.0</td>\n",
       "      <td>1</td>\n",
       "      <td>1</td>\n",
       "      <td>1</td>\n",
       "      <td>1</td>\n",
       "      <td>1</td>\n",
       "    </tr>\n",
       "    <tr>\n",
       "      <th>3</th>\n",
       "      <td>ALFA</td>\n",
       "      <td>ROMEO Tonale</td>\n",
       "      <td>389000.0</td>\n",
       "      <td>1.6 Diesel 130 TCT6</td>\n",
       "      <td>0</td>\n",
       "      <td>130.0</td>\n",
       "      <td>0</td>\n",
       "      <td>5.9</td>\n",
       "      <td>194.0</td>\n",
       "      <td>5</td>\n",
       "      <td>...</td>\n",
       "      <td>184.0</td>\n",
       "      <td>160.0</td>\n",
       "      <td>55.0</td>\n",
       "      <td>500.0</td>\n",
       "      <td>6.0</td>\n",
       "      <td>1</td>\n",
       "      <td>1</td>\n",
       "      <td>1</td>\n",
       "      <td>0</td>\n",
       "      <td>1</td>\n",
       "    </tr>\n",
       "    <tr>\n",
       "      <th>4</th>\n",
       "      <td>ALFA</td>\n",
       "      <td>ROMEO Tonale</td>\n",
       "      <td>429000.0</td>\n",
       "      <td>1.6 Diesel 130 TCT6</td>\n",
       "      <td>0</td>\n",
       "      <td>130.0</td>\n",
       "      <td>0</td>\n",
       "      <td>5.9</td>\n",
       "      <td>194.0</td>\n",
       "      <td>5</td>\n",
       "      <td>...</td>\n",
       "      <td>184.0</td>\n",
       "      <td>160.0</td>\n",
       "      <td>55.0</td>\n",
       "      <td>500.0</td>\n",
       "      <td>6.0</td>\n",
       "      <td>1</td>\n",
       "      <td>1</td>\n",
       "      <td>1</td>\n",
       "      <td>0</td>\n",
       "      <td>1</td>\n",
       "    </tr>\n",
       "  </tbody>\n",
       "</table>\n",
       "<p>5 rows × 21 columns</p>\n",
       "</div>"
      ],
      "text/plain": [
       "  Brand         Model      Price               Moteur  Energie  \\\n",
       "0  ALFA  ROMEO Giulia   455000.0      2.2 JTD 190 TCT        0   \n",
       "1  ALFA  ROMEO Giulia   510000.0      2.2 JTD 190 TCT        0   \n",
       "2  ALFA  ROMEO Giulia  1008000.0       2.9 V6 510 AT8        1   \n",
       "3  ALFA  ROMEO Tonale   389000.0  1.6 Diesel 130 TCT6        0   \n",
       "4  ALFA  ROMEO Tonale   429000.0  1.6 Diesel 130 TCT6        0   \n",
       "\n",
       "   Puissance maxi.  Boîte à vitesse  Conso. mixte  Vitesse maxi.  \\\n",
       "0            190.0                0           4.9          230.0   \n",
       "1            190.0                0           4.9          230.0   \n",
       "2            510.0                0           8.5          307.0   \n",
       "3            130.0                0           5.9          194.0   \n",
       "4            130.0                0           5.9          194.0   \n",
       "\n",
       "   Nombre de places  ...  Largeur  Hauteur  Volume du réservoir  \\\n",
       "0                 5  ...    186.0    143.0                 58.0   \n",
       "1                 5  ...    186.0    143.0                 58.0   \n",
       "2                 5  ...    186.0    143.0                 58.0   \n",
       "3                 5  ...    184.0    160.0                 55.0   \n",
       "4                 5  ...    184.0    160.0                 55.0   \n",
       "\n",
       "   Volume de coffre  Airbags  ABS  ESP  Antipatinage  \\\n",
       "0             480.0      8.0    1    1             1   \n",
       "1             480.0      8.0    1    1             1   \n",
       "2             480.0      8.0    1    1             1   \n",
       "3             500.0      6.0    1    1             1   \n",
       "4             500.0      6.0    1    1             1   \n",
       "\n",
       "   Système de navigation GPS  Bluetooth  \n",
       "0                          1          1  \n",
       "1                          1          1  \n",
       "2                          1          1  \n",
       "3                          0          1  \n",
       "4                          0          1  \n",
       "\n",
       "[5 rows x 21 columns]"
      ]
     },
     "execution_count": 1039,
     "metadata": {},
     "output_type": "execute_result"
    }
   ],
   "source": [
    "new_df.head()\n",
    "#new_df.drop(columns='Moteur', inplace=True)"
   ]
  },
  {
   "cell_type": "code",
   "execution_count": 1040,
   "metadata": {},
   "outputs": [],
   "source": [
    "#without one hot encodding\n",
    "y1 = numerical_features['Price']\n",
    "X1 = numerical_features.drop('Price',axis=1)\n",
    "X_train, X_test, y_train, y_test = train_test_split(X1, y1, test_size=0.2, random_state=1)\n"
   ]
  },
  {
   "cell_type": "code",
   "execution_count": 1041,
   "metadata": {},
   "outputs": [
    {
     "data": {
      "text/html": [
       "<style>#sk-container-id-76 {color: black;background-color: white;}#sk-container-id-76 pre{padding: 0;}#sk-container-id-76 div.sk-toggleable {background-color: white;}#sk-container-id-76 label.sk-toggleable__label {cursor: pointer;display: block;width: 100%;margin-bottom: 0;padding: 0.3em;box-sizing: border-box;text-align: center;}#sk-container-id-76 label.sk-toggleable__label-arrow:before {content: \"▸\";float: left;margin-right: 0.25em;color: #696969;}#sk-container-id-76 label.sk-toggleable__label-arrow:hover:before {color: black;}#sk-container-id-76 div.sk-estimator:hover label.sk-toggleable__label-arrow:before {color: black;}#sk-container-id-76 div.sk-toggleable__content {max-height: 0;max-width: 0;overflow: hidden;text-align: left;background-color: #f0f8ff;}#sk-container-id-76 div.sk-toggleable__content pre {margin: 0.2em;color: black;border-radius: 0.25em;background-color: #f0f8ff;}#sk-container-id-76 input.sk-toggleable__control:checked~div.sk-toggleable__content {max-height: 200px;max-width: 100%;overflow: auto;}#sk-container-id-76 input.sk-toggleable__control:checked~label.sk-toggleable__label-arrow:before {content: \"▾\";}#sk-container-id-76 div.sk-estimator input.sk-toggleable__control:checked~label.sk-toggleable__label {background-color: #d4ebff;}#sk-container-id-76 div.sk-label input.sk-toggleable__control:checked~label.sk-toggleable__label {background-color: #d4ebff;}#sk-container-id-76 input.sk-hidden--visually {border: 0;clip: rect(1px 1px 1px 1px);clip: rect(1px, 1px, 1px, 1px);height: 1px;margin: -1px;overflow: hidden;padding: 0;position: absolute;width: 1px;}#sk-container-id-76 div.sk-estimator {font-family: monospace;background-color: #f0f8ff;border: 1px dotted black;border-radius: 0.25em;box-sizing: border-box;margin-bottom: 0.5em;}#sk-container-id-76 div.sk-estimator:hover {background-color: #d4ebff;}#sk-container-id-76 div.sk-parallel-item::after {content: \"\";width: 100%;border-bottom: 1px solid gray;flex-grow: 1;}#sk-container-id-76 div.sk-label:hover label.sk-toggleable__label {background-color: #d4ebff;}#sk-container-id-76 div.sk-serial::before {content: \"\";position: absolute;border-left: 1px solid gray;box-sizing: border-box;top: 0;bottom: 0;left: 50%;z-index: 0;}#sk-container-id-76 div.sk-serial {display: flex;flex-direction: column;align-items: center;background-color: white;padding-right: 0.2em;padding-left: 0.2em;position: relative;}#sk-container-id-76 div.sk-item {position: relative;z-index: 1;}#sk-container-id-76 div.sk-parallel {display: flex;align-items: stretch;justify-content: center;background-color: white;position: relative;}#sk-container-id-76 div.sk-item::before, #sk-container-id-76 div.sk-parallel-item::before {content: \"\";position: absolute;border-left: 1px solid gray;box-sizing: border-box;top: 0;bottom: 0;left: 50%;z-index: -1;}#sk-container-id-76 div.sk-parallel-item {display: flex;flex-direction: column;z-index: 1;position: relative;background-color: white;}#sk-container-id-76 div.sk-parallel-item:first-child::after {align-self: flex-end;width: 50%;}#sk-container-id-76 div.sk-parallel-item:last-child::after {align-self: flex-start;width: 50%;}#sk-container-id-76 div.sk-parallel-item:only-child::after {width: 0;}#sk-container-id-76 div.sk-dashed-wrapped {border: 1px dashed gray;margin: 0 0.4em 0.5em 0.4em;box-sizing: border-box;padding-bottom: 0.4em;background-color: white;}#sk-container-id-76 div.sk-label label {font-family: monospace;font-weight: bold;display: inline-block;line-height: 1.2em;}#sk-container-id-76 div.sk-label-container {text-align: center;}#sk-container-id-76 div.sk-container {/* jupyter's `normalize.less` sets `[hidden] { display: none; }` but bootstrap.min.css set `[hidden] { display: none !important; }` so we also need the `!important` here to be able to override the default hidden behavior on the sphinx rendered scikit-learn.org. See: https://github.com/scikit-learn/scikit-learn/issues/21755 */display: inline-block !important;position: relative;}#sk-container-id-76 div.sk-text-repr-fallback {display: none;}</style><div id=\"sk-container-id-76\" class=\"sk-top-container\"><div class=\"sk-text-repr-fallback\"><pre>LinearRegression()</pre><b>In a Jupyter environment, please rerun this cell to show the HTML representation or trust the notebook. <br />On GitHub, the HTML representation is unable to render, please try loading this page with nbviewer.org.</b></div><div class=\"sk-container\" hidden><div class=\"sk-item\"><div class=\"sk-estimator sk-toggleable\"><input class=\"sk-toggleable__control sk-hidden--visually\" id=\"sk-estimator-id-76\" type=\"checkbox\" checked><label for=\"sk-estimator-id-76\" class=\"sk-toggleable__label sk-toggleable__label-arrow\">LinearRegression</label><div class=\"sk-toggleable__content\"><pre>LinearRegression()</pre></div></div></div></div></div>"
      ],
      "text/plain": [
       "LinearRegression()"
      ]
     },
     "execution_count": 1041,
     "metadata": {},
     "output_type": "execute_result"
    }
   ],
   "source": [
    "lr = LinearRegression()\n",
    "lr.fit(X_train, y_train)"
   ]
  },
  {
   "cell_type": "code",
   "execution_count": 1042,
   "metadata": {},
   "outputs": [],
   "source": [
    "#scaler = StandardScaler()\n",
    "new_df.drop(columns='Moteur', inplace=True)"
   ]
  },
  {
   "cell_type": "code",
   "execution_count": 1043,
   "metadata": {},
   "outputs": [
    {
     "name": "stdout",
     "output_type": "stream",
     "text": [
      "Root Mean squared error: 164449.50316766422\n"
     ]
    }
   ],
   "source": [
    "y_pred = lr.predict(X_test)\n",
    "\n",
    "\n",
    "# Calculate the mean squared error of the predictions\n",
    "lin_mse = mean_squared_error(y_test, y_pred)\n",
    "lin_rmse = np.sqrt(lin_mse)\n",
    "lin_rmse\n",
    "print(\"Root Mean squared error:\", lin_rmse)"
   ]
  },
  {
   "cell_type": "code",
   "execution_count": 1044,
   "metadata": {},
   "outputs": [
    {
     "data": {
      "text/html": [
       "<style>#sk-container-id-77 {color: black;background-color: white;}#sk-container-id-77 pre{padding: 0;}#sk-container-id-77 div.sk-toggleable {background-color: white;}#sk-container-id-77 label.sk-toggleable__label {cursor: pointer;display: block;width: 100%;margin-bottom: 0;padding: 0.3em;box-sizing: border-box;text-align: center;}#sk-container-id-77 label.sk-toggleable__label-arrow:before {content: \"▸\";float: left;margin-right: 0.25em;color: #696969;}#sk-container-id-77 label.sk-toggleable__label-arrow:hover:before {color: black;}#sk-container-id-77 div.sk-estimator:hover label.sk-toggleable__label-arrow:before {color: black;}#sk-container-id-77 div.sk-toggleable__content {max-height: 0;max-width: 0;overflow: hidden;text-align: left;background-color: #f0f8ff;}#sk-container-id-77 div.sk-toggleable__content pre {margin: 0.2em;color: black;border-radius: 0.25em;background-color: #f0f8ff;}#sk-container-id-77 input.sk-toggleable__control:checked~div.sk-toggleable__content {max-height: 200px;max-width: 100%;overflow: auto;}#sk-container-id-77 input.sk-toggleable__control:checked~label.sk-toggleable__label-arrow:before {content: \"▾\";}#sk-container-id-77 div.sk-estimator input.sk-toggleable__control:checked~label.sk-toggleable__label {background-color: #d4ebff;}#sk-container-id-77 div.sk-label input.sk-toggleable__control:checked~label.sk-toggleable__label {background-color: #d4ebff;}#sk-container-id-77 input.sk-hidden--visually {border: 0;clip: rect(1px 1px 1px 1px);clip: rect(1px, 1px, 1px, 1px);height: 1px;margin: -1px;overflow: hidden;padding: 0;position: absolute;width: 1px;}#sk-container-id-77 div.sk-estimator {font-family: monospace;background-color: #f0f8ff;border: 1px dotted black;border-radius: 0.25em;box-sizing: border-box;margin-bottom: 0.5em;}#sk-container-id-77 div.sk-estimator:hover {background-color: #d4ebff;}#sk-container-id-77 div.sk-parallel-item::after {content: \"\";width: 100%;border-bottom: 1px solid gray;flex-grow: 1;}#sk-container-id-77 div.sk-label:hover label.sk-toggleable__label {background-color: #d4ebff;}#sk-container-id-77 div.sk-serial::before {content: \"\";position: absolute;border-left: 1px solid gray;box-sizing: border-box;top: 0;bottom: 0;left: 50%;z-index: 0;}#sk-container-id-77 div.sk-serial {display: flex;flex-direction: column;align-items: center;background-color: white;padding-right: 0.2em;padding-left: 0.2em;position: relative;}#sk-container-id-77 div.sk-item {position: relative;z-index: 1;}#sk-container-id-77 div.sk-parallel {display: flex;align-items: stretch;justify-content: center;background-color: white;position: relative;}#sk-container-id-77 div.sk-item::before, #sk-container-id-77 div.sk-parallel-item::before {content: \"\";position: absolute;border-left: 1px solid gray;box-sizing: border-box;top: 0;bottom: 0;left: 50%;z-index: -1;}#sk-container-id-77 div.sk-parallel-item {display: flex;flex-direction: column;z-index: 1;position: relative;background-color: white;}#sk-container-id-77 div.sk-parallel-item:first-child::after {align-self: flex-end;width: 50%;}#sk-container-id-77 div.sk-parallel-item:last-child::after {align-self: flex-start;width: 50%;}#sk-container-id-77 div.sk-parallel-item:only-child::after {width: 0;}#sk-container-id-77 div.sk-dashed-wrapped {border: 1px dashed gray;margin: 0 0.4em 0.5em 0.4em;box-sizing: border-box;padding-bottom: 0.4em;background-color: white;}#sk-container-id-77 div.sk-label label {font-family: monospace;font-weight: bold;display: inline-block;line-height: 1.2em;}#sk-container-id-77 div.sk-label-container {text-align: center;}#sk-container-id-77 div.sk-container {/* jupyter's `normalize.less` sets `[hidden] { display: none; }` but bootstrap.min.css set `[hidden] { display: none !important; }` so we also need the `!important` here to be able to override the default hidden behavior on the sphinx rendered scikit-learn.org. See: https://github.com/scikit-learn/scikit-learn/issues/21755 */display: inline-block !important;position: relative;}#sk-container-id-77 div.sk-text-repr-fallback {display: none;}</style><div id=\"sk-container-id-77\" class=\"sk-top-container\"><div class=\"sk-text-repr-fallback\"><pre>DecisionTreeRegressor(random_state=123)</pre><b>In a Jupyter environment, please rerun this cell to show the HTML representation or trust the notebook. <br />On GitHub, the HTML representation is unable to render, please try loading this page with nbviewer.org.</b></div><div class=\"sk-container\" hidden><div class=\"sk-item\"><div class=\"sk-estimator sk-toggleable\"><input class=\"sk-toggleable__control sk-hidden--visually\" id=\"sk-estimator-id-77\" type=\"checkbox\" checked><label for=\"sk-estimator-id-77\" class=\"sk-toggleable__label sk-toggleable__label-arrow\">DecisionTreeRegressor</label><div class=\"sk-toggleable__content\"><pre>DecisionTreeRegressor(random_state=123)</pre></div></div></div></div></div>"
      ],
      "text/plain": [
       "DecisionTreeRegressor(random_state=123)"
      ]
     },
     "execution_count": 1044,
     "metadata": {},
     "output_type": "execute_result"
    }
   ],
   "source": [
    "tree_reg = DecisionTreeRegressor(random_state = 123)\n",
    "\n",
    "tree_reg.fit(X_train, y_train)"
   ]
  },
  {
   "cell_type": "code",
   "execution_count": 1045,
   "metadata": {},
   "outputs": [
    {
     "name": "stdout",
     "output_type": "stream",
     "text": [
      "Root Mean squared error: 42484.565758993886\n"
     ]
    }
   ],
   "source": [
    "tree_predictions = tree_reg.predict(X_train)\n",
    "tree_mse = mean_squared_error(y_train, tree_predictions)\n",
    "tree_rmse = np.sqrt(tree_mse)\n",
    "tree_rmse\n",
    "print(\"Root Mean squared error:\", tree_rmse)"
   ]
  },
  {
   "attachments": {},
   "cell_type": "markdown",
   "metadata": {},
   "source": [
    "**After onehotencoding and norrmalisation**:"
   ]
  },
  {
   "cell_type": "code",
   "execution_count": 1046,
   "metadata": {},
   "outputs": [
    {
     "name": "stderr",
     "output_type": "stream",
     "text": [
      "c:\\Users\\Unes\\AppData\\Local\\Programs\\Python\\Python311\\Lib\\site-packages\\sklearn\\preprocessing\\_encoders.py:808: FutureWarning:\n",
      "\n",
      "`sparse` was renamed to `sparse_output` in version 1.2 and will be removed in 1.4. `sparse_output` is ignored unless you leave `sparse` to its default value.\n",
      "\n"
     ]
    },
    {
     "data": {
      "text/html": [
       "<div>\n",
       "<style scoped>\n",
       "    .dataframe tbody tr th:only-of-type {\n",
       "        vertical-align: middle;\n",
       "    }\n",
       "\n",
       "    .dataframe tbody tr th {\n",
       "        vertical-align: top;\n",
       "    }\n",
       "\n",
       "    .dataframe thead th {\n",
       "        text-align: right;\n",
       "    }\n",
       "</style>\n",
       "<table border=\"1\" class=\"dataframe\">\n",
       "  <thead>\n",
       "    <tr style=\"text-align: right;\">\n",
       "      <th></th>\n",
       "      <th>Price</th>\n",
       "      <th>Energie</th>\n",
       "      <th>Puissance maxi.</th>\n",
       "      <th>Boîte à vitesse</th>\n",
       "      <th>Conso. mixte</th>\n",
       "      <th>Vitesse maxi.</th>\n",
       "      <th>Nombre de places</th>\n",
       "      <th>Longueur</th>\n",
       "      <th>Largeur</th>\n",
       "      <th>Hauteur</th>\n",
       "      <th>...</th>\n",
       "      <th>Model_XLV</th>\n",
       "      <th>Model_Yaris</th>\n",
       "      <th>Model_Yaris Cross</th>\n",
       "      <th>Model_e-Tron</th>\n",
       "      <th>Model_e-Tron Sportback</th>\n",
       "      <th>Model_i10</th>\n",
       "      <th>Model_i20</th>\n",
       "      <th>Model_i30</th>\n",
       "      <th>Model_i4</th>\n",
       "      <th>Model_iX</th>\n",
       "    </tr>\n",
       "  </thead>\n",
       "  <tbody>\n",
       "    <tr>\n",
       "      <th>0</th>\n",
       "      <td>455000.0</td>\n",
       "      <td>0.0</td>\n",
       "      <td>190.0</td>\n",
       "      <td>0.0</td>\n",
       "      <td>4.9</td>\n",
       "      <td>230.0</td>\n",
       "      <td>5.0</td>\n",
       "      <td>464.0</td>\n",
       "      <td>186.0</td>\n",
       "      <td>143.0</td>\n",
       "      <td>...</td>\n",
       "      <td>0.0</td>\n",
       "      <td>0.0</td>\n",
       "      <td>0.0</td>\n",
       "      <td>0.0</td>\n",
       "      <td>0.0</td>\n",
       "      <td>0.0</td>\n",
       "      <td>0.0</td>\n",
       "      <td>0.0</td>\n",
       "      <td>0.0</td>\n",
       "      <td>0.0</td>\n",
       "    </tr>\n",
       "    <tr>\n",
       "      <th>1</th>\n",
       "      <td>510000.0</td>\n",
       "      <td>0.0</td>\n",
       "      <td>190.0</td>\n",
       "      <td>0.0</td>\n",
       "      <td>4.9</td>\n",
       "      <td>230.0</td>\n",
       "      <td>5.0</td>\n",
       "      <td>464.0</td>\n",
       "      <td>186.0</td>\n",
       "      <td>143.0</td>\n",
       "      <td>...</td>\n",
       "      <td>0.0</td>\n",
       "      <td>0.0</td>\n",
       "      <td>0.0</td>\n",
       "      <td>0.0</td>\n",
       "      <td>0.0</td>\n",
       "      <td>0.0</td>\n",
       "      <td>0.0</td>\n",
       "      <td>0.0</td>\n",
       "      <td>0.0</td>\n",
       "      <td>0.0</td>\n",
       "    </tr>\n",
       "    <tr>\n",
       "      <th>2</th>\n",
       "      <td>1008000.0</td>\n",
       "      <td>1.0</td>\n",
       "      <td>510.0</td>\n",
       "      <td>0.0</td>\n",
       "      <td>8.5</td>\n",
       "      <td>307.0</td>\n",
       "      <td>5.0</td>\n",
       "      <td>464.0</td>\n",
       "      <td>186.0</td>\n",
       "      <td>143.0</td>\n",
       "      <td>...</td>\n",
       "      <td>0.0</td>\n",
       "      <td>0.0</td>\n",
       "      <td>0.0</td>\n",
       "      <td>0.0</td>\n",
       "      <td>0.0</td>\n",
       "      <td>0.0</td>\n",
       "      <td>0.0</td>\n",
       "      <td>0.0</td>\n",
       "      <td>0.0</td>\n",
       "      <td>0.0</td>\n",
       "    </tr>\n",
       "    <tr>\n",
       "      <th>3</th>\n",
       "      <td>389000.0</td>\n",
       "      <td>0.0</td>\n",
       "      <td>130.0</td>\n",
       "      <td>0.0</td>\n",
       "      <td>5.9</td>\n",
       "      <td>194.0</td>\n",
       "      <td>5.0</td>\n",
       "      <td>453.0</td>\n",
       "      <td>184.0</td>\n",
       "      <td>160.0</td>\n",
       "      <td>...</td>\n",
       "      <td>0.0</td>\n",
       "      <td>0.0</td>\n",
       "      <td>0.0</td>\n",
       "      <td>0.0</td>\n",
       "      <td>0.0</td>\n",
       "      <td>0.0</td>\n",
       "      <td>0.0</td>\n",
       "      <td>0.0</td>\n",
       "      <td>0.0</td>\n",
       "      <td>0.0</td>\n",
       "    </tr>\n",
       "    <tr>\n",
       "      <th>4</th>\n",
       "      <td>429000.0</td>\n",
       "      <td>0.0</td>\n",
       "      <td>130.0</td>\n",
       "      <td>0.0</td>\n",
       "      <td>5.9</td>\n",
       "      <td>194.0</td>\n",
       "      <td>5.0</td>\n",
       "      <td>453.0</td>\n",
       "      <td>184.0</td>\n",
       "      <td>160.0</td>\n",
       "      <td>...</td>\n",
       "      <td>0.0</td>\n",
       "      <td>0.0</td>\n",
       "      <td>0.0</td>\n",
       "      <td>0.0</td>\n",
       "      <td>0.0</td>\n",
       "      <td>0.0</td>\n",
       "      <td>0.0</td>\n",
       "      <td>0.0</td>\n",
       "      <td>0.0</td>\n",
       "      <td>0.0</td>\n",
       "    </tr>\n",
       "  </tbody>\n",
       "</table>\n",
       "<p>5 rows × 276 columns</p>\n",
       "</div>"
      ],
      "text/plain": [
       "       Price  Energie  Puissance maxi.  Boîte à vitesse  Conso. mixte  \\\n",
       "0   455000.0      0.0            190.0              0.0           4.9   \n",
       "1   510000.0      0.0            190.0              0.0           4.9   \n",
       "2  1008000.0      1.0            510.0              0.0           8.5   \n",
       "3   389000.0      0.0            130.0              0.0           5.9   \n",
       "4   429000.0      0.0            130.0              0.0           5.9   \n",
       "\n",
       "   Vitesse maxi.  Nombre de places  Longueur  Largeur  Hauteur  ...  \\\n",
       "0          230.0               5.0     464.0    186.0    143.0  ...   \n",
       "1          230.0               5.0     464.0    186.0    143.0  ...   \n",
       "2          307.0               5.0     464.0    186.0    143.0  ...   \n",
       "3          194.0               5.0     453.0    184.0    160.0  ...   \n",
       "4          194.0               5.0     453.0    184.0    160.0  ...   \n",
       "\n",
       "   Model_XLV  Model_Yaris  Model_Yaris Cross  Model_e-Tron  \\\n",
       "0        0.0          0.0                0.0           0.0   \n",
       "1        0.0          0.0                0.0           0.0   \n",
       "2        0.0          0.0                0.0           0.0   \n",
       "3        0.0          0.0                0.0           0.0   \n",
       "4        0.0          0.0                0.0           0.0   \n",
       "\n",
       "   Model_e-Tron Sportback  Model_i10  Model_i20  Model_i30  Model_i4  Model_iX  \n",
       "0                     0.0        0.0        0.0        0.0       0.0       0.0  \n",
       "1                     0.0        0.0        0.0        0.0       0.0       0.0  \n",
       "2                     0.0        0.0        0.0        0.0       0.0       0.0  \n",
       "3                     0.0        0.0        0.0        0.0       0.0       0.0  \n",
       "4                     0.0        0.0        0.0        0.0       0.0       0.0  \n",
       "\n",
       "[5 rows x 276 columns]"
      ]
     },
     "execution_count": 1046,
     "metadata": {},
     "output_type": "execute_result"
    }
   ],
   "source": [
    "enc = OneHotEncoder(sparse=False)\n",
    "columns_to_one_hot = ['Brand', 'Model']\n",
    "encoded_array = enc.fit_transform(new_df.loc[:,columns_to_one_hot])\n",
    "df_encoded = pd.DataFrame(encoded_array,columns=enc.get_feature_names_out() )\n",
    "df_sklearn_encoded = pd.concat([new_df,df_encoded],axis=1)\n",
    "df_sklearn_encoded.drop(labels= columns_to_one_hot,axis=1,inplace=True)\n",
    "df_sklearn_encoded\n",
    "df_sklearn_encoded.dropna(inplace=True)\n",
    "df_sklearn_encoded.head()\n",
    "\n",
    "\n"
   ]
  },
  {
   "cell_type": "code",
   "execution_count": 1056,
   "metadata": {},
   "outputs": [
    {
     "data": {
      "text/plain": [
       "array([ True,  True,  True,  True,  True,  True,  True,  True,  True,\n",
       "        True,  True,  True,  True, False, False,  True,  True, False,\n",
       "       False, False,  True, False, False, False, False, False, False,\n",
       "       False, False, False, False, False, False, False, False, False,\n",
       "       False, False,  True, False, False, False, False, False, False,\n",
       "       False, False, False, False, False, False, False, False, False,\n",
       "       False, False, False, False, False, False, False, False, False,\n",
       "       False, False, False, False, False, False, False, False, False,\n",
       "       False, False, False, False, False, False, False, False, False,\n",
       "       False, False, False, False, False, False, False, False, False,\n",
       "       False, False, False, False, False, False, False, False, False,\n",
       "       False, False, False, False, False, False, False, False, False,\n",
       "       False, False, False, False, False, False, False, False, False,\n",
       "       False, False, False, False, False, False, False, False, False,\n",
       "       False, False, False, False, False, False, False, False, False,\n",
       "       False, False, False, False, False, False, False, False, False,\n",
       "       False, False, False, False, False, False, False, False, False,\n",
       "       False, False, False, False, False, False, False, False, False,\n",
       "       False, False, False, False, False, False, False, False, False,\n",
       "       False, False, False, False, False, False, False, False, False,\n",
       "       False, False, False, False, False, False, False, False, False,\n",
       "       False, False, False, False, False, False, False, False, False,\n",
       "       False, False, False, False, False, False, False, False, False,\n",
       "       False, False, False, False, False, False, False, False, False,\n",
       "       False, False, False, False, False, False, False, False, False,\n",
       "       False, False, False, False, False, False, False, False, False,\n",
       "       False, False, False, False, False, False, False, False, False,\n",
       "       False, False, False, False, False, False, False, False, False,\n",
       "       False, False, False, False, False, False, False, False, False,\n",
       "       False, False, False, False, False, False, False, False, False,\n",
       "       False, False, False, False, False, False])"
      ]
     },
     "execution_count": 1056,
     "metadata": {},
     "output_type": "execute_result"
    }
   ],
   "source": [
    "from sklearn.feature_selection import VarianceThreshold\n",
    "variance = VarianceThreshold(threshold = (.9 * (1 - .9))) \n",
    "variance.fit(df_sklearn_encoded) \n",
    "variance.get_support()"
   ]
  },
  {
   "attachments": {},
   "cell_type": "markdown",
   "metadata": {},
   "source": [
    "**PCA:**\n"
   ]
  },
  {
   "cell_type": "code",
   "execution_count": 1067,
   "metadata": {},
   "outputs": [],
   "source": [
    "y = df_sklearn_encoded['Price']\n",
    "X = df_sklearn_encoded.drop(['Price', 'ABS', 'ESP', 'Bluetooth'],axis=1) #contain also dropping of cols wich have minimal variance"
   ]
  },
  {
   "cell_type": "code",
   "execution_count": 1068,
   "metadata": {},
   "outputs": [],
   "source": [
    "scaler = StandardScaler()\n",
    "X = scaler.fit_transform(X)"
   ]
  },
  {
   "cell_type": "code",
   "execution_count": 1069,
   "metadata": {},
   "outputs": [],
   "source": [
    "pca = PCA(n_components=272)\n",
    "pca.fit(X)\n",
    "X_pca = pca.transform(X)"
   ]
  },
  {
   "cell_type": "code",
   "execution_count": 1070,
   "metadata": {},
   "outputs": [],
   "source": [
    "X_train, X_test, y_train, y_test = train_test_split(X, y,test_size=0.2,random_state=42)"
   ]
  },
  {
   "cell_type": "code",
   "execution_count": 1071,
   "metadata": {},
   "outputs": [],
   "source": [
    "scaler = StandardScaler()\n",
    "x_train = scaler.fit_transform(X_train)\n",
    "X_test = scaler.transform(X_test)"
   ]
  },
  {
   "cell_type": "code",
   "execution_count": 1072,
   "metadata": {},
   "outputs": [
    {
     "data": {
      "text/html": [
       "<style>#sk-container-id-84 {color: black;background-color: white;}#sk-container-id-84 pre{padding: 0;}#sk-container-id-84 div.sk-toggleable {background-color: white;}#sk-container-id-84 label.sk-toggleable__label {cursor: pointer;display: block;width: 100%;margin-bottom: 0;padding: 0.3em;box-sizing: border-box;text-align: center;}#sk-container-id-84 label.sk-toggleable__label-arrow:before {content: \"▸\";float: left;margin-right: 0.25em;color: #696969;}#sk-container-id-84 label.sk-toggleable__label-arrow:hover:before {color: black;}#sk-container-id-84 div.sk-estimator:hover label.sk-toggleable__label-arrow:before {color: black;}#sk-container-id-84 div.sk-toggleable__content {max-height: 0;max-width: 0;overflow: hidden;text-align: left;background-color: #f0f8ff;}#sk-container-id-84 div.sk-toggleable__content pre {margin: 0.2em;color: black;border-radius: 0.25em;background-color: #f0f8ff;}#sk-container-id-84 input.sk-toggleable__control:checked~div.sk-toggleable__content {max-height: 200px;max-width: 100%;overflow: auto;}#sk-container-id-84 input.sk-toggleable__control:checked~label.sk-toggleable__label-arrow:before {content: \"▾\";}#sk-container-id-84 div.sk-estimator input.sk-toggleable__control:checked~label.sk-toggleable__label {background-color: #d4ebff;}#sk-container-id-84 div.sk-label input.sk-toggleable__control:checked~label.sk-toggleable__label {background-color: #d4ebff;}#sk-container-id-84 input.sk-hidden--visually {border: 0;clip: rect(1px 1px 1px 1px);clip: rect(1px, 1px, 1px, 1px);height: 1px;margin: -1px;overflow: hidden;padding: 0;position: absolute;width: 1px;}#sk-container-id-84 div.sk-estimator {font-family: monospace;background-color: #f0f8ff;border: 1px dotted black;border-radius: 0.25em;box-sizing: border-box;margin-bottom: 0.5em;}#sk-container-id-84 div.sk-estimator:hover {background-color: #d4ebff;}#sk-container-id-84 div.sk-parallel-item::after {content: \"\";width: 100%;border-bottom: 1px solid gray;flex-grow: 1;}#sk-container-id-84 div.sk-label:hover label.sk-toggleable__label {background-color: #d4ebff;}#sk-container-id-84 div.sk-serial::before {content: \"\";position: absolute;border-left: 1px solid gray;box-sizing: border-box;top: 0;bottom: 0;left: 50%;z-index: 0;}#sk-container-id-84 div.sk-serial {display: flex;flex-direction: column;align-items: center;background-color: white;padding-right: 0.2em;padding-left: 0.2em;position: relative;}#sk-container-id-84 div.sk-item {position: relative;z-index: 1;}#sk-container-id-84 div.sk-parallel {display: flex;align-items: stretch;justify-content: center;background-color: white;position: relative;}#sk-container-id-84 div.sk-item::before, #sk-container-id-84 div.sk-parallel-item::before {content: \"\";position: absolute;border-left: 1px solid gray;box-sizing: border-box;top: 0;bottom: 0;left: 50%;z-index: -1;}#sk-container-id-84 div.sk-parallel-item {display: flex;flex-direction: column;z-index: 1;position: relative;background-color: white;}#sk-container-id-84 div.sk-parallel-item:first-child::after {align-self: flex-end;width: 50%;}#sk-container-id-84 div.sk-parallel-item:last-child::after {align-self: flex-start;width: 50%;}#sk-container-id-84 div.sk-parallel-item:only-child::after {width: 0;}#sk-container-id-84 div.sk-dashed-wrapped {border: 1px dashed gray;margin: 0 0.4em 0.5em 0.4em;box-sizing: border-box;padding-bottom: 0.4em;background-color: white;}#sk-container-id-84 div.sk-label label {font-family: monospace;font-weight: bold;display: inline-block;line-height: 1.2em;}#sk-container-id-84 div.sk-label-container {text-align: center;}#sk-container-id-84 div.sk-container {/* jupyter's `normalize.less` sets `[hidden] { display: none; }` but bootstrap.min.css set `[hidden] { display: none !important; }` so we also need the `!important` here to be able to override the default hidden behavior on the sphinx rendered scikit-learn.org. See: https://github.com/scikit-learn/scikit-learn/issues/21755 */display: inline-block !important;position: relative;}#sk-container-id-84 div.sk-text-repr-fallback {display: none;}</style><div id=\"sk-container-id-84\" class=\"sk-top-container\"><div class=\"sk-text-repr-fallback\"><pre>LinearRegression()</pre><b>In a Jupyter environment, please rerun this cell to show the HTML representation or trust the notebook. <br />On GitHub, the HTML representation is unable to render, please try loading this page with nbviewer.org.</b></div><div class=\"sk-container\" hidden><div class=\"sk-item\"><div class=\"sk-estimator sk-toggleable\"><input class=\"sk-toggleable__control sk-hidden--visually\" id=\"sk-estimator-id-84\" type=\"checkbox\" checked><label for=\"sk-estimator-id-84\" class=\"sk-toggleable__label sk-toggleable__label-arrow\">LinearRegression</label><div class=\"sk-toggleable__content\"><pre>LinearRegression()</pre></div></div></div></div></div>"
      ],
      "text/plain": [
       "LinearRegression()"
      ]
     },
     "execution_count": 1072,
     "metadata": {},
     "output_type": "execute_result"
    }
   ],
   "source": [
    "lr = LinearRegression()\n",
    "lr.fit(X_train, y_train)"
   ]
  },
  {
   "cell_type": "code",
   "execution_count": 1073,
   "metadata": {},
   "outputs": [
    {
     "name": "stdout",
     "output_type": "stream",
     "text": [
      "Root Mean squared error: 1.232815302109769e+19\n"
     ]
    }
   ],
   "source": [
    "y_pred = lr.predict(X_test)\n",
    "#y_pred = lr.predict(X_test)\n",
    "\n",
    "\n",
    "# Calculate the mean squared error of the predictions\n",
    "lin_mse = mean_squared_error(y_test, y_pred)\n",
    "lin_rmse = np.sqrt(lin_mse)\n",
    "lin_rmse\n",
    "print(\"Root Mean squared error:\", lin_rmse)"
   ]
  }
 ],
 "metadata": {
  "kernelspec": {
   "display_name": "Python 3",
   "language": "python",
   "name": "python3"
  },
  "language_info": {
   "codemirror_mode": {
    "name": "ipython",
    "version": 3
   },
   "file_extension": ".py",
   "mimetype": "text/x-python",
   "name": "python",
   "nbconvert_exporter": "python",
   "pygments_lexer": "ipython3",
   "version": "3.11.0"
  },
  "orig_nbformat": 4
 },
 "nbformat": 4,
 "nbformat_minor": 2
}
